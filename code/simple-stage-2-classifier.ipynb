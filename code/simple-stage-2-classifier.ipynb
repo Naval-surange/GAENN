{
 "cells": [
  {
   "cell_type": "code",
   "execution_count": 1,
   "metadata": {
    "colab": {
     "base_uri": "https://localhost:8080/"
    },
    "id": "o-_pm_pztrnu",
    "outputId": "23e8447d-6071-40c5-9804-69e0ea2a5478"
   },
   "outputs": [],
   "source": [
    "# !pip install mdtraj ase nglview"
   ]
  },
  {
   "cell_type": "code",
   "execution_count": 2,
   "metadata": {
    "colab": {
     "base_uri": "https://localhost:8080/"
    },
    "id": "ODY_qKINuV4n",
    "outputId": "ae0aefdd-e526-4a2a-dda3-1b0c74ddede4"
   },
   "outputs": [],
   "source": [
    "# import os\n",
    "# import torch\n",
    "# os.environ['TORCH'] = torch.__version__\n",
    "# print(torch.__version__)\n",
    "\n",
    "# !pip install -q torch-scatter -f https://data.pyg.org/whl/torch-${TORCH}.html\n",
    "# !pip install -q torch-sparse -f https://data.pyg.org/whl/torch-${TORCH}.html\n",
    "# !pip install -q git+https://github.com/pyg-team/pytorch_geometric.git"
   ]
  },
  {
   "cell_type": "code",
   "execution_count": 3,
   "metadata": {
    "colab": {
     "base_uri": "https://localhost:8080/",
     "height": 17,
     "referenced_widgets": [
      "53891150d6cf43b18e61ee33a7bc07be"
     ]
    },
    "id": "tc2vX9TvtqW3",
    "outputId": "d857173a-4b10-4c46-f526-5b15048b9d34"
   },
   "outputs": [
    {
     "data": {
      "application/vnd.jupyter.widget-view+json": {
       "model_id": "a8a62fa516e942d289901b93f95311aa",
       "version_major": 2,
       "version_minor": 0
      },
      "text/plain": []
     },
     "metadata": {},
     "output_type": "display_data"
    }
   ],
   "source": [
    "import mdtraj as md\n",
    "from ase import Atoms\n",
    "import nglview as nv\n",
    "import networkx as nx\n",
    "\n",
    "import numpy as np\n",
    "import matplotlib.pyplot as plt\n",
    "import torch\n",
    "from tqdm import tqdm\n",
    "\n",
    "import torch_geometric.transforms as T\n",
    "from torch_geometric.loader import DataLoader\n",
    "from torch_geometric.nn import GCNConv, SAGPooling, InnerProductDecoder\n",
    "import torch_geometric.data as data\n",
    "from torch_geometric.utils.convert import to_networkx\n",
    "import torch.optim.lr_scheduler as lr_scheduler\n",
    "from torch.nn import Linear\n",
    "import sys\n",
    "import os\n",
    "import time\n",
    "from torch_geometric.nn import global_mean_pool as gap, global_max_pool as gmp\n",
    "from torch_geometric.nn import TransformerConv, GATConv, TopKPooling, BatchNorm\n",
    "\n",
    "import torch.nn.functional as F\n",
    "from torch_geometric.transforms import pad\n"
   ]
  },
  {
   "cell_type": "code",
   "execution_count": 4,
   "metadata": {},
   "outputs": [],
   "source": [
    "n_frames,n_atoms,n_mols = (0,0,0)\n",
    "n_neigh = 8"
   ]
  },
  {
   "cell_type": "code",
   "execution_count": 5,
   "metadata": {},
   "outputs": [],
   "source": [
    "from typing import Optional, Tuple \n",
    "\n",
    "import torch\n",
    "from torch import Tensor\n",
    "from torch.nn import Module\n",
    "\n",
    "from torch_geometric.nn.inits import reset\n",
    "from torch_geometric.utils import negative_sampling\n",
    "\n",
    "EPS = 1e-15\n",
    "MAX_LOGSTD = 10\n",
    "\n",
    "\n",
    "class InnerProductDecoder(torch.nn.Module):\n",
    "    r\"\"\"The inner product decoder from the `\"Variational Graph Auto-Encoders\"\n",
    "    <https://arxiv.org/abs/1611.07308>`_ paper\n",
    "\n",
    "    .. math::\n",
    "        \\sigma(\\mathbf{Z}\\mathbf{Z}^{\\top})\n",
    "\n",
    "    where :math:`\\mathbf{Z} \\in \\mathbb{R}^{N \\times d}` denotes the latent\n",
    "    space produced by the encoder.\"\"\"\n",
    "\n",
    "    def forward(self, z: Tensor, edge_index: Tensor,\n",
    "                sigmoid: bool = True) -> Tensor:\n",
    "        r\"\"\"Decodes the latent variables :obj:`z` into edge probabilities for\n",
    "        the given node-pairs :obj:`edge_index`.\n",
    "\n",
    "        Args:\n",
    "            z (torch.Tensor): The latent space :math:`\\mathbf{Z}`.\n",
    "            sigmoid (bool, optional): If set to :obj:`False`, does not apply\n",
    "                the logistic sigmoid function to the output.\n",
    "                (default: :obj:`True`)\n",
    "        \"\"\"\n",
    "        value = (z[edge_index[0]] * z[edge_index[1]]).sum(dim=1)\n",
    "        return torch.sigmoid(value) if sigmoid else value\n",
    "\n",
    "    def forward_all(self, z: Tensor, sigmoid: bool = True) -> Tensor:\n",
    "        r\"\"\"Decodes the latent variables :obj:`z` into a probabilistic dense\n",
    "        adjacency matrix.\n",
    "\n",
    "        Args:\n",
    "            z (torch.Tensor): The latent space :math:`\\mathbf{Z}`.\n",
    "            sigmoid (bool, optional): If set to :obj:`False`, does not apply\n",
    "                the logistic sigmoid function to the output.\n",
    "                (default: :obj:`True`)\n",
    "        \"\"\"\n",
    "        adj = torch.matmul(z, z.t())\n",
    "        return torch.sigmoid(adj) if sigmoid else adj\n",
    "\n",
    "\n",
    "class GAE(torch.nn.Module):\n",
    "    r\"\"\"The Graph Auto-Encoder model from the\n",
    "    `\"Variational Graph Auto-Encoders\" <https://arxiv.org/abs/1611.07308>`_\n",
    "    paper based on user-defined encoder and decoder models.\n",
    "\n",
    "    Args:\n",
    "        encoder (torch.nn.Module): The encoder module.\n",
    "        decoder (torch.nn.Module, optional): The decoder module. If set to\n",
    "            :obj:`None`, will default to the\n",
    "            :class:`torch_geometric.nn.models.InnerProductDecoder`.\n",
    "            (default: :obj:`None`)\n",
    "    \"\"\"\n",
    "\n",
    "    def __init__(self, encoder: Module, decoder: Optional[Module] = None):\n",
    "        super().__init__()\n",
    "        self.encoder = encoder\n",
    "        self.decoder = InnerProductDecoder() if decoder is None else decoder\n",
    "        GAE.reset_parameters(self)\n",
    "\n",
    "    def reset_parameters(self):\n",
    "        r\"\"\"Resets all learnable parameters of the module.\"\"\"\n",
    "        reset(self.encoder)\n",
    "        reset(self.decoder)\n",
    "\n",
    "    def forward(self, *args, **kwargs) -> Tensor:  # pragma: no cover\n",
    "        r\"\"\"Alias for :meth:`encode`.\"\"\"\n",
    "        return self.encoder(*args, **kwargs)\n",
    "\n",
    "    def encode(self, *args, **kwargs) -> Tensor:\n",
    "        r\"\"\"Runs the encoder and computes node-wise latent variables.\"\"\"\n",
    "        return self.encoder(*args, **kwargs)\n",
    "\n",
    "    def decode(self, *args, **kwargs) -> Tensor:\n",
    "        r\"\"\"Runs the decoder and computes edge probabilities.\"\"\"\n",
    "        return self.decoder(*args, **kwargs)\n",
    "\n",
    "    def recon_loss(self, z: Tensor, pos_edge_index: Tensor,\n",
    "                   neg_edge_index: Optional[Tensor] = None) -> Tensor:\n",
    "        r\"\"\"Given latent variables :obj:`z`, computes the binary cross\n",
    "        entropy loss for positive edges :obj:`pos_edge_index` and negative\n",
    "        sampled edges.\n",
    "\n",
    "        Args:\n",
    "            z (torch.Tensor): The latent space :math:`\\mathbf{Z}`.\n",
    "            pos_edge_index (torch.Tensor): The positive edges to train against.\n",
    "            neg_edge_index (torch.Tensor, optional): The negative edges to\n",
    "                train against. If not given, uses negative sampling to\n",
    "                calculate negative edges. (default: :obj:`None`)\n",
    "        \"\"\"\n",
    "        pos_loss = -torch.log(\n",
    "            self.decoder(z, pos_edge_index, sigmoid=True)[0] + EPS).mean()\n",
    "\n",
    "        if neg_edge_index is None:\n",
    "            neg_edge_index = negative_sampling(pos_edge_index, z.size(0))\n",
    "        neg_loss = -torch.log(1 -\n",
    "                              self.decoder(z, neg_edge_index.long(), sigmoid=True)[0] +\n",
    "                              EPS).mean()\n",
    "\n",
    "        return pos_loss + neg_loss\n",
    "\n",
    "    def test(self, z: Tensor, pos_edge_index: Tensor,\n",
    "             neg_edge_index: Tensor) -> Tuple[Tensor, Tensor]:\n",
    "        r\"\"\"Given latent variables :obj:`z`, positive edges\n",
    "        :obj:`pos_edge_index` and negative edges :obj:`neg_edge_index`,\n",
    "        computes area under the ROC curve (AUC) and average precision (AP)\n",
    "        \n",
    "        scores.\n",
    "\n",
    "        Args:\n",
    "            z (torch.Tensor): The latent space :math:`\\mathbf{Z}`.\n",
    "            pos_edge_index (torch.Tensor): The positive edges to evaluate\n",
    "                against.\n",
    "            neg_edge_index (torch.Tensor): The negative edges to evaluate\n",
    "                against.\n",
    "        \"\"\"\n",
    "        from sklearn.metrics import average_precision_score, roc_auc_score\n",
    "\n",
    "        pos_y = z.new_ones(pos_edge_index.size(1))\n",
    "        neg_y = z.new_zeros(neg_edge_index.size(1))\n",
    "        y = torch.cat([pos_y, neg_y], dim=0)\n",
    "\n",
    "        pos_pred = self.decoder(z, pos_edge_index, sigmoid=True)\n",
    "        neg_pred = self.decoder(z, neg_edge_index, sigmoid=True)\n",
    "        pred = torch.cat([pos_pred, neg_pred], dim=0)\n",
    "\n",
    "        y, pred = y.detach().cpu().numpy(), pred.detach().cpu().numpy()\n",
    "\n",
    "        return roc_auc_score(y, pred), average_precision_score(y, pred)\n",
    "\n",
    "\n",
    "class VGAE(GAE):\n",
    "    r\"\"\"The Variational Graph Auto-Encoder model from the\n",
    "    `\"Variational Graph Auto-Encoders\" <https://arxiv.org/abs/1611.07308>`_\n",
    "    paper.\n",
    "\n",
    "    Args:\n",
    "        encoder (torch.nn.Module): The encoder module to compute :math:`\\mu`\n",
    "            and :math:`\\log\\sigma^2`.\n",
    "        decoder (torch.nn.Module, optional): The decoder module. If set to\n",
    "            :obj:`None`, will default to the\n",
    "            :class:`torch_geometric.nn.models.InnerProductDecoder`.\n",
    "            (default: :obj:`None`)\n",
    "    \"\"\"\n",
    "\n",
    "    def __init__(self, encoder: Module, decoder: Optional[Module] = None):\n",
    "        super().__init__(encoder, decoder)\n",
    "\n",
    "    def reparametrize(self, mu: Tensor, logstd: Tensor) -> Tensor:\n",
    "        if self.training:\n",
    "            return mu + torch.randn_like(logstd) * torch.exp(logstd)\n",
    "        else:\n",
    "            return mu\n",
    "\n",
    "    def encode(self, *args, **kwargs) -> Tensor:\n",
    "        \"\"\"\"\"\"\n",
    "        self.__mu__, self.__logstd__, self.edge_index = self.encoder(\n",
    "            *args, **kwargs)\n",
    "        self.__logstd__ = self.__logstd__.clamp(max=MAX_LOGSTD)\n",
    "        z = self.reparametrize(self.__mu__, self.__logstd__)\n",
    "        return z, self.edge_index\n",
    "\n",
    "    def kl_loss(self, mu: Optional[Tensor] = None,\n",
    "                logstd: Optional[Tensor] = None) -> Tensor:\n",
    "        r\"\"\"Computes the KL loss, either for the passed arguments :obj:`mu`\n",
    "        and :obj:`logstd`, or based on latent variables from last encoding.\n",
    "\n",
    "        Args:\n",
    "            mu (torch.Tensor, optional): The latent space for :math:`\\mu`. If\n",
    "                set to :obj:`None`, uses the last computation of :math:`\\mu`.\n",
    "                (default: :obj:`None`)\n",
    "            logstd (torch.Tensor, optional): The latent space for\n",
    "                :math:`\\log\\sigma`.  If set to :obj:`None`, uses the last\n",
    "                computation of :math:`\\log\\sigma^2`. (default: :obj:`None`)\n",
    "        \"\"\"\n",
    "        mu = self.__mu__ if mu is None else mu\n",
    "        logstd = self.__logstd__ if logstd is None else logstd.clamp(\n",
    "            max=MAX_LOGSTD)\n",
    "        return -0.5 * torch.mean(\n",
    "            torch.sum(1 + 2 * logstd - mu**2 - logstd.exp()**2, dim=1))\n"
   ]
  },
  {
   "cell_type": "code",
   "execution_count": 6,
   "metadata": {},
   "outputs": [],
   "source": [
    "class VariationalGCNEncoder(torch.nn.Module):\n",
    "    def __init__(self, in_channels, out_channels,batch_size,n_atoms):\n",
    "        \n",
    "        self.embedding_size1 = 15\n",
    "        self.embedding_size2 = 9\n",
    "        self.linear_size1 = 100\n",
    "        self.linear_size2 = 4\n",
    "        \n",
    "        self.batch_size = batch_size\n",
    "        self.n_atoms = n_atoms\n",
    "        self.in_channels = in_channels\n",
    "        self.out_channels = out_channels\n",
    "        \n",
    "        super().__init__()\n",
    "        self.conv1 = GATConv(self.in_channels,self.embedding_size1,heads=3)\n",
    "        self.head_transform1 = Linear(self.embedding_size1*3, self.embedding_size1)\n",
    "        self.bn1 = BatchNorm(self.embedding_size1)\n",
    "        \n",
    "        self.conv2 = GCNConv(self.embedding_size1,self.embedding_size2)\n",
    "        self.bn2 = BatchNorm(self.embedding_size2)\n",
    "        \n",
    "        self.linear1 = Linear(self.embedding_size2, self.linear_size1)\n",
    "        self.linear2 = Linear(self.linear_size1,self.linear_size2)\n",
    "        \n",
    "        self.transform = Linear(self.linear_size2*self.n_atoms,self.out_channels)\n",
    "        \n",
    "        self.mu = Linear(self.out_channels, self.out_channels)\n",
    "        self.logstd = Linear(self.out_channels, self.out_channels)\n",
    "\n",
    "    def forward(self, x, edge_index):\n",
    "        self.batch_size = x.shape[0]//self.n_atoms\n",
    "        x = self.conv1(x, edge_index)\n",
    "        x = self.head_transform1(x)\n",
    "        x = self.bn1(x)\n",
    "\n",
    "        x = self.conv2(x, edge_index)\n",
    "        x = self.bn2(x)\n",
    "        \n",
    "        x = self.linear1(x)\n",
    "        x = F.leaky_relu(x)\n",
    "\n",
    "        x = self.linear2(x)\n",
    "        x = F.leaky_relu(x)\n",
    "        x = x.reshape(self.batch_size,self.n_atoms,-1)\n",
    "        x = x.reshape(self.batch_size,-1)\n",
    "        \n",
    "        x = self.transform(x)\n",
    "        x = F.leaky_relu(x)\n",
    "        \n",
    "        \n",
    "        x,y,z = self.mu(x), self.logstd(x), edge_index\n",
    "        return x,y,z\n"
   ]
  },
  {
   "cell_type": "code",
   "execution_count": 7,
   "metadata": {},
   "outputs": [],
   "source": [
    "class VariationalGCNDecoder(torch.nn.Module):\n",
    "    def __init__(self,in_channels,out_channels,batch_size,n_atoms):\n",
    "        self.embedding_size1 = 9\n",
    "        self.embedding_size2 = 3\n",
    "        self.embedding_size3 = 3\n",
    "        self.linear_size1 = 512\n",
    "        self.linear_size2 = 128\n",
    "        self.batch_size = batch_size\n",
    "        self.n_atoms = n_atoms\n",
    "        self.in_channels = in_channels\n",
    "        self.out_channels = out_channels\n",
    "\n",
    "        super().__init__()\n",
    "        self.inv_transform = Linear(self.in_channels,self.n_atoms) \n",
    "        \n",
    "        self.conv1 = GCNConv(1, self.embedding_size1)\n",
    "        self.bn1 = BatchNorm(self.embedding_size1)\n",
    "\n",
    "        self.conv2 = GCNConv(self.embedding_size1,self.embedding_size2)\n",
    "        self.bn2 = BatchNorm(self.embedding_size2)\n",
    "\n",
    "        self.conv3 = GCNConv(self.embedding_size2,self.embedding_size3)\n",
    "\n",
    "        self.linear1 = Linear(self.embedding_size3, self.linear_size1)\n",
    "        self.linear2 = Linear(self.linear_size1, self.linear_size2)\n",
    "        self.linear3 = Linear(self.linear_size2, self.out_channels)\n",
    "\n",
    "    def forward(self, x, edge_index, sigmoid=True):\n",
    "        self.batch_size = x.shape[0]//self.n_atoms\n",
    "\n",
    "        x = self.inv_transform(x)\n",
    "        x = F.leaky_relu(x)\n",
    "\n",
    "        x = x.reshape(x.shape[0]*x.shape[1],1)\n",
    "        \n",
    "        x = self.conv1(x, edge_index)\n",
    "        x = self.conv2(x, edge_index)        \n",
    "        x = self.conv3(x,edge_index)\n",
    "        \n",
    "        x = self.linear1(x)\n",
    "        x = F.leaky_relu(x)\n",
    "        x = self.linear2(x)\n",
    "        x = F.leaky_relu(x)\n",
    "        x = self.linear3(x)\n",
    "        x = F.leaky_relu(x)\n",
    "\n",
    "        \n",
    "        return x, edge_index"
   ]
  },
  {
   "cell_type": "code",
   "execution_count": 8,
   "metadata": {
    "colab": {
     "base_uri": "https://localhost:8080/"
    },
    "id": "BbeE9L5Jt0xF",
    "outputId": "c0bfc8c8-d6ef-4613-86cb-1a68d66b4dce"
   },
   "outputs": [
    {
     "data": {
      "text/plain": [
       "VGAE(\n",
       "  (encoder): VariationalGCNEncoder(\n",
       "    (conv1): GATConv(5, 15, heads=3)\n",
       "    (head_transform1): Linear(45, 15, bias=True)\n",
       "    (bn1): BatchNorm(15)\n",
       "    (conv2): GCNConv(15, 9)\n",
       "    (bn2): BatchNorm(9)\n",
       "    (linear1): Linear(9, 100, bias=True)\n",
       "    (linear2): Linear(100, 4, bias=True)\n",
       "    (transform): Linear(80, 3, bias=True)\n",
       "    (mu): Linear(3, 3, bias=True)\n",
       "    (logstd): Linear(3, 3, bias=True)\n",
       "  )\n",
       "  (decoder): VariationalGCNDecoder(\n",
       "    (inv_transform): Linear(3, 20, bias=True)\n",
       "    (conv1): GCNConv(1, 9)\n",
       "    (bn1): BatchNorm(9)\n",
       "    (conv2): GCNConv(9, 3)\n",
       "    (bn2): BatchNorm(3)\n",
       "    (conv3): GCNConv(3, 3)\n",
       "    (linear1): Linear(3, 512, bias=True)\n",
       "    (linear2): Linear(512, 128, bias=True)\n",
       "    (linear3): Linear(128, 5, bias=True)\n",
       "  )\n",
       ")"
      ]
     },
     "execution_count": 8,
     "metadata": {},
     "output_type": "execute_result"
    }
   ],
   "source": [
    "# from google.colab import drive\n",
    "# drive.mount('/content/drive')\n",
    "model_1_name = \"IntraGVAE.pt\"\n",
    "model_stage1 = torch.load(\"./models/\"+model_1_name)\n",
    "model_stage1"
   ]
  },
  {
   "cell_type": "code",
   "execution_count": 9,
   "metadata": {},
   "outputs": [],
   "source": [
    "def plotMols(features):\n",
    "    from mpl_toolkits.mplot3d import Axes3D\n",
    "    %matplotlib widget\n",
    "    xyz = features[:,-3:]\n",
    "    fig = plt.figure()\n",
    "    ax1 = fig.add_subplot(111,projection='3d')\n",
    "    ax1.scatter(xyz[:,0],xyz[:,1],xyz[:,2])\n",
    "    plt.show()"
   ]
  },
  {
   "cell_type": "code",
   "execution_count": 10,
   "metadata": {},
   "outputs": [],
   "source": [
    "def changeFrame(frame,mol_id):\n",
    "    L = [0.642130,0.642130,0.642130]    \n",
    "    features = frame[:,:3]\n",
    "    xyz = frame[:,3:]\n",
    "    xyz = xyz - xyz[mol_id]\n",
    "    xyz = xyz - np.multiply(L,np.round(xyz/L)) \n",
    "    frame_recenter = np.concatenate((features,xyz),axis=1)\n",
    "    return frame_recenter\n",
    "    "
   ]
  },
  {
   "cell_type": "code",
   "execution_count": 11,
   "metadata": {
    "id": "FmIj9qrO4lP9"
   },
   "outputs": [],
   "source": [
    "\n",
    "def condenseFrame2(frame):\n",
    "    mol_pos = []\n",
    "    edge_list = np.array([[ 0,  1,  0,  5,  0,  6,  1,  2,  1, 11,  2,  3,  2, 12,  3,  4, 3, 10,  4,  5,  4, 13,  5, 14,  6,  7,  6, 15,  7,  8,  7,  9, 9, 16,  9, 17,  9, 18, 10, 19],\n",
    "                          [ 1,  0,  5,  0,  6,  0,  2,  1, 11,  1,  3,  2, 12,  2,  4,  3, 10,  3,  5,  4, 13,  4, 14,  5,  7,  6, 15,  6,  8,  7,  9,  7, 16,  9, 17,  9, 18,  9, 19, 10]])\n",
    "\n",
    "\n",
    "\n",
    "    for mol_no,res in enumerate(frame.top.residues):\n",
    "        pos = []\n",
    "        for atom in res.atoms:\n",
    "            pos.append(frame.xyz[0][atom.index])\n",
    "        pos = np.array(pos)\n",
    "        avg_pos = np.mean(pos,axis=0)\n",
    "\n",
    "        pos = pos - pos[9]\n",
    "\n",
    "        atomic_nums = np.array([[atom.element.atomic_number for atom in res.atoms]]).T\n",
    "        vdwr = np.array([[atom.element.radius for atom in res.atoms]]).T\n",
    "        node_features = np.concatenate((pos,vdwr,atomic_nums),axis=1)\n",
    "        graph = data.Data(x=torch.from_numpy(node_features),edge_index=torch.from_numpy(edge_list)).to(\"cuda\")\n",
    "\n",
    "        encoded = model_stage1.encode(graph.x,graph.edge_index)\n",
    "\n",
    "        model_out = np.mean(encoded[0].detach().cpu().numpy(),axis=0)\n",
    "        feature = np.concatenate((model_out,avg_pos))\n",
    "            \n",
    "        mol_pos.append(feature)\n",
    "        \n",
    "    mol_pos = np.array(mol_pos)\n",
    "    \n",
    "    return mol_pos\n",
    "\n",
    "def get_graph(frame,mol_id,n_neigh,str_type):\n",
    "    neigs = getNClosest(frame,mol_id,n_neigh)\n",
    "\n",
    "    to_list = []\n",
    "    from_list = []\n",
    "    for mols_id in range(1,1+len(neigs)):\n",
    "        to_list.append(mols_id)\n",
    "        from_list.append(0)\n",
    "        \n",
    "        to_list.append(0)\n",
    "        from_list.append(mols_id)\n",
    "    \n",
    "    \n",
    "    edge_list = np.array([to_list,from_list])\n",
    "    features = np.concatenate((np.array([frame[mol_id]]),np.array(frame[neigs])),axis=0)\n",
    "    \n",
    "    if(str_type == \"cry\"):\n",
    "        graph = data.Data(x=torch.from_numpy(features),edge_index=torch.from_numpy(edge_list),y=torch.tensor([1]))\n",
    "    elif (str_type == \"melt\"):\n",
    "        graph = data.Data(x=torch.from_numpy(features),edge_index=torch.from_numpy(edge_list),y=torch.tensor([0]))\n",
    "        \n",
    "    return graph\n",
    "\n",
    "\n",
    "def get_graphs(frames,str_type):\n",
    "    graphs = []\n",
    "    for frame in tqdm(frames):\n",
    "        for mol_id in range(len(frame)):\n",
    "#             frame_recon = changeFrame(frame,mol_id)\n",
    "            graphs.append(get_graph(frame,mol_id,n_neigh,str_type))\n",
    "    return graphs\n",
    "\n",
    "def condenseAllFrames(frames):\n",
    "    \"\"\"\n",
    "    Condenses all frames in a trajectory\n",
    "    \"\"\"\n",
    "    condensed_frames = []\n",
    "    for frame in tqdm(frames):\n",
    "        condensed_frames.append(condenseFrame2(frame))\n",
    "    return np.array(condensed_frames)\n",
    "\n",
    "def getNClosest(frame,mol_id,n):\n",
    "    \"\"\" Returns the n closest molecules to the given molecule. \"\"\"\n",
    "    frame = frame[:,-3:]\n",
    "    coord = frame[mol_id]\n",
    "    dists = np.linalg.norm(frame-coord,axis=1)\n",
    "    return np.argsort(dists)[1:n+1]\n",
    "\n",
    "\n",
    "\n"
   ]
  },
  {
   "cell_type": "code",
   "execution_count": 12,
   "metadata": {},
   "outputs": [],
   "source": [
    "def pad(graphs):\n",
    "    max_nodes = 0\n",
    "    for graph in graphs:\n",
    "        max_nodes = max(max_nodes,graph.x.shape[0])\n",
    "    \n",
    "    padded =[]\n",
    "    for graph in graphs:\n",
    "        num_features = graph.num_features\n",
    "        x = graph.x\n",
    "        pad = torch.tensor([[0]*num_features] * (max_nodes-x.shape[0]))\n",
    "        graph.x = torch.concatenate((x,pad))\n",
    "    \n",
    "    return graphs\n"
   ]
  },
  {
   "cell_type": "code",
   "execution_count": 13,
   "metadata": {},
   "outputs": [],
   "source": [
    "def condenseFrame_same_res_id(f):\n",
    "    \"\"\"takes mdtraj frame object as input works even if all molecules have same residue ids\n",
    "    (divides based on number of atoms in each molecule) \"\"\"\n",
    "    n_atoms = 20\n",
    "    xyz = f.xyz[0]\n",
    "    r = (np.random.rand(xyz.shape[0],xyz.shape[1]) - 0.5)*0.5\n",
    "    xyz = xyz + r\n",
    "    n_parts = xyz.shape[0]//n_atoms\n",
    "    mols_pos = np.array(np.array_split(xyz,n_parts))\n",
    "\n",
    "    edge_list = np.array([[ 0,  1,  0,  5,  0,  6,  1,  2,  1, 11,  2,  3,  2, 12,  3,  4, 3, 10,  4,  5,  4, 13,  5, 14,  6,  7,  6, 15,  7,  8,  7,  9, 9, 16,  9, 17,  9, 18, 10, 19],\n",
    "                          [ 1,  0,  5,  0,  6,  0,  2,  1, 11,  1,  3,  2, 12,  2,  4,  3, 10,  3,  5,  4, 13,  4, 14,  5,  7,  6, 15,  6,  8,  7,  9,  7, 16,  9, 17,  9, 18,  9, 19, 10]])\n",
    "\n",
    "\n",
    "\n",
    "    atomic_nums =   [[6],[6],[6],[6],[6],[6],[7],[6],[8],[6],[8],[1],[1],[1],[1],[1],[1],[1],[1],[1]]\n",
    "    vdwr = [[0.17 ],[0.17 ],[0.17 ],[0.17 ],[0.17 ],[0.17 ],[0.155],[0.17 ],[0.152],[0.17 ],[0.152],[0.12 ],[0.12 ],[0.12 ],[0.12 ],[0.12 ],[0.12 ],[0.12 ],[0.12 ],[0.12 ]]\n",
    "\n",
    "    condensed = []\n",
    "    for mol_pos in mols_pos:\n",
    "        avg_pos = np.mean(mol_pos,axis=0)\n",
    "        recentered = mol_pos - mol_pos[9]\n",
    "        node_features = np.concatenate((recentered,vdwr,atomic_nums),axis=1)\n",
    "        graph = data.Data(x=torch.from_numpy(node_features),edge_index=torch.from_numpy(edge_list)).to(\"cuda\")\n",
    "\n",
    "        encoded = model_stage1.encode(graph.x,graph.edge_index)\n",
    "\n",
    "        model_out = np.mean(encoded[0].detach().cpu().numpy(),axis=0)\n",
    "        feature = np.concatenate((model_out,avg_pos))\n",
    "\n",
    "        condensed.append(feature)\n",
    "    condensed = np.array(condensed)\n",
    "    return condensed\n",
    "def condenseAllFrames_same_res_id(frame,n_frames):\n",
    "    \"\"\"\n",
    "    Condenses all frames in a trajectory\n",
    "    \"\"\"\n",
    "    condensed_frames = []\n",
    "    for frame_id in tqdm(range(n_frames)):\n",
    "        cf = condenseFrame_same_res_id(frame)\n",
    "        \n",
    "        condensed_frames.append(cf)\n",
    "        \n",
    "    return np.array(condensed_frames)\n"
   ]
  },
  {
   "cell_type": "code",
   "execution_count": 14,
   "metadata": {
    "colab": {
     "base_uri": "https://localhost:8080/"
    },
    "id": "VbueWOJ5-pRp",
    "outputId": "61d66e4f-15e0-4125-9188-e2c52492ccba"
   },
   "outputs": [],
   "source": [
    "load = True\n",
    "if load:\n",
    "    graphs_cry_cpu = torch.load(f'./graphs/simple/crystal_neigh{n_neigh}.pt')\n",
    "    graphs_melt_cpu = torch.load(f'./graphs/simple/melt_neigh{n_neigh}.pt')\n",
    "else:\n",
    "    all_frames_cry = md.load_xtc(\"../simulation/paracetamol/crystal/it3 temp420/nopbc_md.xtc\", top=\"../simulation/paracetamol/crystal/it3 temp420/md.gro\")\n",
    "    all_frames_melt = md.load_xtc(\"../simulation/paracetamol/melt/it3 temp420/nopbc_md.xtc\", top=\"../simulation/paracetamol/melt/it3 temp420/md.gro\")\n",
    "    all_frames_cry.xyz = all_frames_cry.xyz*10\n",
    "    all_frames_melt.xyz = all_frames_melt.xyz*10\n",
    "#     print(all_frames_cry.xyz)\n",
    "    all_frames_cry = all_frames_cry[::10]\n",
    "    all_frames_melt = all_frames_melt[::10]\n",
    "    global n_frames,n_atoms,n_mols \n",
    "    n_frames = all_frames_cry.xyz.shape[0]\n",
    "    n_atoms = all_frames_cry.topology.residue(0).n_atoms\n",
    "    n_mols = all_frames_cry.topology.n_residues\n",
    "#     condensed_crystal = condenseAllFrames_same_res_id(f,n_frames)\n",
    "    condensed_crystal = condenseAllFrames(all_frames_cry)\n",
    "    condensed_melt = condenseAllFrames(all_frames_melt)\n",
    "    graphs_cry_cpu = get_graphs(condensed_crystal,\"cry\")\n",
    "    graphs_melt_cpu = get_graphs(condensed_melt,\"melt\")\n",
    "#     graphs_cry_cpu = pad(graphs_cry_cpu)\n",
    "#     graphs_melt_cpu = pad(graphs_melt_cpu)\n",
    "    torch.save(graphs_cry_cpu, f'./graphs/simple/crystal_neigh{n_neigh}.pt')\n",
    "    torch.save(graphs_melt_cpu,f'./graphs/simple/melt_neigh{n_neigh}.pt')"
   ]
  },
  {
   "cell_type": "code",
   "execution_count": 15,
   "metadata": {
    "id": "tr-2mhVStqXO"
   },
   "outputs": [],
   "source": [
    "def convert_to_adj(edge_index, num_nodes=None):\n",
    "    if num_nodes is None:\n",
    "        num_nodes = edge_index.max() + 1\n",
    "    adj = torch.zeros(num_nodes, num_nodes)\n",
    "    adj[edge_index[0], edge_index[1]] = 1\n",
    "    return adj\n",
    "\n",
    "def convert_to_edge_index(adj):\n",
    "    edge_index = adj.nonzero().t()\n",
    "    return edge_index"
   ]
  },
  {
   "cell_type": "markdown",
   "metadata": {},
   "source": [
    "# Checking graph generation"
   ]
  },
  {
   "cell_type": "code",
   "execution_count": 16,
   "metadata": {},
   "outputs": [],
   "source": [
    "test_frame = md.load_xtc(\"../simulation/para_crystal.xtc\", top=\"../simulation/para_crystal.gro\",frame=0)"
   ]
  },
  {
   "cell_type": "code",
   "execution_count": 17,
   "metadata": {},
   "outputs": [],
   "source": [
    "cf = condenseFrame2(test_frame)"
   ]
  },
  {
   "cell_type": "code",
   "execution_count": 18,
   "metadata": {},
   "outputs": [],
   "source": [
    "def plotGraph(graph):\n",
    "    plt.figure()\n",
    "    pos = nx.draw(to_networkx(g), with_labels=True, node_size=50)\n",
    "    plt.show()"
   ]
  },
  {
   "cell_type": "code",
   "execution_count": 19,
   "metadata": {},
   "outputs": [],
   "source": [
    "def plot3D(graph):\n",
    "    %matplotlib widget\n",
    "\n",
    "    from mpl_toolkits import mplot3d\n",
    "    pos = graph.x[:,-3:]\n",
    "\n",
    "    ax = plt.axes(projection =\"3d\")\n",
    "    x = pos[:,0]\n",
    "    y = pos[:,1]\n",
    "    z = pos[:,2]\n",
    "    ax.scatter3D(x, y, z)\n",
    "    plt.show()"
   ]
  },
  {
   "cell_type": "code",
   "execution_count": 20,
   "metadata": {
    "colab": {
     "base_uri": "https://localhost:8080/",
     "height": 516
    },
    "id": "GlrZSVdEtqXQ",
    "outputId": "6ea80e9c-1f07-494c-fc03-784158b1157f"
   },
   "outputs": [
    {
     "data": {
      "application/vnd.jupyter.widget-view+json": {
       "model_id": "54cb87a71c554e369343ace9343ece9c",
       "version_major": 2,
       "version_minor": 0
      },
      "image/png": "[encoded data removed]",
      "text/html": [
       "\n",
       "            <div style=\"display: inline-block;\">\n",
       "                <div class=\"jupyter-widgets widget-label\" style=\"text-align: center;\">\n",
       "                    Figure\n",
       "                </div>\n",
       "                <img src='data:image/png;base64,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' width=640.0/>\n",
       "            </div>\n",
       "        "
      ],
      "text/plain": [
       "Canvas(toolbar=Toolbar(toolitems=[('Home', 'Reset original view', 'home', 'home'), ('Back', 'Back to previous …"
      ]
     },
     "metadata": {},
     "output_type": "display_data"
    }
   ],
   "source": [
    "g = get_graph(cf,10,n_neigh,\"cry\")\n",
    "plot3D(g)"
   ]
  },
  {
   "cell_type": "code",
   "execution_count": 21,
   "metadata": {},
   "outputs": [],
   "source": [
    "graphs_cry_cpu = graphs_cry_cpu[::10]\n",
    "graphs_melt_cpu = graphs_melt_cpu[::10]"
   ]
  },
  {
   "cell_type": "code",
   "execution_count": 22,
   "metadata": {
    "id": "fEnvDV-1tqXR"
   },
   "outputs": [],
   "source": [
    "graphs_cpu = graphs_cry_cpu + graphs_melt_cpu"
   ]
  },
  {
   "cell_type": "code",
   "execution_count": 23,
   "metadata": {
    "colab": {
     "base_uri": "https://localhost:8080/"
    },
    "id": "j9n5VhXx-VWr",
    "outputId": "e086f33b-c21d-4752-a82c-e0499fe774e9"
   },
   "outputs": [
    {
     "name": "stdout",
     "output_type": "stream",
     "text": [
      "57658\n",
      "57658\n"
     ]
    }
   ],
   "source": [
    "print(len(graphs_cry_cpu))\n",
    "print(len(graphs_melt_cpu))"
   ]
  },
  {
   "cell_type": "code",
   "execution_count": 24,
   "metadata": {
    "id": "8ed8RTvytqXS"
   },
   "outputs": [],
   "source": [
    "# shuffle the graphs\n",
    "np.random.shuffle(graphs_cpu)"
   ]
  },
  {
   "cell_type": "markdown",
   "metadata": {
    "id": "Wh0GP82HtqXT"
   },
   "source": [
    "## model"
   ]
  },
  {
   "cell_type": "code",
   "execution_count": 25,
   "metadata": {},
   "outputs": [],
   "source": [
    "class GNN_dense(torch.nn.Module):\n",
    "    def __init__(self, feature_size,n_mols):\n",
    "        super(GNN_dense, self).__init__()\n",
    "        num_classes = 2\n",
    "        embedding_size1 = 32\n",
    "        embedding_size2 = 16\n",
    "        linear_size1 = 128\n",
    "        linear_size2 = 64\n",
    "        self.feature_size = feature_size\n",
    "        self.n_mols = n_mols\n",
    "        self.batch_size = 64\n",
    "\n",
    "        # GNN layers\n",
    "        self.conv1 = GATConv(feature_size, embedding_size1, heads=6, dropout=0.1)\n",
    "        self.head_transform1 = Linear(embedding_size1*6, embedding_size1)\n",
    "\n",
    "        self.conv2 = GATConv(embedding_size1, embedding_size2, heads=1, dropout=0.1)\n",
    "\n",
    "\n",
    "        # Linear layers\n",
    "        self.linear1 = Linear(self.n_mols * embedding_size2, linear_size1)\n",
    "        self.linear2 = Linear(linear_size1, linear_size2)\n",
    "        self.linear3 = Linear(linear_size2, num_classes)\n",
    "\n",
    "    def forward(self, x, edge_index):\n",
    "        \"\"\"\n",
    "        \"\"\"\n",
    "        self.batch_size = x.shape[0]//self.n_mols\n",
    "        \n",
    "        # First block\n",
    "        x = self.conv1(x, edge_index)                  # x.shape = (batch*n_mols,embedding_size1*n_heads1)\n",
    "        x = self.head_transform1(x)                    # x.shape = (batch*n_mols,embedding_size1)\n",
    "        \n",
    "        # Second block\n",
    "        x = self.conv2(x, edge_index)                  # x.shape = (batch*n_mols,embedding_size2)\n",
    "\n",
    "        # Reshaping\n",
    "        x = x.reshape(self.batch_size,self.n_mols,-1)  #  x.shape = (batch,n_mols,embedding_size2)\n",
    "        x = x.reshape(self.batch_size,-1)              #  x.shape = (batch,n_mols*embedding_size2)\n",
    "        \n",
    "        #output block\n",
    "        x = self.linear1(x)                            # x.shape = (batch,linear_size1)\n",
    "        x = F.leaky_relu(x)\n",
    "\n",
    "        x = F.dropout(x, p=0.2, training=self.training)\n",
    "        \n",
    "        x = self.linear2(x)                            # x.shape = (batch,linear_size2)\n",
    "        x = F.leaky_relu(x)\n",
    "\n",
    "        x = self.linear3(x)                            # x.shape = (batch,num_classes)\n",
    "        x = torch.sigmoid(x)\n",
    "        return x"
   ]
  },
  {
   "cell_type": "code",
   "execution_count": 26,
   "metadata": {
    "id": "-7sgqlDvtqXZ"
   },
   "outputs": [
    {
     "name": "stdout",
     "output_type": "stream",
     "text": [
      "Model Loaded\n"
     ]
    }
   ],
   "source": [
    "import os\n",
    "in_channels = graphs_cpu[0].num_features\n",
    "out_channels = 2\n",
    "lr = 1e-4\n",
    "n_epochs = 50\n",
    "batch_size=64\n",
    "train_split = 0.8\n",
    "test_split = 0.1\n",
    "val_split = 0.1\n",
    "model_name = \"LOCAL_Classifier_v2\"\n",
    "model_loaded = False\n",
    "force_train = False\n",
    "device = torch.device('cuda' if torch.cuda.is_available() else 'cpu')\n",
    "if os.path.exists(\"./models/\"+model_name+\".pt\") and not force_train:\n",
    "    model = torch.load(\"./models/\"+model_name+\".pt\")\n",
    "    model_loaded = True\n",
    "    print(\"Model Loaded\")\n",
    "else:\n",
    "    model = GNN_dense(in_channels,n_neigh+1)\n",
    "\n",
    "model = model.to(device)\n",
    "# optimizer = torch.optim.SGD(model.parameters(), lr=0.1, momentum=0.9)\n",
    "\n",
    "optimizer = torch.optim.Adam(model.parameters(), lr=lr)\n",
    "scheduler = lr_scheduler.StepLR(optimizer, step_size=300, gamma=0.5)\n"
   ]
  },
  {
   "cell_type": "code",
   "execution_count": 27,
   "metadata": {
    "id": "wYX_UypGy8ev"
   },
   "outputs": [
    {
     "name": "stderr",
     "output_type": "stream",
     "text": [
      "100%|██████████| 115316/115316 [00:08<00:00, 13088.80it/s]\n"
     ]
    }
   ],
   "source": [
    "graphs_device = []\n",
    "for graph in tqdm(graphs_cpu):\n",
    "    graphs_device.append(graph.to(device))"
   ]
  },
  {
   "cell_type": "code",
   "execution_count": 28,
   "metadata": {
    "id": "qY27ZDc1tqXa"
   },
   "outputs": [],
   "source": [
    "graphs = graphs_device\n",
    "total_graphs = len(graphs)"
   ]
  },
  {
   "cell_type": "code",
   "execution_count": 29,
   "metadata": {
    "colab": {
     "base_uri": "https://localhost:8080/"
    },
    "id": "-OVNg4DitqXa",
    "outputId": "e2c214b8-c21b-45eb-e1aa-52ae62fb3a69"
   },
   "outputs": [
    {
     "name": "stdout",
     "output_type": "stream",
     "text": [
      "Using: cuda\n",
      "total_graphs: 115316\n",
      "batch Size: 64\n",
      "number of batches: 1801\n",
      "Neighbours: 8\n",
      "Model\n",
      " GNN_dense(\n",
      "  (conv1): GATConv(6, 32, heads=6)\n",
      "  (head_transform1): Linear(in_features=192, out_features=32, bias=True)\n",
      "  (conv2): GATConv(32, 16, heads=1)\n",
      "  (linear1): Linear(in_features=144, out_features=128, bias=True)\n",
      "  (linear2): Linear(in_features=128, out_features=64, bias=True)\n",
      "  (linear3): Linear(in_features=64, out_features=2, bias=True)\n",
      ")\n"
     ]
    }
   ],
   "source": [
    "print(\"Using:\",device )\n",
    "print(\"total_graphs:\", total_graphs)\n",
    "print(\"batch Size:\" , batch_size)\n",
    "print(\"number of batches:\",total_graphs//batch_size)\n",
    "print(\"Neighbours:\",n_neigh)\n",
    "print(\"Model\\n\",model)"
   ]
  },
  {
   "cell_type": "code",
   "execution_count": 30,
   "metadata": {
    "id": "5XYdX_zktqXb"
   },
   "outputs": [
    {
     "name": "stdout",
     "output_type": "stream",
     "text": [
      "train_graphs: 92252\n",
      "val_graphs: 11532\n",
      "test_graphs: 11532\n"
     ]
    }
   ],
   "source": [
    "train_graphs = graphs[:int(train_split*total_graphs)]\n",
    "val_graphs = graphs[int(train_split*total_graphs):int((train_split+val_split)*total_graphs)]\n",
    "test_graphs = graphs[int((train_split+val_split)*total_graphs):]\n",
    "\n",
    "print(\"train_graphs:\",len(train_graphs))\n",
    "print(\"val_graphs:\",len(val_graphs))\n",
    "print(\"test_graphs:\",len(test_graphs))\n"
   ]
  },
  {
   "cell_type": "code",
   "execution_count": 31,
   "metadata": {},
   "outputs": [],
   "source": [
    "train_loader = DataLoader(train_graphs, batch_size=batch_size, shuffle=True)\n",
    "val_loader = DataLoader(val_graphs, batch_size=batch_size, shuffle=True)\n",
    "test_loader = DataLoader(test_graphs, batch_size=1, shuffle=True)"
   ]
  },
  {
   "cell_type": "code",
   "execution_count": 32,
   "metadata": {
    "id": "_FENg5gatqXb"
   },
   "outputs": [],
   "source": [
    "cross_entropy_loss = torch.nn.CrossEntropyLoss()\n",
    "MSE_loss = torch.nn.MSELoss()\n",
    "\n",
    "def train():\n",
    "    model.train()\n",
    "    model.zero_grad()\n",
    "    model.float()\n",
    "    all_loss_cross = 0\n",
    "    all_loss_mse = 0\n",
    "    for data in train_loader:\n",
    "        optimizer.zero_grad()\n",
    "        data = data\n",
    "        pred = model(data.x.float(),data.edge_index)\n",
    "\n",
    "        labels = F.one_hot(data.y,num_classes = 2).float().to(device)\n",
    "#         labels = data.y.to(device).float()\n",
    "    \n",
    "        loss_cross = torch.sqrt(cross_entropy_loss(pred.float(), labels))\n",
    "#         loss_cross = 0\n",
    "        loss_mse = MSE_loss(pred.float(),labels)\n",
    "\n",
    "#         loss_cross.backward()\n",
    "        loss_mse.backward()\n",
    "        all_loss_cross += float(loss_cross)\n",
    "        all_loss_mse += float(loss_mse)\n",
    "        optimizer.step()\n",
    "\n",
    "\n",
    "    return all_loss_cross / len(train_loader), all_loss_mse/len(train_loader)"
   ]
  },
  {
   "cell_type": "code",
   "execution_count": 33,
   "metadata": {
    "id": "8Fdwjem1tqXc"
   },
   "outputs": [],
   "source": [
    "def test():\n",
    "    model.eval()\n",
    "    model.zero_grad()\n",
    "    model.float()\n",
    "    all_loss_cross = 0\n",
    "    all_loss_mse = 0\n",
    "    for data in test_loader:\n",
    "        optimizer.zero_grad()\n",
    "        pred = model(data.x.float(),data.edge_index)\n",
    "        labels = F.one_hot(data.y,num_classes = 2).float().to(device)\n",
    "#         labels = data.y.to(device).float()\n",
    "\n",
    "        loss_cross = torch.sqrt(cross_entropy_loss(pred.float(), labels))\n",
    "        loss_mse = MSE_loss(pred.float(),labels)\n",
    "#         loss_cross = 0\n",
    "\n",
    "        all_loss_cross += float(loss_cross)\n",
    "        all_loss_mse += float(loss_mse)\n",
    "\n",
    "\n",
    "    return all_loss_cross / len(test_loader), all_loss_mse/len(test_loader)"
   ]
  },
  {
   "cell_type": "code",
   "execution_count": 34,
   "metadata": {
    "colab": {
     "base_uri": "https://localhost:8080/",
     "height": 1000
    },
    "id": "xBsWo6CbtqXd",
    "outputId": "db343917-cfed-406b-9920-e6206860fe2d"
   },
   "outputs": [
    {
     "name": "stdout",
     "output_type": "stream",
     "text": [
      "Pretrained Model Loaded, no training required\n"
     ]
    }
   ],
   "source": [
    "train_losses = []\n",
    "test_losses = []\n",
    "\n",
    "if model_loaded:\n",
    "    print(\"Pretrained Model Loaded, no training required\")\n",
    "else:\n",
    "    for epoch in range(1, n_epochs + 1):\n",
    "\n",
    "        train_loss_cross,train_loss_mse = train()\n",
    "        test_loss_cross,test_loss_mse = test()\n",
    "\n",
    "        print(f\"Epoch: {epoch:03d}\")\n",
    "        print(f'\\tTrain:\\tEntropy Loss: {train_loss_cross:.4f} \\tMSE Loss: {train_loss_mse:.4f}')\n",
    "        print(f'\\tTest: \\tEntropy  Loss: {test_loss_cross:.4f} \\tMSE Loss: {test_loss_mse:.4f}')\n",
    "\n",
    "        train_losses.append([train_loss_cross,train_loss_mse]);\n",
    "        test_losses.append([test_loss_cross,test_loss_mse]);\n",
    "\n",
    "        scheduler.step()\n",
    "    torch.save(model,\"./models/\"+model_name+\".pt\")"
   ]
  },
  {
   "cell_type": "code",
   "execution_count": 35,
   "metadata": {},
   "outputs": [],
   "source": [
    "torch.save(model,\"./models/\"+model_name+\".pt\")"
   ]
  },
  {
   "cell_type": "code",
   "execution_count": 36,
   "metadata": {
    "id": "3im6roawtqXd"
   },
   "outputs": [],
   "source": [
    "if not model_loaded:\n",
    "    plt.figure()\n",
    "    plt.plot(test_losses, label='Total Test Loss')\n",
    "    plt.plot(train_losses, label='Total Train Loss')\n",
    "    plt.legend()\n",
    "    plt.title('Total Loss')\n",
    "    plt.show()"
   ]
  },
  {
   "cell_type": "markdown",
   "metadata": {},
   "source": [
    "# Validation and Confusion Matrix"
   ]
  },
  {
   "cell_type": "code",
   "execution_count": 37,
   "metadata": {
    "id": "EIHppipktqXe"
   },
   "outputs": [],
   "source": [
    "predicted = []\n",
    "actual = []\n",
    "for data in val_loader:\n",
    "    pred = list(model(data.x.float(),data.edge_index).detach().cpu().numpy().argmax(axis=1))\n",
    "    predicted += pred\n",
    "    actual += list(data.y.detach().cpu().numpy())"
   ]
  },
  {
   "cell_type": "code",
   "execution_count": 47,
   "metadata": {},
   "outputs": [],
   "source": []
  },
  {
   "cell_type": "code",
   "execution_count": 50,
   "metadata": {},
   "outputs": [
    {
     "data": {
      "application/vnd.jupyter.widget-view+json": {
       "model_id": "99d21eaa838c439bae63fd101d504209",
       "version_major": 2,
       "version_minor": 0
      },
      "image/png": "[encoded data removed]",
      "text/html": [
       "\n",
       "            <div style=\"display: inline-block;\">\n",
       "                <div class=\"jupyter-widgets widget-label\" style=\"text-align: center;\">\n",
       "                    Figure\n",
       "                </div>\n",
       "                <img src='data:image/png;base64,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' width=640.0/>\n",
       "            </div>\n",
       "        "
      ],
      "text/plain": [
       "Canvas(toolbar=Toolbar(toolitems=[('Home', 'Reset original view', 'home', 'home'), ('Back', 'Back to previous …"
      ]
     },
     "metadata": {},
     "output_type": "display_data"
    }
   ],
   "source": [
    "# plot confusion matrix\n",
    "from sklearn.metrics import confusion_matrix\n",
    "import seaborn as sns\n",
    "cm = confusion_matrix(actual,predicted)\n",
    "\n",
    "plt.figure()\n",
    "sns.heatmap(cm,annot=True,fmt=\"d\",cmap=\"Blues\")\n",
    "plt.title(\"Confusion Matrix\")\n",
    "plt.xlabel(\"Predicted\")\n",
    "plt.ylabel(\"Actual\")\n",
    "plt.show()\n"
   ]
  },
  {
   "cell_type": "code",
   "execution_count": 45,
   "metadata": {},
   "outputs": [
    {
     "data": {
      "text/plain": [
       "array([[5586,   81],\n",
       "       [  72, 5793]])"
      ]
     },
     "execution_count": 45,
     "metadata": {},
     "output_type": "execute_result"
    }
   ],
   "source": [
    "cm"
   ]
  },
  {
   "cell_type": "code",
   "execution_count": null,
   "metadata": {
    "id": "WxJ7ivCwgNaX"
   },
   "outputs": [
    {
     "name": "stdout",
     "output_type": "stream",
     "text": [
      "Accuracy:  98.63857093305585 %\n"
     ]
    }
   ],
   "source": [
    "from sklearn.metrics import accuracy_score\n",
    "print(\"Accuracy: \",accuracy_score(actual,predicted)*100, \"%\")\n"
   ]
  },
  {
   "cell_type": "code",
   "execution_count": null,
   "metadata": {
    "id": "HBv9kugXtqXf"
   },
   "outputs": [],
   "source": []
  },
  {
   "cell_type": "code",
   "execution_count": null,
   "metadata": {
    "id": "UcyDMFTgtqXg"
   },
   "outputs": [],
   "source": []
  },
  {
   "cell_type": "code",
   "execution_count": null,
   "metadata": {},
   "outputs": [],
   "source": [
    "\n"
   ]
  },
  {
   "cell_type": "code",
   "execution_count": null,
   "metadata": {},
   "outputs": [],
   "source": []
  }
 ],
 "metadata": {
  "accelerator": "GPU",
  "colab": {
   "gpuType": "T4",
   "provenance": []
  },
  "kernelspec": {
   "display_name": "Python 3 (ipykernel)",
   "language": "python",
   "name": "python3"
  },
  "language_info": {
   "codemirror_mode": {
    "name": "ipython",
    "version": 3
   },
   "file_extension": ".py",
   "mimetype": "text/x-python",
   "name": "python",
   "nbconvert_exporter": "python",
   "pygments_lexer": "ipython3",
   "version": "3.9.18"
  },
  "vscode": {
   "interpreter": {
    "hash": "80a33ba5fbbc6f374c4c23ec54f7c94fc3dd605e2ab2c49345e5901997a9893b"
   }
  },
  "widgets": {
   "application/vnd.jupyter.widget-state+json": {
    "53891150d6cf43b18e61ee33a7bc07be": {
     "model_module": "nglview-js-widgets",
     "model_module_version": "3.0.6",
     "model_name": "ColormakerRegistryModel",
     "state": {
      "_dom_classes": [],
      "_model_module": "nglview-js-widgets",
      "_model_module_version": "3.0.6",
      "_model_name": "ColormakerRegistryModel",
      "_msg_ar": [],
      "_msg_q": [],
      "_ready": false,
      "_view_count": null,
      "_view_module": "nglview-js-widgets",
      "_view_module_version": "3.0.6",
      "_view_name": "ColormakerRegistryView",
      "layout": "IPY_MODEL_81665ab1836a4b15a3c6e0bddd134f10"
     }
    }
   }
  }
 },
 "nbformat": 4,
 "nbformat_minor": 1
}
