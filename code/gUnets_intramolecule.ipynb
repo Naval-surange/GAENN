{
 "cells": [
  {
   "cell_type": "code",
   "execution_count": 169,
   "id": "f0b7f33c",
   "metadata": {},
   "outputs": [],
   "source": [
    "import mdtraj as md \n",
    "from ase import Atoms\n",
    "from nglview import show_ase\n",
    "import networkx as nx\n",
    "\n",
    "import torch\n",
    "import torch_geometric.transforms as T\n",
    "from torch_geometric.loader import DataLoader\n",
    "from torch_geometric.nn import  GCNConv,BatchNorm\n",
    "import torch_geometric.data as data\n",
    "from torch_geometric.utils.convert import to_networkx\n",
    "\n",
    "import numpy as np\n",
    "import matplotlib.pyplot as plt\n",
    "import torch.nn.functional as F\n",
    "import torch.optim.lr_scheduler as lr_scheduler\n",
    "from sklearn.preprocessing import MinMaxScaler"
   ]
  },
  {
   "cell_type": "code",
   "execution_count": 170,
   "id": "47849179",
   "metadata": {},
   "outputs": [],
   "source": [
    "# load alanine dipeptide trajectory \n",
    "molecule = md.load_pdb(\"../simulation/single.pdb\")"
   ]
  },
  {
   "cell_type": "code",
   "execution_count": 171,
   "id": "b0f3958f",
   "metadata": {},
   "outputs": [
    {
     "data": {
      "application/vnd.jupyter.widget-view+json": {
       "model_id": "d35d5e76c30e46e1a18efc5462c3c201",
       "version_major": 2,
       "version_minor": 0
      },
      "text/plain": [
       "NGLWidget()"
      ]
     },
     "metadata": {},
     "output_type": "display_data"
    }
   ],
   "source": [
    "atomic_nums = [atom.element.atomic_number for atom in molecule.top.atoms] \n",
    "water = Atoms(positions= molecule.xyz[0], numbers=atomic_nums)\n",
    "show_ase(water)"
   ]
  },
  {
   "cell_type": "code",
   "execution_count": 172,
   "id": "28c0855b",
   "metadata": {},
   "outputs": [
    {
     "data": {
      "text/plain": [
       "array([[[ 0.        ,  0.        ,  0.        ],\n",
       "        [ 0.957     ,  0.        ,  0.        ],\n",
       "        [-0.23900001,  0.926     ,  0.        ],\n",
       "        [ 0.        ,  0.46      ,  0.32000002]]], dtype=float32)"
      ]
     },
     "execution_count": 172,
     "metadata": {},
     "output_type": "execute_result"
    }
   ],
   "source": [
    "molecule.xyz*10"
   ]
  },
  {
   "cell_type": "code",
   "execution_count": 173,
   "id": "056bd4df",
   "metadata": {},
   "outputs": [],
   "source": [
    "def rotate3D(features,psi,theta,phi):\n",
    "    xyz = features[:,:3]\n",
    "    rest = features[:,3:]\n",
    "    matrix = np.array([[np.cos(psi)*np.cos(phi)-np.cos(theta)*np.sin(phi)*np.sin(psi),np.cos(psi)*np.sin(phi)+np.cos(theta)*np.cos(phi)*np.sin(psi),np.sin(psi)*np.sin(theta)],\n",
    "                          [-np.sin(psi)*np.cos(phi)-np.cos(theta)*np.sin(phi)*np.cos(psi),-np.sin(psi)*np.sin(phi)+np.cos(theta)*np.cos(phi)*np.cos(psi),np.cos(psi)*np.sin(theta)],\n",
    "                            [np.sin(theta)*np.sin(phi),-np.sin(theta)*np.cos(phi),np.cos(theta)]])\n",
    "    return np.concatenate((np.dot(xyz,matrix) *10 , rest),axis=1) "
   ]
  },
  {
   "cell_type": "code",
   "execution_count": 174,
   "id": "523132d7",
   "metadata": {},
   "outputs": [
    {
     "name": "stdout",
     "output_type": "stream",
     "text": [
      "Absolute positions:\n",
      " [[ 0.          0.          0.        ]\n",
      " [ 0.957       0.          0.        ]\n",
      " [-0.23900001  0.926       0.        ]\n",
      " [ 0.          0.46        0.32000002]]\n",
      "\n",
      "Relative positions:\n",
      " [[-0.04017169 -0.05180917  0.        ]\n",
      " [ 0.91682833 -0.05180917  0.        ]\n",
      " [-0.27917169  0.87419083  0.        ]\n",
      " [-0.04017169  0.40819084  0.32000002]]\n",
      "\n",
      "atomic_numbers:\n",
      " [[8]\n",
      " [1]\n",
      " [1]\n",
      " [0]]\n",
      "\n",
      "Vander wall Radii:\n",
      " [[0.152]\n",
      " [0.12 ]\n",
      " [0.12 ]\n",
      " [0.   ]]\n",
      "\n",
      "Atomic Mass:\n",
      " [[15.99943 ]\n",
      " [ 1.007947]\n",
      " [ 1.007947]\n",
      " [ 0.      ]]\n"
     ]
    }
   ],
   "source": [
    "\n",
    "# atomic Number\n",
    "atomic_nums = np.array([[atom.element.atomic_number for atom in molecule.top.atoms]]).T\n",
    "\n",
    "# Vander wall Radii\n",
    "vdwr = np.array([[atom.element.radius for atom in molecule.top.atoms]]).T\n",
    "\n",
    "# Atomic Mass \n",
    "mass = np.array([[atom.element.mass for atom in molecule.top.atoms]]).T\n",
    "\n",
    "atom_type = np.array([[2,1,1,0]]).T\n",
    "\n",
    "# Relative position of atoms on one molecule\n",
    "poitions = molecule.xyz[0]*10\n",
    "# calculate weighted average of the positions of the atoms in the molecule\n",
    "com = np.average(poitions, axis=0, weights=mass.T[0])\n",
    "# relative position of atoms in the molecule\n",
    "\n",
    "relative_pos = poitions-com\n",
    "\n",
    "\n",
    "print(\"Absolute positions:\\n\",poitions)\n",
    "print(\"\\nRelative positions:\\n\",relative_pos)\n",
    "print(\"\\natomic_numbers:\\n\",atomic_nums)\n",
    "print(\"\\nVander wall Radii:\\n\", vdwr)\n",
    "print(\"\\nAtomic Mass:\\n\",mass)"
   ]
  },
  {
   "cell_type": "code",
   "execution_count": 175,
   "id": "4a71a802",
   "metadata": {},
   "outputs": [
    {
     "name": "stdout",
     "output_type": "stream",
     "text": [
      "Node Features:\n",
      " [[-0.04017169 -0.05180917  0.          0.152       2.        ]\n",
      " [ 0.91682833 -0.05180917  0.          0.12        1.        ]\n",
      " [-0.27917169  0.87419083  0.          0.12        1.        ]\n",
      " [-0.04017169  0.40819084  0.32000002  0.          0.        ]]\n"
     ]
    }
   ],
   "source": [
    "node_features = np.concatenate((relative_pos,vdwr,atom_type),axis=1)\n",
    "print(\"Node Features:\\n\",node_features)"
   ]
  },
  {
   "cell_type": "code",
   "execution_count": 176,
   "id": "99d9f171",
   "metadata": {},
   "outputs": [
    {
     "name": "stdout",
     "output_type": "stream",
     "text": [
      "Normalized Node Features:\n",
      " [[0.19983278 0.         0.         1.         1.        ]\n",
      " [1.         0.         0.         0.78947368 0.5       ]\n",
      " [0.         1.         0.         0.78947368 0.5       ]\n",
      " [0.19983278 0.49676027 1.         0.         0.        ]]\n"
     ]
    }
   ],
   "source": [
    "normalized_node_features = (node_features - node_features.min(axis=0))/(node_features.max(axis=0)-node_features.min(axis=0))\n",
    "print(\"Normalized Node Features:\\n\",normalized_node_features)"
   ]
  },
  {
   "cell_type": "code",
   "execution_count": 177,
   "id": "56454361",
   "metadata": {},
   "outputs": [],
   "source": [
    "from_list = []\n",
    "to_list = []\n",
    "for edge in molecule.topology.bonds:\n",
    "  from_list.append(edge.atom1.index)\n",
    "  to_list.append(edge.atom2.index)\n",
    "  from_list.append(edge.atom2.index)\n",
    "  to_list.append(edge.atom1.index)\n",
    "\n",
    "edge_list = np.array([from_list,to_list])"
   ]
  },
  {
   "cell_type": "code",
   "execution_count": 178,
   "id": "4a30f2c8",
   "metadata": {},
   "outputs": [],
   "source": [
    "graph = data.Data(x=torch.from_numpy(normalized_node_features),edge_index=torch.from_numpy(edge_list))"
   ]
  },
  {
   "cell_type": "code",
   "execution_count": 179,
   "id": "e5ec3900",
   "metadata": {},
   "outputs": [
    {
     "name": "stdout",
     "output_type": "stream",
     "text": [
      "Data(x=[4, 5], edge_index=[2, 4])\n"
     ]
    }
   ],
   "source": [
    "print(graph)"
   ]
  },
  {
   "cell_type": "code",
   "execution_count": 180,
   "id": "550a8219",
   "metadata": {},
   "outputs": [
    {
     "data": {
      "image/png": "[encoded data removed]",
      "text/plain": [
       "<Figure size 640x480 with 1 Axes>"
      ]
     },
     "metadata": {},
     "output_type": "display_data"
    }
   ],
   "source": [
    "vis = to_networkx(graph)\n",
    "nx.draw_networkx(vis)"
   ]
  },
  {
   "cell_type": "code",
   "execution_count": 181,
   "id": "d9c0de1e",
   "metadata": {},
   "outputs": [],
   "source": [
    "def convert_to_adj(edge_index, num_nodes=None):\n",
    "    if num_nodes is None:\n",
    "        num_nodes = edge_index.max() + 1\n",
    "    adj = torch.zeros(num_nodes, num_nodes)\n",
    "    adj[edge_index[0], edge_index[1]] = 1\n",
    "    return adj\n",
    "\n",
    "def convert_to_edge_index(adj):\n",
    "    edge_index = adj.nonzero().t()\n",
    "    return edge_index"
   ]
  },
  {
   "cell_type": "code",
   "execution_count": 182,
   "id": "fd15ec9e",
   "metadata": {},
   "outputs": [],
   "source": [
    "graphs = []\n",
    "n_graphs = 5000"
   ]
  },
  {
   "cell_type": "code",
   "execution_count": 183,
   "id": "8c3ce483",
   "metadata": {},
   "outputs": [],
   "source": [
    "all_features = []\n",
    "real_node_features = []\n",
    "\n",
    "for i in range(n_graphs):\n",
    "    rotated = rotate3D(node_features,np.random.uniform(0,2*np.pi),np.random.uniform(0,2*np.pi),np.random.uniform(0,2*np.pi))\n",
    "    real_node_features.append(rotated)\n",
    "\n",
    "    noisy_node_features = rotated + np.random.normal(0,0.1,rotated.shape)\n",
    "\n",
    "    all_features.append(noisy_node_features)\n",
    "    real_node_features.append(rotated)\n",
    "\n",
    "all_features = np.array(all_features)    \n",
    "real_node_features = np.array(real_node_features)"
   ]
  },
  {
   "cell_type": "code",
   "execution_count": 184,
   "id": "88c69000",
   "metadata": {},
   "outputs": [],
   "source": [
    "scaler = MinMaxScaler()\n",
    "scaler.fit(all_features.reshape(-1,1))\n",
    "normalized_node_features = scaler.transform(all_features.reshape(-1,1)).reshape(all_features.shape)\n",
    "\n",
    "normalized_real_node_features = scaler.transform(real_node_features.reshape(-1,1)).reshape(real_node_features.shape)\n"
   ]
  },
  {
   "cell_type": "code",
   "execution_count": 185,
   "id": "d2994ed9",
   "metadata": {},
   "outputs": [],
   "source": [
    "for x,y in zip(normalized_node_features,normalized_real_node_features):\n",
    "    graph = data.Data(x=torch.from_numpy(x),edge_index=torch.from_numpy(edge_list),y=torch.from_numpy(y))\n",
    "    graphs.append(graph)\n",
    "    "
   ]
  },
  {
   "cell_type": "code",
   "execution_count": 186,
   "id": "c862a5f3",
   "metadata": {
    "scrolled": true
   },
   "outputs": [
    {
     "data": {
      "text/plain": [
       "Data(x=[4, 5], edge_index=[2, 4], y=[4, 5])"
      ]
     },
     "execution_count": 186,
     "metadata": {},
     "output_type": "execute_result"
    }
   ],
   "source": [
    "graphs[0]"
   ]
  },
  {
   "cell_type": "code",
   "execution_count": 187,
   "id": "526b1043",
   "metadata": {},
   "outputs": [],
   "source": [
    "from typing import Callable, List, Union\n",
    "\n",
    "import torch\n",
    "from torch import Tensor\n",
    "\n",
    "from torch_geometric.nn import GCNConv, TopKPooling\n",
    "from torch_geometric.nn.resolver import activation_resolver\n",
    "from torch_geometric.typing import OptTensor, PairTensor\n",
    "from torch_geometric.utils import (\n",
    "    add_self_loops,\n",
    "    remove_self_loops,\n",
    "    to_torch_csr_tensor,\n",
    ")\n",
    "from torch_geometric.utils.repeat import repeat\n",
    "\n",
    "\n",
    "class GraphUNet(torch.nn.Module):\n",
    "    r\"\"\"The Graph U-Net model from the `\"Graph U-Nets\"\n",
    "    <https://arxiv.org/abs/1905.05178>`_ paper which implements a U-Net like\n",
    "    architecture with graph pooling and unpooling operations.\n",
    "\n",
    "    Args:\n",
    "        in_channels (int): Size of each input sample.\n",
    "        hidden_channels (int): Size of each hidden sample.\n",
    "        out_channels (int): Size of each output sample.\n",
    "        depth (int): The depth of the U-Net architecture.\n",
    "        pool_ratios (float or [float], optional): Graph pooling ratio for each\n",
    "            depth. (default: :obj:`0.5`)\n",
    "        sum_res (bool, optional): If set to :obj:`False`, will use\n",
    "            concatenation for integration of skip connections instead\n",
    "            summation. (default: :obj:`True`)\n",
    "        act (torch.nn.functional, optional): The nonlinearity to use.\n",
    "            (default: :obj:`torch.nn.functional.relu`)\n",
    "    \"\"\"\n",
    "    def __init__(\n",
    "        self,\n",
    "        in_channels: int,\n",
    "        hidden_channels: int,\n",
    "        out_channels: int,\n",
    "        depth: int,\n",
    "        pool_ratios: Union[float, List[float]] = 0.5,\n",
    "        sum_res: bool = True,\n",
    "        act: Union[str, Callable] = 'relu',\n",
    "    ):\n",
    "        super().__init__()\n",
    "        assert depth >= 1\n",
    "        self.in_channels = in_channels\n",
    "        self.hidden_channels = hidden_channels\n",
    "        self.out_channels = out_channels\n",
    "        self.depth = depth\n",
    "        self.pool_ratios = repeat(pool_ratios, depth)\n",
    "        self.act = activation_resolver(act)\n",
    "        self.sum_res = sum_res\n",
    "\n",
    "        channels = hidden_channels\n",
    "\n",
    "        self.down_convs = torch.nn.ModuleList()\n",
    "        self.pools = torch.nn.ModuleList()\n",
    "        self.down_convs.append(GCNConv(in_channels, channels, improved=True))\n",
    "        for i in range(depth):\n",
    "            self.pools.append(TopKPooling(channels, self.pool_ratios[i]))\n",
    "            self.down_convs.append(GCNConv(channels, channels, improved=True))\n",
    "\n",
    "        in_channels = channels if sum_res else 2 * channels\n",
    "\n",
    "        self.up_convs = torch.nn.ModuleList()\n",
    "        for i in range(depth - 1):\n",
    "            self.up_convs.append(GCNConv(in_channels, channels, improved=True))\n",
    "        self.up_convs.append(GCNConv(in_channels, out_channels, improved=True))\n",
    "\n",
    "        self.reset_parameters()\n",
    "\n",
    "    def reset_parameters(self):\n",
    "        r\"\"\"Resets all learnable parameters of the module.\"\"\"\n",
    "        for conv in self.down_convs:\n",
    "            conv.reset_parameters()\n",
    "        for pool in self.pools:\n",
    "            pool.reset_parameters()\n",
    "        for conv in self.up_convs:\n",
    "            conv.reset_parameters()\n",
    "\n",
    "    def forward(self, x: Tensor, edge_index: Tensor,\n",
    "                batch: OptTensor = None) -> Tensor:\n",
    "        \"\"\"\"\"\"\n",
    "        if batch is None:\n",
    "            batch = edge_index.new_zeros(x.size(0))\n",
    "        edge_weight = x.new_ones(edge_index.size(1))\n",
    "\n",
    "        x = self.down_convs[0](x, edge_index, edge_weight)\n",
    "        x = self.act(x)\n",
    "\n",
    "        xs = [x]\n",
    "        edge_indices = [edge_index]\n",
    "        edge_weights = [edge_weight]\n",
    "        perms = []\n",
    "        encoded = None\n",
    "        for i in range(1, self.depth + 1):\n",
    "            edge_index, edge_weight = self.augment_adj(edge_index, edge_weight,\n",
    "                                                       x.size(0))\n",
    "            x, edge_index, edge_weight, batch, perm, _ = self.pools[i - 1](\n",
    "                x, edge_index, edge_weight, batch)\n",
    "\n",
    "            x = self.down_convs[i](x, edge_index, edge_weight)\n",
    "            x = self.act(x)\n",
    "\n",
    "            if i < self.depth:\n",
    "                xs += [x]\n",
    "                edge_indices += [edge_index]\n",
    "                edge_weights += [edge_weight]\n",
    "            perms += [perm]\n",
    "        encoded = x\n",
    "        for i in range(self.depth):\n",
    "            j = self.depth - 1 - i\n",
    "\n",
    "            res = xs[j]\n",
    "            edge_index = edge_indices[j]\n",
    "            edge_weight = edge_weights[j]\n",
    "            perm = perms[j]\n",
    "\n",
    "            up = torch.zeros_like(res)\n",
    "            up[perm] = x\n",
    "            x = res + up if self.sum_res else torch.cat((res, up), dim=-1)\n",
    "\n",
    "            x = self.up_convs[i](x, edge_index, edge_weight)\n",
    "            x = self.act(x) if i < self.depth - 1 else x\n",
    "\n",
    "        return x,encoded\n",
    "\n",
    "    def augment_adj(self, edge_index: Tensor, edge_weight: Tensor,\n",
    "                    num_nodes: int) -> PairTensor:\n",
    "        edge_index, edge_weight = remove_self_loops(edge_index, edge_weight)\n",
    "        edge_index, edge_weight = add_self_loops(edge_index, edge_weight,\n",
    "                                                 num_nodes=num_nodes)\n",
    "        adj = to_torch_csr_tensor(edge_index, edge_weight,\n",
    "                                  size=(num_nodes, num_nodes))\n",
    "        adj = (adj @ adj).to_sparse_coo()\n",
    "        edge_index, edge_weight = adj.indices(), adj.values()\n",
    "        edge_index, edge_weight = remove_self_loops(edge_index, edge_weight)\n",
    "        return edge_index, edge_weight\n",
    "\n",
    "    def __repr__(self) -> str:\n",
    "        return (f'{self.__class__.__name__}({self.in_channels}, '\n",
    "                f'{self.hidden_channels}, {self.out_channels}, '\n",
    "                f'depth={self.depth}, pool_ratios={self.pool_ratios})')"
   ]
  },
  {
   "cell_type": "code",
   "execution_count": 188,
   "id": "1f6f35a7",
   "metadata": {},
   "outputs": [],
   "source": [
    "import torch\n",
    "import torch.nn.functional as F\n",
    "from torch_geometric.data import Data\n",
    "input_dim=graph.x.size(-1)\n",
    "output_dim=graph.y.size(-1)\n",
    "hidden_channels=4\n",
    "depth=10"
   ]
  },
  {
   "cell_type": "code",
   "execution_count": 189,
   "id": "55e2b658",
   "metadata": {},
   "outputs": [
    {
     "data": {
      "text/plain": [
       "5"
      ]
     },
     "execution_count": 189,
     "metadata": {},
     "output_type": "execute_result"
    }
   ],
   "source": [
    "graph.num_features"
   ]
  },
  {
   "cell_type": "code",
   "execution_count": 190,
   "id": "b67af2d8",
   "metadata": {},
   "outputs": [],
   "source": [
    "import os\n",
    "\n",
    "\n",
    "in_channels = graph.num_features\n",
    "out_channels = 2\n",
    "lr = 1e-3\n",
    "n_epochs = 100\n",
    "batch_size=64\n",
    "test_train_split = 0.8\n",
    "model_name = \"GUNET_v1.pt\"\n",
    "model_loaded = False\n",
    "force_train = True"
   ]
  },
  {
   "cell_type": "code",
   "execution_count": null,
   "id": "7bafc949",
   "metadata": {},
   "outputs": [],
   "source": []
  },
  {
   "cell_type": "code",
   "execution_count": 191,
   "id": "48b4f640",
   "metadata": {},
   "outputs": [],
   "source": [
    "model=GraphUNet(input_dim, hidden_channels, output_dim,depth)\n",
    "split = int(test_train_split * len(graphs))\n",
    "train_loader = DataLoader(graphs[:split], batch_size=batch_size)\n",
    "test_loader = DataLoader(graphs[split:], batch_size=batch_size)\n",
    "\n",
    "optimizer = torch.optim.Adam(model.parameters(), lr=lr)\n",
    "scheduler = lr_scheduler.StepLR(optimizer, step_size=50, gamma=0.5)"
   ]
  },
  {
   "cell_type": "code",
   "execution_count": 192,
   "id": "1de8a55c",
   "metadata": {},
   "outputs": [],
   "source": [
    "lossFxn = torch.nn.MSELoss()\n",
    "def train():\n",
    "    model.train()\n",
    "    model.double()\n",
    "    loss_all = 0\n",
    "    feature_loss_all = 0\n",
    "    position_loss_all = 0\n",
    "\n",
    "    for data in train_loader:\n",
    "        optimizer.zero_grad()\n",
    "        decoded_x , z = model.forward(data.x, data.edge_index)\n",
    "        \n",
    "        decoded_pos = decoded_x[:,:3]\n",
    "        decoded_features = decoded_x[:,3:]\n",
    "        orignal_pos = data.x[:,:3]\n",
    "        orignal_features = data.x[:,3:]\n",
    "\n",
    "        positionLoss = lossFxn(decoded_pos, orignal_pos)\n",
    "        FeatureLoss = lossFxn(decoded_features, orignal_features)\n",
    "\n",
    "        loss = FeatureLoss + 2*positionLoss\n",
    "        \n",
    "        loss_all +=  float(loss)\n",
    "        feature_loss_all += float(FeatureLoss)\n",
    "        position_loss_all += float(positionLoss)\n",
    "\n",
    "        loss.backward()\n",
    "        optimizer.step()\n",
    "\n",
    "    return loss_all / len(train_loader), feature_loss_all / len(train_loader), position_loss_all / len(train_loader)"
   ]
  },
  {
   "cell_type": "code",
   "execution_count": 193,
   "id": "473abbc1",
   "metadata": {},
   "outputs": [],
   "source": [
    "lossFxn = torch.nn.MSELoss()\n",
    "def test():\n",
    "    model.eval()\n",
    "    model.double()\n",
    "    loss_all = 0\n",
    "    feature_loss_all = 0\n",
    "    position_loss_all = 0\n",
    "\n",
    "    for data in test_loader:\n",
    "        optimizer.zero_grad()\n",
    "        decoded_x , z = model.forward(data.x, data.edge_index)\n",
    "        \n",
    "        decoded_pos = decoded_x[:,:3]\n",
    "        decoded_features = decoded_x[:,3:]\n",
    "        orignal_pos = data.x[:,:3]\n",
    "        orignal_features = data.x[:,3:]\n",
    "\n",
    "        positionLoss = lossFxn(decoded_pos, orignal_pos)\n",
    "        FeatureLoss = lossFxn(decoded_features, orignal_features)\n",
    "\n",
    "        loss = FeatureLoss + 2*positionLoss\n",
    "        \n",
    "        loss_all +=  float(loss)\n",
    "        feature_loss_all += float(FeatureLoss)\n",
    "        position_loss_all += float(positionLoss)\n",
    "\n",
    "    return loss_all / len(test_loader), feature_loss_all / len(test_loader), position_loss_all / len(test_loader)"
   ]
  },
  {
   "cell_type": "code",
   "execution_count": 194,
   "id": "c87312d3",
   "metadata": {},
   "outputs": [
    {
     "name": "stdout",
     "output_type": "stream",
     "text": [
      "Epoch: 001  LR: 0.001000\n",
      "\tTrain:\tTotal Loss: 0.7483, Feature Loss: 0.2269, Position Loss: 0.2607\n",
      "\tTest:\tTotal Loss: 0.5774, Feature Loss: 0.1492, Position Loss: 0.2141\n",
      "Epoch: 002  LR: 0.001000\n",
      "\tTrain:\tTotal Loss: 0.3806, Feature Loss: 0.0681, Position Loss: 0.1563\n",
      "\tTest:\tTotal Loss: 0.2274, Feature Loss: 0.0152, Position Loss: 0.1061\n",
      "Epoch: 003  LR: 0.001000\n",
      "\tTrain:\tTotal Loss: 0.1820, Feature Loss: 0.0081, Position Loss: 0.0870\n",
      "\tTest:\tTotal Loss: 0.1525, Feature Loss: 0.0050, Position Loss: 0.0737\n",
      "Epoch: 004  LR: 0.001000\n",
      "\tTrain:\tTotal Loss: 0.1350, Feature Loss: 0.0038, Position Loss: 0.0656\n",
      "\tTest:\tTotal Loss: 0.1197, Feature Loss: 0.0034, Position Loss: 0.0582\n",
      "Epoch: 005  LR: 0.001000\n",
      "\tTrain:\tTotal Loss: 0.1095, Feature Loss: 0.0031, Position Loss: 0.0532\n",
      "\tTest:\tTotal Loss: 0.1008, Feature Loss: 0.0030, Position Loss: 0.0489\n",
      "Epoch: 006  LR: 0.001000\n",
      "\tTrain:\tTotal Loss: 0.0952, Feature Loss: 0.0030, Position Loss: 0.0461\n",
      "\tTest:\tTotal Loss: 0.0910, Feature Loss: 0.0030, Position Loss: 0.0440\n",
      "Epoch: 007  LR: 0.001000\n",
      "\tTrain:\tTotal Loss: 0.0883, Feature Loss: 0.0031, Position Loss: 0.0426\n",
      "\tTest:\tTotal Loss: 0.0865, Feature Loss: 0.0031, Position Loss: 0.0417\n",
      "Epoch: 008  LR: 0.001000\n",
      "\tTrain:\tTotal Loss: 0.0849, Feature Loss: 0.0033, Position Loss: 0.0408\n",
      "\tTest:\tTotal Loss: 0.0844, Feature Loss: 0.0033, Position Loss: 0.0405\n",
      "Epoch: 009  LR: 0.001000\n",
      "\tTrain:\tTotal Loss: 0.0832, Feature Loss: 0.0034, Position Loss: 0.0399\n",
      "\tTest:\tTotal Loss: 0.0830, Feature Loss: 0.0034, Position Loss: 0.0398\n",
      "Epoch: 010  LR: 0.001000\n",
      "\tTrain:\tTotal Loss: 0.0820, Feature Loss: 0.0035, Position Loss: 0.0392\n",
      "\tTest:\tTotal Loss: 0.0820, Feature Loss: 0.0034, Position Loss: 0.0393\n",
      "Epoch: 011  LR: 0.001000\n",
      "\tTrain:\tTotal Loss: 0.0810, Feature Loss: 0.0035, Position Loss: 0.0388\n",
      "\tTest:\tTotal Loss: 0.0810, Feature Loss: 0.0034, Position Loss: 0.0388\n",
      "Epoch: 012  LR: 0.001000\n",
      "\tTrain:\tTotal Loss: 0.0801, Feature Loss: 0.0034, Position Loss: 0.0384\n",
      "\tTest:\tTotal Loss: 0.0801, Feature Loss: 0.0032, Position Loss: 0.0385\n",
      "Epoch: 013  LR: 0.001000\n",
      "\tTrain:\tTotal Loss: 0.0792, Feature Loss: 0.0032, Position Loss: 0.0380\n",
      "\tTest:\tTotal Loss: 0.0792, Feature Loss: 0.0030, Position Loss: 0.0381\n",
      "Epoch: 014  LR: 0.001000\n",
      "\tTrain:\tTotal Loss: 0.0782, Feature Loss: 0.0030, Position Loss: 0.0376\n",
      "\tTest:\tTotal Loss: 0.0784, Feature Loss: 0.0028, Position Loss: 0.0378\n",
      "Epoch: 015  LR: 0.001000\n",
      "\tTrain:\tTotal Loss: 0.0773, Feature Loss: 0.0027, Position Loss: 0.0373\n",
      "\tTest:\tTotal Loss: 0.0775, Feature Loss: 0.0026, Position Loss: 0.0375\n",
      "Epoch: 016  LR: 0.001000\n",
      "\tTrain:\tTotal Loss: 0.0765, Feature Loss: 0.0025, Position Loss: 0.0370\n",
      "\tTest:\tTotal Loss: 0.0767, Feature Loss: 0.0023, Position Loss: 0.0372\n",
      "Epoch: 017  LR: 0.001000\n",
      "\tTrain:\tTotal Loss: 0.0757, Feature Loss: 0.0023, Position Loss: 0.0367\n",
      "\tTest:\tTotal Loss: 0.0760, Feature Loss: 0.0022, Position Loss: 0.0369\n",
      "Epoch: 018  LR: 0.001000\n",
      "\tTrain:\tTotal Loss: 0.0749, Feature Loss: 0.0021, Position Loss: 0.0364\n",
      "\tTest:\tTotal Loss: 0.0753, Feature Loss: 0.0020, Position Loss: 0.0367\n",
      "Epoch: 019  LR: 0.001000\n",
      "\tTrain:\tTotal Loss: 0.0742, Feature Loss: 0.0020, Position Loss: 0.0361\n",
      "\tTest:\tTotal Loss: 0.0747, Feature Loss: 0.0019, Position Loss: 0.0364\n",
      "Epoch: 020  LR: 0.001000\n",
      "\tTrain:\tTotal Loss: 0.0737, Feature Loss: 0.0018, Position Loss: 0.0359\n",
      "\tTest:\tTotal Loss: 0.0743, Feature Loss: 0.0018, Position Loss: 0.0362\n",
      "Epoch: 021  LR: 0.001000\n",
      "\tTrain:\tTotal Loss: 0.0732, Feature Loss: 0.0017, Position Loss: 0.0357\n",
      "\tTest:\tTotal Loss: 0.0737, Feature Loss: 0.0017, Position Loss: 0.0360\n",
      "Epoch: 022  LR: 0.001000\n",
      "\tTrain:\tTotal Loss: 0.0731, Feature Loss: 0.0018, Position Loss: 0.0357\n",
      "\tTest:\tTotal Loss: 0.0734, Feature Loss: 0.0016, Position Loss: 0.0359\n",
      "Epoch: 023  LR: 0.001000\n",
      "\tTrain:\tTotal Loss: 0.0724, Feature Loss: 0.0016, Position Loss: 0.0354\n",
      "\tTest:\tTotal Loss: 0.0731, Feature Loss: 0.0016, Position Loss: 0.0358\n",
      "Epoch: 024  LR: 0.001000\n",
      "\tTrain:\tTotal Loss: 0.0798, Feature Loss: 0.0045, Position Loss: 0.0376\n",
      "\tTest:\tTotal Loss: 0.0917, Feature Loss: 0.0091, Position Loss: 0.0413\n",
      "Epoch: 025  LR: 0.001000\n",
      "\tTrain:\tTotal Loss: 0.0851, Feature Loss: 0.0065, Position Loss: 0.0393\n",
      "\tTest:\tTotal Loss: 0.0812, Feature Loss: 0.0049, Position Loss: 0.0382\n",
      "Epoch: 026  LR: 0.001000\n",
      "\tTrain:\tTotal Loss: 0.0802, Feature Loss: 0.0049, Position Loss: 0.0377\n",
      "\tTest:\tTotal Loss: 0.0804, Feature Loss: 0.0047, Position Loss: 0.0378\n",
      "Epoch: 027  LR: 0.001000\n",
      "\tTrain:\tTotal Loss: 0.0796, Feature Loss: 0.0046, Position Loss: 0.0375\n",
      "\tTest:\tTotal Loss: 0.0798, Feature Loss: 0.0045, Position Loss: 0.0377\n",
      "Epoch: 028  LR: 0.001000\n",
      "\tTrain:\tTotal Loss: 0.0791, Feature Loss: 0.0044, Position Loss: 0.0373\n",
      "\tTest:\tTotal Loss: 0.0793, Feature Loss: 0.0043, Position Loss: 0.0375\n",
      "Epoch: 029  LR: 0.001000\n",
      "\tTrain:\tTotal Loss: 0.0786, Feature Loss: 0.0042, Position Loss: 0.0372\n",
      "\tTest:\tTotal Loss: 0.0788, Feature Loss: 0.0041, Position Loss: 0.0374\n",
      "Epoch: 030  LR: 0.001000\n",
      "\tTrain:\tTotal Loss: 0.0781, Feature Loss: 0.0041, Position Loss: 0.0370\n",
      "\tTest:\tTotal Loss: 0.0783, Feature Loss: 0.0039, Position Loss: 0.0372\n",
      "Epoch: 031  LR: 0.001000\n",
      "\tTrain:\tTotal Loss: 0.0776, Feature Loss: 0.0039, Position Loss: 0.0369\n",
      "\tTest:\tTotal Loss: 0.0779, Feature Loss: 0.0037, Position Loss: 0.0371\n",
      "Epoch: 032  LR: 0.001000\n",
      "\tTrain:\tTotal Loss: 0.0772, Feature Loss: 0.0037, Position Loss: 0.0367\n",
      "\tTest:\tTotal Loss: 0.0774, Feature Loss: 0.0036, Position Loss: 0.0369\n",
      "Epoch: 033  LR: 0.001000\n",
      "\tTrain:\tTotal Loss: 0.0767, Feature Loss: 0.0036, Position Loss: 0.0366\n",
      "\tTest:\tTotal Loss: 0.0770, Feature Loss: 0.0034, Position Loss: 0.0368\n",
      "Epoch: 034  LR: 0.001000\n",
      "\tTrain:\tTotal Loss: 0.0763, Feature Loss: 0.0034, Position Loss: 0.0364\n",
      "\tTest:\tTotal Loss: 0.0765, Feature Loss: 0.0033, Position Loss: 0.0366\n",
      "Epoch: 035  LR: 0.001000\n",
      "\tTrain:\tTotal Loss: 0.0758, Feature Loss: 0.0033, Position Loss: 0.0363\n",
      "\tTest:\tTotal Loss: 0.0761, Feature Loss: 0.0032, Position Loss: 0.0365\n",
      "Epoch: 036  LR: 0.001000\n",
      "\tTrain:\tTotal Loss: 0.0754, Feature Loss: 0.0032, Position Loss: 0.0361\n",
      "\tTest:\tTotal Loss: 0.0757, Feature Loss: 0.0030, Position Loss: 0.0363\n",
      "Epoch: 037  LR: 0.001000\n",
      "\tTrain:\tTotal Loss: 0.0750, Feature Loss: 0.0030, Position Loss: 0.0360\n",
      "\tTest:\tTotal Loss: 0.0753, Feature Loss: 0.0029, Position Loss: 0.0362\n",
      "Epoch: 038  LR: 0.001000\n",
      "\tTrain:\tTotal Loss: 0.0745, Feature Loss: 0.0029, Position Loss: 0.0358\n",
      "\tTest:\tTotal Loss: 0.0749, Feature Loss: 0.0028, Position Loss: 0.0360\n",
      "Epoch: 039  LR: 0.001000\n",
      "\tTrain:\tTotal Loss: 0.0741, Feature Loss: 0.0028, Position Loss: 0.0357\n",
      "\tTest:\tTotal Loss: 0.0745, Feature Loss: 0.0027, Position Loss: 0.0359\n",
      "Epoch: 040  LR: 0.001000\n",
      "\tTrain:\tTotal Loss: 0.0737, Feature Loss: 0.0026, Position Loss: 0.0355\n",
      "\tTest:\tTotal Loss: 0.0741, Feature Loss: 0.0026, Position Loss: 0.0358\n",
      "Epoch: 041  LR: 0.001000\n",
      "\tTrain:\tTotal Loss: 0.0733, Feature Loss: 0.0025, Position Loss: 0.0354\n",
      "\tTest:\tTotal Loss: 0.0737, Feature Loss: 0.0024, Position Loss: 0.0356\n",
      "Epoch: 042  LR: 0.001000\n",
      "\tTrain:\tTotal Loss: 0.0730, Feature Loss: 0.0024, Position Loss: 0.0353\n",
      "\tTest:\tTotal Loss: 0.0734, Feature Loss: 0.0023, Position Loss: 0.0355\n",
      "Epoch: 043  LR: 0.001000\n",
      "\tTrain:\tTotal Loss: 0.0726, Feature Loss: 0.0023, Position Loss: 0.0352\n",
      "\tTest:\tTotal Loss: 0.0730, Feature Loss: 0.0022, Position Loss: 0.0354\n",
      "Epoch: 044  LR: 0.001000\n",
      "\tTrain:\tTotal Loss: 0.0722, Feature Loss: 0.0022, Position Loss: 0.0350\n",
      "\tTest:\tTotal Loss: 0.0727, Feature Loss: 0.0021, Position Loss: 0.0353\n",
      "Epoch: 045  LR: 0.001000\n",
      "\tTrain:\tTotal Loss: 0.0719, Feature Loss: 0.0020, Position Loss: 0.0349\n",
      "\tTest:\tTotal Loss: 0.0724, Feature Loss: 0.0020, Position Loss: 0.0352\n",
      "Epoch: 046  LR: 0.001000\n",
      "\tTrain:\tTotal Loss: 0.0716, Feature Loss: 0.0019, Position Loss: 0.0348\n",
      "\tTest:\tTotal Loss: 0.0720, Feature Loss: 0.0019, Position Loss: 0.0351\n",
      "Epoch: 047  LR: 0.001000\n",
      "\tTrain:\tTotal Loss: 0.0713, Feature Loss: 0.0018, Position Loss: 0.0347\n",
      "\tTest:\tTotal Loss: 0.0718, Feature Loss: 0.0018, Position Loss: 0.0350\n",
      "Epoch: 048  LR: 0.001000\n",
      "\tTrain:\tTotal Loss: 0.0710, Feature Loss: 0.0017, Position Loss: 0.0346\n",
      "\tTest:\tTotal Loss: 0.0715, Feature Loss: 0.0017, Position Loss: 0.0349\n",
      "Epoch: 049  LR: 0.001000\n",
      "\tTrain:\tTotal Loss: 0.0707, Feature Loss: 0.0016, Position Loss: 0.0346\n",
      "\tTest:\tTotal Loss: 0.0712, Feature Loss: 0.0016, Position Loss: 0.0348\n",
      "Epoch: 050  LR: 0.001000\n",
      "\tTrain:\tTotal Loss: 0.0705, Feature Loss: 0.0015, Position Loss: 0.0345\n",
      "\tTest:\tTotal Loss: 0.0710, Feature Loss: 0.0015, Position Loss: 0.0348\n",
      "Epoch: 051  LR: 0.000500\n",
      "\tTrain:\tTotal Loss: 0.0703, Feature Loss: 0.0014, Position Loss: 0.0344\n",
      "\tTest:\tTotal Loss: 0.0709, Feature Loss: 0.0014, Position Loss: 0.0347\n",
      "Epoch: 052  LR: 0.000500\n",
      "\tTrain:\tTotal Loss: 0.0702, Feature Loss: 0.0014, Position Loss: 0.0344\n",
      "\tTest:\tTotal Loss: 0.0708, Feature Loss: 0.0014, Position Loss: 0.0347\n",
      "Epoch: 053  LR: 0.000500\n",
      "\tTrain:\tTotal Loss: 0.0701, Feature Loss: 0.0013, Position Loss: 0.0344\n",
      "\tTest:\tTotal Loss: 0.0707, Feature Loss: 0.0013, Position Loss: 0.0347\n",
      "Epoch: 054  LR: 0.000500\n",
      "\tTrain:\tTotal Loss: 0.0700, Feature Loss: 0.0013, Position Loss: 0.0343\n",
      "\tTest:\tTotal Loss: 0.0706, Feature Loss: 0.0013, Position Loss: 0.0347\n",
      "Epoch: 055  LR: 0.000500\n",
      "\tTrain:\tTotal Loss: 0.0699, Feature Loss: 0.0013, Position Loss: 0.0343\n",
      "\tTest:\tTotal Loss: 0.0705, Feature Loss: 0.0012, Position Loss: 0.0346\n",
      "Epoch: 056  LR: 0.000500\n",
      "\tTrain:\tTotal Loss: 0.0698, Feature Loss: 0.0012, Position Loss: 0.0343\n",
      "\tTest:\tTotal Loss: 0.0704, Feature Loss: 0.0012, Position Loss: 0.0346\n",
      "Epoch: 057  LR: 0.000500\n",
      "\tTrain:\tTotal Loss: 0.0697, Feature Loss: 0.0012, Position Loss: 0.0343\n",
      "\tTest:\tTotal Loss: 0.0703, Feature Loss: 0.0012, Position Loss: 0.0346\n",
      "Epoch: 058  LR: 0.000500\n",
      "\tTrain:\tTotal Loss: 0.0696, Feature Loss: 0.0011, Position Loss: 0.0342\n",
      "\tTest:\tTotal Loss: 0.0703, Feature Loss: 0.0011, Position Loss: 0.0346\n",
      "Epoch: 059  LR: 0.000500\n",
      "\tTrain:\tTotal Loss: 0.0695, Feature Loss: 0.0011, Position Loss: 0.0342\n",
      "\tTest:\tTotal Loss: 0.0702, Feature Loss: 0.0011, Position Loss: 0.0345\n",
      "Epoch: 060  LR: 0.000500\n",
      "\tTrain:\tTotal Loss: 0.0694, Feature Loss: 0.0011, Position Loss: 0.0342\n",
      "\tTest:\tTotal Loss: 0.0701, Feature Loss: 0.0011, Position Loss: 0.0345\n",
      "Epoch: 061  LR: 0.000500\n",
      "\tTrain:\tTotal Loss: 0.0694, Feature Loss: 0.0010, Position Loss: 0.0342\n",
      "\tTest:\tTotal Loss: 0.0700, Feature Loss: 0.0010, Position Loss: 0.0345\n",
      "Epoch: 062  LR: 0.000500\n",
      "\tTrain:\tTotal Loss: 0.0693, Feature Loss: 0.0010, Position Loss: 0.0342\n",
      "\tTest:\tTotal Loss: 0.0700, Feature Loss: 0.0010, Position Loss: 0.0345\n",
      "Epoch: 063  LR: 0.000500\n",
      "\tTrain:\tTotal Loss: 0.0692, Feature Loss: 0.0010, Position Loss: 0.0341\n",
      "\tTest:\tTotal Loss: 0.0699, Feature Loss: 0.0010, Position Loss: 0.0345\n",
      "Epoch: 064  LR: 0.000500\n",
      "\tTrain:\tTotal Loss: 0.0692, Feature Loss: 0.0009, Position Loss: 0.0341\n",
      "\tTest:\tTotal Loss: 0.0699, Feature Loss: 0.0009, Position Loss: 0.0345\n",
      "Epoch: 065  LR: 0.000500\n",
      "\tTrain:\tTotal Loss: 0.0691, Feature Loss: 0.0009, Position Loss: 0.0341\n",
      "\tTest:\tTotal Loss: 0.0698, Feature Loss: 0.0009, Position Loss: 0.0345\n",
      "Epoch: 066  LR: 0.000500\n",
      "\tTrain:\tTotal Loss: 0.0691, Feature Loss: 0.0009, Position Loss: 0.0341\n",
      "\tTest:\tTotal Loss: 0.0698, Feature Loss: 0.0009, Position Loss: 0.0344\n",
      "Epoch: 067  LR: 0.000500\n",
      "\tTrain:\tTotal Loss: 0.0690, Feature Loss: 0.0009, Position Loss: 0.0341\n",
      "\tTest:\tTotal Loss: 0.0697, Feature Loss: 0.0009, Position Loss: 0.0344\n",
      "Epoch: 068  LR: 0.000500\n",
      "\tTrain:\tTotal Loss: 0.0690, Feature Loss: 0.0009, Position Loss: 0.0341\n",
      "\tTest:\tTotal Loss: 0.0697, Feature Loss: 0.0009, Position Loss: 0.0344\n",
      "Epoch: 069  LR: 0.000500\n",
      "\tTrain:\tTotal Loss: 0.0689, Feature Loss: 0.0008, Position Loss: 0.0341\n",
      "\tTest:\tTotal Loss: 0.0696, Feature Loss: 0.0008, Position Loss: 0.0344\n",
      "Epoch: 070  LR: 0.000500\n",
      "\tTrain:\tTotal Loss: 0.0689, Feature Loss: 0.0008, Position Loss: 0.0340\n",
      "\tTest:\tTotal Loss: 0.0696, Feature Loss: 0.0008, Position Loss: 0.0344\n",
      "Epoch: 071  LR: 0.000500\n",
      "\tTrain:\tTotal Loss: 0.0689, Feature Loss: 0.0008, Position Loss: 0.0340\n",
      "\tTest:\tTotal Loss: 0.0696, Feature Loss: 0.0008, Position Loss: 0.0344\n",
      "Epoch: 072  LR: 0.000500\n",
      "\tTrain:\tTotal Loss: 0.0688, Feature Loss: 0.0008, Position Loss: 0.0340\n",
      "\tTest:\tTotal Loss: 0.0695, Feature Loss: 0.0008, Position Loss: 0.0344\n",
      "Epoch: 073  LR: 0.000500\n",
      "\tTrain:\tTotal Loss: 0.0688, Feature Loss: 0.0008, Position Loss: 0.0340\n",
      "\tTest:\tTotal Loss: 0.0695, Feature Loss: 0.0008, Position Loss: 0.0344\n",
      "Epoch: 074  LR: 0.000500\n",
      "\tTrain:\tTotal Loss: 0.0688, Feature Loss: 0.0008, Position Loss: 0.0340\n",
      "\tTest:\tTotal Loss: 0.0695, Feature Loss: 0.0008, Position Loss: 0.0344\n",
      "Epoch: 075  LR: 0.000500\n",
      "\tTrain:\tTotal Loss: 0.0687, Feature Loss: 0.0008, Position Loss: 0.0340\n",
      "\tTest:\tTotal Loss: 0.0695, Feature Loss: 0.0008, Position Loss: 0.0343\n",
      "Epoch: 076  LR: 0.000500\n",
      "\tTrain:\tTotal Loss: 0.0687, Feature Loss: 0.0008, Position Loss: 0.0340\n",
      "\tTest:\tTotal Loss: 0.0694, Feature Loss: 0.0008, Position Loss: 0.0343\n",
      "Epoch: 077  LR: 0.000500\n",
      "\tTrain:\tTotal Loss: 0.0687, Feature Loss: 0.0008, Position Loss: 0.0340\n",
      "\tTest:\tTotal Loss: 0.0694, Feature Loss: 0.0008, Position Loss: 0.0343\n",
      "Epoch: 078  LR: 0.000500\n",
      "\tTrain:\tTotal Loss: 0.0687, Feature Loss: 0.0008, Position Loss: 0.0340\n",
      "\tTest:\tTotal Loss: 0.0694, Feature Loss: 0.0008, Position Loss: 0.0343\n",
      "Epoch: 079  LR: 0.000500\n",
      "\tTrain:\tTotal Loss: 0.0686, Feature Loss: 0.0007, Position Loss: 0.0339\n",
      "\tTest:\tTotal Loss: 0.0694, Feature Loss: 0.0007, Position Loss: 0.0343\n",
      "Epoch: 080  LR: 0.000500\n",
      "\tTrain:\tTotal Loss: 0.0686, Feature Loss: 0.0007, Position Loss: 0.0339\n",
      "\tTest:\tTotal Loss: 0.0694, Feature Loss: 0.0007, Position Loss: 0.0343\n",
      "Epoch: 081  LR: 0.000500\n",
      "\tTrain:\tTotal Loss: 0.0686, Feature Loss: 0.0007, Position Loss: 0.0339\n",
      "\tTest:\tTotal Loss: 0.0693, Feature Loss: 0.0007, Position Loss: 0.0343\n",
      "Epoch: 082  LR: 0.000500\n",
      "\tTrain:\tTotal Loss: 0.0686, Feature Loss: 0.0007, Position Loss: 0.0339\n",
      "\tTest:\tTotal Loss: 0.0693, Feature Loss: 0.0007, Position Loss: 0.0343\n",
      "Epoch: 083  LR: 0.000500\n",
      "\tTrain:\tTotal Loss: 0.0686, Feature Loss: 0.0007, Position Loss: 0.0339\n",
      "\tTest:\tTotal Loss: 0.0693, Feature Loss: 0.0007, Position Loss: 0.0343\n",
      "Epoch: 084  LR: 0.000500\n",
      "\tTrain:\tTotal Loss: 0.0685, Feature Loss: 0.0007, Position Loss: 0.0339\n",
      "\tTest:\tTotal Loss: 0.0693, Feature Loss: 0.0007, Position Loss: 0.0343\n",
      "Epoch: 085  LR: 0.000500\n",
      "\tTrain:\tTotal Loss: 0.0685, Feature Loss: 0.0007, Position Loss: 0.0339\n",
      "\tTest:\tTotal Loss: 0.0693, Feature Loss: 0.0007, Position Loss: 0.0343\n",
      "Epoch: 086  LR: 0.000500\n",
      "\tTrain:\tTotal Loss: 0.0685, Feature Loss: 0.0007, Position Loss: 0.0339\n",
      "\tTest:\tTotal Loss: 0.0692, Feature Loss: 0.0007, Position Loss: 0.0343\n",
      "Epoch: 087  LR: 0.000500\n",
      "\tTrain:\tTotal Loss: 0.0685, Feature Loss: 0.0007, Position Loss: 0.0339\n",
      "\tTest:\tTotal Loss: 0.0692, Feature Loss: 0.0007, Position Loss: 0.0342\n",
      "Epoch: 088  LR: 0.000500\n",
      "\tTrain:\tTotal Loss: 0.0685, Feature Loss: 0.0007, Position Loss: 0.0339\n",
      "\tTest:\tTotal Loss: 0.0692, Feature Loss: 0.0007, Position Loss: 0.0342\n",
      "Epoch: 089  LR: 0.000500\n",
      "\tTrain:\tTotal Loss: 0.0684, Feature Loss: 0.0007, Position Loss: 0.0339\n",
      "\tTest:\tTotal Loss: 0.0692, Feature Loss: 0.0007, Position Loss: 0.0342\n",
      "Epoch: 090  LR: 0.000500\n",
      "\tTrain:\tTotal Loss: 0.0684, Feature Loss: 0.0007, Position Loss: 0.0338\n",
      "\tTest:\tTotal Loss: 0.0692, Feature Loss: 0.0007, Position Loss: 0.0342\n",
      "Epoch: 091  LR: 0.000500\n",
      "\tTrain:\tTotal Loss: 0.0684, Feature Loss: 0.0007, Position Loss: 0.0338\n",
      "\tTest:\tTotal Loss: 0.0692, Feature Loss: 0.0007, Position Loss: 0.0342\n",
      "Epoch: 092  LR: 0.000500\n",
      "\tTrain:\tTotal Loss: 0.0684, Feature Loss: 0.0007, Position Loss: 0.0338\n",
      "\tTest:\tTotal Loss: 0.0691, Feature Loss: 0.0007, Position Loss: 0.0342\n",
      "Epoch: 093  LR: 0.000500\n",
      "\tTrain:\tTotal Loss: 0.0684, Feature Loss: 0.0007, Position Loss: 0.0338\n",
      "\tTest:\tTotal Loss: 0.0691, Feature Loss: 0.0007, Position Loss: 0.0342\n",
      "Epoch: 094  LR: 0.000500\n",
      "\tTrain:\tTotal Loss: 0.0683, Feature Loss: 0.0007, Position Loss: 0.0338\n",
      "\tTest:\tTotal Loss: 0.0691, Feature Loss: 0.0007, Position Loss: 0.0342\n",
      "Epoch: 095  LR: 0.000500\n",
      "\tTrain:\tTotal Loss: 0.0683, Feature Loss: 0.0007, Position Loss: 0.0338\n",
      "\tTest:\tTotal Loss: 0.0691, Feature Loss: 0.0007, Position Loss: 0.0342\n",
      "Epoch: 096  LR: 0.000500\n",
      "\tTrain:\tTotal Loss: 0.0683, Feature Loss: 0.0007, Position Loss: 0.0338\n",
      "\tTest:\tTotal Loss: 0.0691, Feature Loss: 0.0007, Position Loss: 0.0342\n",
      "Epoch: 097  LR: 0.000500\n",
      "\tTrain:\tTotal Loss: 0.0683, Feature Loss: 0.0007, Position Loss: 0.0338\n",
      "\tTest:\tTotal Loss: 0.0691, Feature Loss: 0.0007, Position Loss: 0.0342\n",
      "Epoch: 098  LR: 0.000500\n",
      "\tTrain:\tTotal Loss: 0.0683, Feature Loss: 0.0007, Position Loss: 0.0338\n",
      "\tTest:\tTotal Loss: 0.0690, Feature Loss: 0.0007, Position Loss: 0.0342\n",
      "Epoch: 099  LR: 0.000500\n",
      "\tTrain:\tTotal Loss: 0.0683, Feature Loss: 0.0007, Position Loss: 0.0338\n",
      "\tTest:\tTotal Loss: 0.0690, Feature Loss: 0.0007, Position Loss: 0.0341\n",
      "Epoch: 100  LR: 0.000500\n",
      "\tTrain:\tTotal Loss: 0.0682, Feature Loss: 0.0007, Position Loss: 0.0338\n",
      "\tTest:\tTotal Loss: 0.0690, Feature Loss: 0.0007, Position Loss: 0.0341\n"
     ]
    }
   ],
   "source": [
    "train_total_losses = []\n",
    "train_feature_losses = []\n",
    "train_edge_losses = []\n",
    "train_kl_losses = []\n",
    "train_position_losses = []\n",
    "\n",
    "test_total_losses = []\n",
    "test_feature_losses = []\n",
    "test_edge_losses = []\n",
    "test_kl_losses = []\n",
    "test_position_losses = []\n",
    "\n",
    "\n",
    "\n",
    "\n",
    "for epoch in range(1, n_epochs + 1):\n",
    "    train_total_loss, train_feature_loss ,train_position_loss = train()\n",
    "    test_total_loss, test_feature_loss ,test_position_loss = test()\n",
    "    \n",
    "    print(f\"Epoch: {epoch:03d}  LR: {scheduler.get_last_lr()[0]:.6f}\")\n",
    "    print(f'\\tTrain:\\tTotal Loss: {train_total_loss:.4f}, Feature Loss: {train_feature_loss:.4f}, Position Loss: {train_position_loss:.4f}')\n",
    "    print(f'\\tTest:\\tTotal Loss: {test_total_loss:.4f}, Feature Loss: {test_feature_loss:.4f}, Position Loss: {test_position_loss:.4f}')\n",
    "\n",
    "    train_total_losses.append(train_total_loss)\n",
    "    train_feature_losses.append(train_feature_loss)\n",
    "    train_position_losses.append(train_position_loss)\n",
    "\n",
    "    test_total_losses.append(test_total_loss)\n",
    "    test_feature_losses.append(test_feature_loss)\n",
    "    test_position_losses.append(test_position_loss)\n",
    "    \n",
    "\n",
    "    scheduler.step()\n",
    "\n",
    "    torch.save(model,\"./models/\"+model_name)"
   ]
  },
  {
   "cell_type": "code",
   "execution_count": 199,
   "id": "1c078de3",
   "metadata": {},
   "outputs": [
    {
     "data": {
      "image/png": "[encoded data removed]",
      "text/plain": [
       "<Figure size 640x480 with 1 Axes>"
      ]
     },
     "metadata": {},
     "output_type": "display_data"
    }
   ],
   "source": [
    "plt.plot(train_feature_losses)\n",
    "\n",
    "plt.title(\"Test Feature Loss\")\n",
    "plt.legend(['Feature Loss', 'KL Loss'])\n",
    "plt.show()"
   ]
  },
  {
   "cell_type": "code",
   "execution_count": 200,
   "id": "099e4f2e",
   "metadata": {},
   "outputs": [
    {
     "data": {
      "text/plain": [
       "Text(0.5, 1.0, 'Test Position Loss')"
      ]
     },
     "execution_count": 200,
     "metadata": {},
     "output_type": "execute_result"
    },
    {
     "data": {
      "image/png": "[encoded data removed]",
      "text/plain": [
       "<Figure size 640x480 with 1 Axes>"
      ]
     },
     "metadata": {},
     "output_type": "display_data"
    }
   ],
   "source": [
    "plt.plot(train_position_losses)\n",
    "plt.title(\"Test Position Loss\")\n"
   ]
  },
  {
   "cell_type": "code",
   "execution_count": 230,
   "id": "7cf7bc6b",
   "metadata": {},
   "outputs": [
    {
     "name": "stdout",
     "output_type": "stream",
     "text": [
      "Average Error without scaling 0.02079782413442216\n",
      "Average Error with scaling 7.397789122653234\n"
     ]
    }
   ],
   "source": [
    "from torch.functional import F\n",
    "avg1 = 0\n",
    "avg2 = 0\n",
    "for ind in range(len(test_loader)):\n",
    "    graph = test_loader.dataset[ind]\n",
    "    input_x = graph.x\n",
    "    input_edge = graph.edge_index\n",
    "\n",
    "    decoded_x , z = model.forward(input_x, input_edge)\n",
    "\n",
    "    Error_wo_s = F.mse_loss(decoded_x, input_x).detach().numpy()\n",
    "\n",
    "    decoded_x = scaler.inverse_transform(decoded_x.detach().numpy())\n",
    "    input_x = scaler.inverse_transform(graph.x.detach().numpy())\n",
    "\n",
    "    Error_af_s = F.mse_loss(torch.from_numpy(decoded_x), torch.from_numpy(input_x)).detach().numpy()\n",
    "\n",
    "    z = z.detach().numpy()\n",
    "\n",
    "    avg1 += Error_wo_s\n",
    "    avg2 += Error_af_s\n",
    "    # print(input_x)\n",
    "# print(z)\n",
    "# print(decoded_x)\n",
    "\n",
    "print(\"Average Error without scaling\", avg1/len(test_loader))\n",
    "print(\"Average Error with scaling\", avg2/len(test_loader))"
   ]
  },
  {
   "cell_type": "code",
   "execution_count": null,
   "id": "7b47d12d",
   "metadata": {},
   "outputs": [],
   "source": []
  }
 ],
 "metadata": {
  "kernelspec": {
   "display_name": "GAENN",
   "language": "python",
   "name": "python3"
  },
  "language_info": {
   "codemirror_mode": {
    "name": "ipython",
    "version": 3
   },
   "file_extension": ".py",
   "mimetype": "text/x-python",
   "name": "python",
   "nbconvert_exporter": "python",
   "pygments_lexer": "ipython3",
   "version": "3.8.16"
  },
  "vscode": {
   "interpreter": {
    "hash": "80a33ba5fbbc6f374c4c23ec54f7c94fc3dd605e2ab2c49345e5901997a9893b"
   }
  }
 },
 "nbformat": 4,
 "nbformat_minor": 5
}
