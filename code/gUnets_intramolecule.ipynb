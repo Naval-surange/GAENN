{
 "cells": [
  {
   "cell_type": "code",
   "execution_count": 1,
   "id": "f0b7f33c",
   "metadata": {},
   "outputs": [
    {
     "data": {
      "application/vnd.jupyter.widget-view+json": {
       "model_id": "1e96c1b34ced43189180ad01e77d8991",
       "version_major": 2,
       "version_minor": 0
      },
      "text/plain": []
     },
     "metadata": {},
     "output_type": "display_data"
    }
   ],
   "source": [
    "import mdtraj as md \n",
    "from ase import Atoms\n",
    "from nglview import show_ase\n",
    "import networkx as nx\n",
    "\n",
    "import torch\n",
    "import torch_geometric.transforms as T\n",
    "from torch_geometric.loader import DataLoader\n",
    "from torch_geometric.nn import  GCNConv,BatchNorm\n",
    "import torch_geometric.data as data\n",
    "from torch_geometric.utils.convert import to_networkx\n",
    "\n",
    "import numpy as np\n",
    "import matplotlib.pyplot as plt\n",
    "import torch.nn.functional as F\n",
    "import torch.optim.lr_scheduler as lr_scheduler\n",
    "from sklearn.preprocessing import MinMaxScaler"
   ]
  },
  {
   "cell_type": "code",
   "execution_count": 2,
   "id": "47849179",
   "metadata": {},
   "outputs": [],
   "source": [
    "# load alanine dipeptide trajectory \n",
    "molecule = md.load_pdb(\"../simulation/single.pdb\")"
   ]
  },
  {
   "cell_type": "code",
   "execution_count": 3,
   "id": "b0f3958f",
   "metadata": {},
   "outputs": [
    {
     "data": {
      "application/vnd.jupyter.widget-view+json": {
       "model_id": "ce0f5f445bde446986271be560d3f7f3",
       "version_major": 2,
       "version_minor": 0
      },
      "text/plain": [
       "NGLWidget()"
      ]
     },
     "metadata": {},
     "output_type": "display_data"
    }
   ],
   "source": [
    "atomic_nums = [atom.element.atomic_number for atom in molecule.top.atoms] \n",
    "water = Atoms(positions= molecule.xyz[0], numbers=atomic_nums)\n",
    "show_ase(water)"
   ]
  },
  {
   "cell_type": "code",
   "execution_count": 4,
   "id": "28c0855b",
   "metadata": {},
   "outputs": [
    {
     "data": {
      "text/plain": [
       "array([[[ 0.        ,  0.        ,  0.        ],\n",
       "        [ 0.957     ,  0.        ,  0.        ],\n",
       "        [-0.23900001,  0.926     ,  0.        ],\n",
       "        [ 0.        ,  0.46      ,  0.32000002]]], dtype=float32)"
      ]
     },
     "execution_count": 4,
     "metadata": {},
     "output_type": "execute_result"
    }
   ],
   "source": [
    "molecule.xyz*10"
   ]
  },
  {
   "cell_type": "code",
   "execution_count": 5,
   "id": "056bd4df",
   "metadata": {},
   "outputs": [],
   "source": [
    "def rotate3D(features,psi,theta,phi):\n",
    "    xyz = features[:,:3]\n",
    "    rest = features[:,3:]\n",
    "    matrix = np.array([[np.cos(psi)*np.cos(phi)-np.cos(theta)*np.sin(phi)*np.sin(psi),np.cos(psi)*np.sin(phi)+np.cos(theta)*np.cos(phi)*np.sin(psi),np.sin(psi)*np.sin(theta)],\n",
    "                          [-np.sin(psi)*np.cos(phi)-np.cos(theta)*np.sin(phi)*np.cos(psi),-np.sin(psi)*np.sin(phi)+np.cos(theta)*np.cos(phi)*np.cos(psi),np.cos(psi)*np.sin(theta)],\n",
    "                            [np.sin(theta)*np.sin(phi),-np.sin(theta)*np.cos(phi),np.cos(theta)]])\n",
    "    return np.concatenate((np.dot(xyz,matrix) *10 , rest),axis=1) "
   ]
  },
  {
   "cell_type": "code",
   "execution_count": 6,
   "id": "523132d7",
   "metadata": {},
   "outputs": [
    {
     "name": "stdout",
     "output_type": "stream",
     "text": [
      "Absolute positions:\n",
      " [[ 0.          0.          0.        ]\n",
      " [ 0.957       0.          0.        ]\n",
      " [-0.23900001  0.926       0.        ]\n",
      " [ 0.          0.46        0.32000002]]\n",
      "\n",
      "Relative positions:\n",
      " [[-0.04017169 -0.05180917  0.        ]\n",
      " [ 0.91682833 -0.05180917  0.        ]\n",
      " [-0.27917169  0.87419083  0.        ]\n",
      " [-0.04017169  0.40819084  0.32000002]]\n",
      "\n",
      "atomic_numbers:\n",
      " [[8]\n",
      " [1]\n",
      " [1]\n",
      " [0]]\n",
      "\n",
      "Vander wall Radii:\n",
      " [[0.152]\n",
      " [0.12 ]\n",
      " [0.12 ]\n",
      " [0.   ]]\n",
      "\n",
      "Atomic Mass:\n",
      " [[15.99943 ]\n",
      " [ 1.007947]\n",
      " [ 1.007947]\n",
      " [ 0.      ]]\n"
     ]
    }
   ],
   "source": [
    "\n",
    "# atomic Number\n",
    "atomic_nums = np.array([[atom.element.atomic_number for atom in molecule.top.atoms]]).T\n",
    "\n",
    "# Vander wall Radii\n",
    "vdwr = np.array([[atom.element.radius for atom in molecule.top.atoms]]).T\n",
    "\n",
    "# Atomic Mass \n",
    "mass = np.array([[atom.element.mass for atom in molecule.top.atoms]]).T\n",
    "\n",
    "atom_type = np.array([[2,1,1,0]]).T\n",
    "\n",
    "# Relative position of atoms on one molecule\n",
    "poitions = molecule.xyz[0]*10\n",
    "# calculate weighted average of the positions of the atoms in the molecule\n",
    "com = np.average(poitions, axis=0, weights=mass.T[0])\n",
    "# relative position of atoms in the molecule\n",
    "\n",
    "relative_pos = poitions-com\n",
    "\n",
    "\n",
    "print(\"Absolute positions:\\n\",poitions)\n",
    "print(\"\\nRelative positions:\\n\",relative_pos)\n",
    "print(\"\\natomic_numbers:\\n\",atomic_nums)\n",
    "print(\"\\nVander wall Radii:\\n\", vdwr)\n",
    "print(\"\\nAtomic Mass:\\n\",mass)"
   ]
  },
  {
   "cell_type": "code",
   "execution_count": 7,
   "id": "4a71a802",
   "metadata": {},
   "outputs": [
    {
     "name": "stdout",
     "output_type": "stream",
     "text": [
      "Node Features:\n",
      " [[-0.04017169 -0.05180917  0.          0.152       2.        ]\n",
      " [ 0.91682833 -0.05180917  0.          0.12        1.        ]\n",
      " [-0.27917169  0.87419083  0.          0.12        1.        ]\n",
      " [-0.04017169  0.40819084  0.32000002  0.          0.        ]]\n"
     ]
    }
   ],
   "source": [
    "node_features = np.concatenate((relative_pos,vdwr,atom_type),axis=1)\n",
    "print(\"Node Features:\\n\",node_features)"
   ]
  },
  {
   "cell_type": "code",
   "execution_count": 8,
   "id": "99d9f171",
   "metadata": {},
   "outputs": [
    {
     "name": "stdout",
     "output_type": "stream",
     "text": [
      "Normalized Node Features:\n",
      " [[0.19983278 0.         0.         1.         1.        ]\n",
      " [1.         0.         0.         0.78947368 0.5       ]\n",
      " [0.         1.         0.         0.78947368 0.5       ]\n",
      " [0.19983278 0.49676027 1.         0.         0.        ]]\n"
     ]
    }
   ],
   "source": [
    "normalized_node_features = (node_features - node_features.min(axis=0))/(node_features.max(axis=0)-node_features.min(axis=0))\n",
    "print(\"Normalized Node Features:\\n\",normalized_node_features)"
   ]
  },
  {
   "cell_type": "code",
   "execution_count": 9,
   "id": "56454361",
   "metadata": {},
   "outputs": [],
   "source": [
    "from_list = []\n",
    "to_list = []\n",
    "for edge in molecule.topology.bonds:\n",
    "  from_list.append(edge.atom1.index)\n",
    "  to_list.append(edge.atom2.index)\n",
    "  from_list.append(edge.atom2.index)\n",
    "  to_list.append(edge.atom1.index)\n",
    "\n",
    "edge_list = np.array([from_list,to_list])"
   ]
  },
  {
   "cell_type": "code",
   "execution_count": 10,
   "id": "4a30f2c8",
   "metadata": {},
   "outputs": [],
   "source": [
    "graph = data.Data(x=torch.from_numpy(normalized_node_features),edge_index=torch.from_numpy(edge_list))"
   ]
  },
  {
   "cell_type": "code",
   "execution_count": 11,
   "id": "e5ec3900",
   "metadata": {},
   "outputs": [
    {
     "name": "stdout",
     "output_type": "stream",
     "text": [
      "Data(x=[4, 5], edge_index=[2, 4])\n"
     ]
    }
   ],
   "source": [
    "print(graph)"
   ]
  },
  {
   "cell_type": "code",
   "execution_count": 12,
   "id": "550a8219",
   "metadata": {},
   "outputs": [
    {
     "data": {
      "image/png": "[encoded data removed]",
      "text/plain": [
       "<Figure size 640x480 with 1 Axes>"
      ]
     },
     "metadata": {},
     "output_type": "display_data"
    }
   ],
   "source": [
    "vis = to_networkx(graph)\n",
    "nx.draw_networkx(vis)"
   ]
  },
  {
   "cell_type": "code",
   "execution_count": 13,
   "id": "d9c0de1e",
   "metadata": {},
   "outputs": [],
   "source": [
    "def convert_to_adj(edge_index, num_nodes=None):\n",
    "    if num_nodes is None:\n",
    "        num_nodes = edge_index.max() + 1\n",
    "    adj = torch.zeros(num_nodes, num_nodes)\n",
    "    adj[edge_index[0], edge_index[1]] = 1\n",
    "    return adj\n",
    "\n",
    "def convert_to_edge_index(adj):\n",
    "    edge_index = adj.nonzero().t()\n",
    "    return edge_index"
   ]
  },
  {
   "cell_type": "code",
   "execution_count": 14,
   "id": "fd15ec9e",
   "metadata": {},
   "outputs": [],
   "source": [
    "graphs = []\n",
    "n_graphs = 5000"
   ]
  },
  {
   "cell_type": "code",
   "execution_count": 15,
   "id": "8c3ce483",
   "metadata": {},
   "outputs": [],
   "source": [
    "all_features = []\n",
    "real_node_features = []\n",
    "\n",
    "for i in range(n_graphs):\n",
    "    rotated = rotate3D(node_features,np.random.uniform(0,2*np.pi),np.random.uniform(0,2*np.pi),np.random.uniform(0,2*np.pi))\n",
    "    real_node_features.append(rotated)\n",
    "\n",
    "    noisy_node_features = rotated + np.random.normal(0,0.1,rotated.shape)\n",
    "\n",
    "    all_features.append(noisy_node_features)\n",
    "    real_node_features.append(rotated)\n",
    "\n",
    "all_features = np.array(all_features)    \n",
    "real_node_features = np.array(real_node_features)"
   ]
  },
  {
   "cell_type": "code",
   "execution_count": 16,
   "id": "88c69000",
   "metadata": {},
   "outputs": [],
   "source": [
    "scaler = MinMaxScaler()\n",
    "scaler.fit(all_features.reshape(-1,1))\n",
    "normalized_node_features = scaler.transform(all_features.reshape(-1,1)).reshape(all_features.shape)\n",
    "\n",
    "normalized_real_node_features = scaler.transform(real_node_features.reshape(-1,1)).reshape(real_node_features.shape)\n"
   ]
  },
  {
   "cell_type": "code",
   "execution_count": 17,
   "id": "d2994ed9",
   "metadata": {},
   "outputs": [],
   "source": [
    "for x,y in zip(normalized_node_features,normalized_real_node_features):\n",
    "    graph = data.Data(x=torch.from_numpy(x),edge_index=torch.from_numpy(edge_list),y=torch.from_numpy(y))\n",
    "    graphs.append(graph)\n",
    "    "
   ]
  },
  {
   "cell_type": "code",
   "execution_count": 18,
   "id": "c862a5f3",
   "metadata": {
    "scrolled": true
   },
   "outputs": [
    {
     "data": {
      "text/plain": [
       "Data(x=[4, 5], edge_index=[2, 4], y=[4, 5])"
      ]
     },
     "execution_count": 18,
     "metadata": {},
     "output_type": "execute_result"
    }
   ],
   "source": [
    "graphs[0]"
   ]
  },
  {
   "cell_type": "code",
   "execution_count": 19,
   "id": "526b1043",
   "metadata": {},
   "outputs": [],
   "source": [
    "from typing import Callable, List, Union\n",
    "\n",
    "import torch\n",
    "from torch import Tensor\n",
    "\n",
    "from torch_geometric.nn import GCNConv, TopKPooling\n",
    "from torch_geometric.nn.resolver import activation_resolver\n",
    "from torch_geometric.typing import OptTensor, PairTensor\n",
    "from torch_geometric.utils import (\n",
    "    add_self_loops,\n",
    "    remove_self_loops,\n",
    "    to_torch_csr_tensor,\n",
    ")\n",
    "from torch_geometric.utils.repeat import repeat\n",
    "\n",
    "\n",
    "class GraphUNet(torch.nn.Module):\n",
    "    r\"\"\"The Graph U-Net model from the `\"Graph U-Nets\"\n",
    "    <https://arxiv.org/abs/1905.05178>`_ paper which implements a U-Net like\n",
    "    architecture with graph pooling and unpooling operations.\n",
    "\n",
    "    Args:\n",
    "        in_channels (int): Size of each input sample.\n",
    "        hidden_channels (int): Size of each hidden sample.\n",
    "        out_channels (int): Size of each output sample.\n",
    "        depth (int): The depth of the U-Net architecture.\n",
    "        pool_ratios (float or [float], optional): Graph pooling ratio for each\n",
    "            depth. (default: :obj:`0.5`)\n",
    "        sum_res (bool, optional): If set to :obj:`False`, will use\n",
    "            concatenation for integration of skip connections instead\n",
    "            summation. (default: :obj:`True`)\n",
    "        act (torch.nn.functional, optional): The nonlinearity to use.\n",
    "            (default: :obj:`torch.nn.functional.relu`)\n",
    "    \"\"\"\n",
    "    def __init__(\n",
    "        self,\n",
    "        in_channels: int,\n",
    "        hidden_channels: int,\n",
    "        out_channels: int,\n",
    "        depth: int,\n",
    "        pool_ratios: Union[float, List[float]] = 0.5,\n",
    "        sum_res: bool = True,\n",
    "        act: Union[str, Callable] = 'relu',\n",
    "    ):\n",
    "        super().__init__()\n",
    "        assert depth >= 1\n",
    "        self.in_channels = in_channels\n",
    "        self.hidden_channels = hidden_channels\n",
    "        self.out_channels = out_channels\n",
    "        self.depth = depth\n",
    "        self.pool_ratios = repeat(pool_ratios, depth)\n",
    "        self.act = activation_resolver(act)\n",
    "        self.sum_res = sum_res\n",
    "\n",
    "        channels = hidden_channels\n",
    "\n",
    "        self.down_convs = torch.nn.ModuleList()\n",
    "        self.pools = torch.nn.ModuleList()\n",
    "        self.down_convs.append(GCNConv(in_channels, channels, improved=True))\n",
    "        for i in range(depth):\n",
    "            self.pools.append(TopKPooling(channels, self.pool_ratios[i]))\n",
    "            self.down_convs.append(GCNConv(channels, channels, improved=True))\n",
    "\n",
    "        in_channels = channels if sum_res else 2 * channels\n",
    "\n",
    "        self.up_convs = torch.nn.ModuleList()\n",
    "        for i in range(depth - 1):\n",
    "            self.up_convs.append(GCNConv(in_channels, channels, improved=True))\n",
    "        self.up_convs.append(GCNConv(in_channels, out_channels, improved=True))\n",
    "\n",
    "        self.reset_parameters()\n",
    "\n",
    "    def reset_parameters(self):\n",
    "        r\"\"\"Resets all learnable parameters of the module.\"\"\"\n",
    "        for conv in self.down_convs:\n",
    "            conv.reset_parameters()\n",
    "        for pool in self.pools:\n",
    "            pool.reset_parameters()\n",
    "        for conv in self.up_convs:\n",
    "            conv.reset_parameters()\n",
    "\n",
    "    def forward(self, x: Tensor, edge_index: Tensor,\n",
    "                batch: OptTensor = None) -> Tensor:\n",
    "        \"\"\"\"\"\"\n",
    "        if batch is None:\n",
    "            batch = edge_index.new_zeros(x.size(0))\n",
    "        edge_weight = x.new_ones(edge_index.size(1))\n",
    "\n",
    "        x = self.down_convs[0](x, edge_index, edge_weight)\n",
    "        x = self.act(x)\n",
    "\n",
    "        xs = [x]\n",
    "        edge_indices = [edge_index]\n",
    "        edge_weights = [edge_weight]\n",
    "        perms = []\n",
    "        encoded = None\n",
    "        for i in range(1, self.depth + 1):\n",
    "            edge_index, edge_weight = self.augment_adj(edge_index, edge_weight,\n",
    "                                                       x.size(0))\n",
    "            x, edge_index, edge_weight, batch, perm, _ = self.pools[i - 1](\n",
    "                x, edge_index, edge_weight, batch)\n",
    "\n",
    "            x = self.down_convs[i](x, edge_index, edge_weight)\n",
    "            x = self.act(x)\n",
    "\n",
    "            if i < self.depth:\n",
    "                xs += [x]\n",
    "                edge_indices += [edge_index]\n",
    "                edge_weights += [edge_weight]\n",
    "            perms += [perm]\n",
    "        encoded = x\n",
    "        for i in range(self.depth):\n",
    "            j = self.depth - 1 - i\n",
    "\n",
    "            res = xs[j]\n",
    "            edge_index = edge_indices[j]\n",
    "            edge_weight = edge_weights[j]\n",
    "            perm = perms[j]\n",
    "\n",
    "            up = torch.zeros_like(res)\n",
    "            up[perm] = x\n",
    "            x = res + up if self.sum_res else torch.cat((res, up), dim=-1)\n",
    "\n",
    "            x = self.up_convs[i](x, edge_index, edge_weight)\n",
    "            x = self.act(x) if i < self.depth - 1 else x\n",
    "\n",
    "        return x,encoded\n",
    "\n",
    "    def augment_adj(self, edge_index: Tensor, edge_weight: Tensor,\n",
    "                    num_nodes: int) -> PairTensor:\n",
    "        edge_index, edge_weight = remove_self_loops(edge_index, edge_weight)\n",
    "        edge_index, edge_weight = add_self_loops(edge_index, edge_weight,\n",
    "                                                 num_nodes=num_nodes)\n",
    "        adj = to_torch_csr_tensor(edge_index, edge_weight,\n",
    "                                  size=(num_nodes, num_nodes))\n",
    "        adj = (adj @ adj).to_sparse_coo()\n",
    "        edge_index, edge_weight = adj.indices(), adj.values()\n",
    "        edge_index, edge_weight = remove_self_loops(edge_index, edge_weight)\n",
    "        return edge_index, edge_weight\n",
    "\n",
    "    def __repr__(self) -> str:\n",
    "        return (f'{self.__class__.__name__}({self.in_channels}, '\n",
    "                f'{self.hidden_channels}, {self.out_channels}, '\n",
    "                f'depth={self.depth}, pool_ratios={self.pool_ratios})')"
   ]
  },
  {
   "cell_type": "code",
   "execution_count": 20,
   "id": "1f6f35a7",
   "metadata": {},
   "outputs": [],
   "source": [
    "import torch\n",
    "import torch.nn.functional as F\n",
    "from torch_geometric.data import Data\n",
    "input_dim=graph.x.size(-1)\n",
    "output_dim=graph.y.size(-1)\n",
    "hidden_channels=4\n",
    "depth=10"
   ]
  },
  {
   "cell_type": "code",
   "execution_count": 21,
   "id": "55e2b658",
   "metadata": {},
   "outputs": [
    {
     "data": {
      "text/plain": [
       "5"
      ]
     },
     "execution_count": 21,
     "metadata": {},
     "output_type": "execute_result"
    }
   ],
   "source": [
    "graph.num_features"
   ]
  },
  {
   "cell_type": "code",
   "execution_count": 22,
   "id": "b67af2d8",
   "metadata": {},
   "outputs": [],
   "source": [
    "import os\n",
    "\n",
    "\n",
    "in_channels = graph.num_features\n",
    "out_channels = 2\n",
    "lr = 1e-3\n",
    "n_epochs = 100\n",
    "batch_size=64\n",
    "test_train_split = 0.8\n",
    "model_name = \"GUNET_v1.pt\"\n",
    "model_loaded = False\n",
    "force_train = True"
   ]
  },
  {
   "cell_type": "code",
   "execution_count": null,
   "id": "7bafc949",
   "metadata": {},
   "outputs": [],
   "source": []
  },
  {
   "cell_type": "code",
   "execution_count": 23,
   "id": "48b4f640",
   "metadata": {},
   "outputs": [],
   "source": [
    "model=GraphUNet(input_dim, hidden_channels, output_dim,depth)\n",
    "split = int(test_train_split * len(graphs))\n",
    "train_loader = DataLoader(graphs[:split], batch_size=batch_size)\n",
    "test_loader = DataLoader(graphs[split:], batch_size=batch_size)\n",
    "\n",
    "optimizer = torch.optim.Adam(model.parameters(), lr=lr)\n",
    "scheduler = lr_scheduler.StepLR(optimizer, step_size=50, gamma=0.5)"
   ]
  },
  {
   "cell_type": "code",
   "execution_count": 24,
   "id": "1de8a55c",
   "metadata": {},
   "outputs": [],
   "source": [
    "lossFxn = torch.nn.MSELoss()\n",
    "def train():\n",
    "    model.train()\n",
    "    model.double()\n",
    "    loss_all = 0\n",
    "    feature_loss_all = 0\n",
    "    position_loss_all = 0\n",
    "\n",
    "    for data in train_loader:\n",
    "        optimizer.zero_grad()\n",
    "        decoded_x , z = model.forward(data.x, data.edge_index)\n",
    "        \n",
    "        decoded_pos = decoded_x[:,:3]\n",
    "        decoded_features = decoded_x[:,3:]\n",
    "        orignal_pos = data.x[:,:3]\n",
    "        orignal_features = data.x[:,3:]\n",
    "\n",
    "        positionLoss = lossFxn(decoded_pos, orignal_pos)\n",
    "        FeatureLoss = lossFxn(decoded_features, orignal_features)\n",
    "\n",
    "        loss = FeatureLoss + 2*positionLoss\n",
    "        \n",
    "        loss_all +=  float(loss)\n",
    "        feature_loss_all += float(FeatureLoss)\n",
    "        position_loss_all += float(positionLoss)\n",
    "\n",
    "        loss.backward()\n",
    "        optimizer.step()\n",
    "\n",
    "    return loss_all / len(train_loader), feature_loss_all / len(train_loader), position_loss_all / len(train_loader)"
   ]
  },
  {
   "cell_type": "code",
   "execution_count": 25,
   "id": "473abbc1",
   "metadata": {},
   "outputs": [],
   "source": [
    "lossFxn = torch.nn.MSELoss()\n",
    "def test():\n",
    "    model.eval()\n",
    "    model.double()\n",
    "    loss_all = 0\n",
    "    feature_loss_all = 0\n",
    "    position_loss_all = 0\n",
    "\n",
    "    for data in test_loader:\n",
    "        optimizer.zero_grad()\n",
    "        decoded_x , z = model.forward(data.x, data.edge_index)\n",
    "        \n",
    "        decoded_pos = decoded_x[:,:3]\n",
    "        decoded_features = decoded_x[:,3:]\n",
    "        orignal_pos = data.x[:,:3]\n",
    "        orignal_features = data.x[:,3:]\n",
    "\n",
    "        positionLoss = lossFxn(decoded_pos, orignal_pos)\n",
    "        FeatureLoss = lossFxn(decoded_features, orignal_features)\n",
    "\n",
    "        loss = FeatureLoss + 2*positionLoss\n",
    "        \n",
    "        loss_all +=  float(loss)\n",
    "        feature_loss_all += float(FeatureLoss)\n",
    "        position_loss_all += float(positionLoss)\n",
    "\n",
    "    return loss_all / len(test_loader), feature_loss_all / len(test_loader), position_loss_all / len(test_loader)"
   ]
  },
  {
   "cell_type": "code",
   "execution_count": 26,
   "id": "c87312d3",
   "metadata": {},
   "outputs": [
    {
     "name": "stderr",
     "output_type": "stream",
     "text": [
      "/home/imami/anaconda3/lib/python3.10/site-packages/torch_geometric/utils/sparse.py:176: UserWarning: Sparse CSR tensor support is in beta state. If you miss a functionality in the sparse tensor support, please submit a feature request to https://github.com/pytorch/pytorch/issues. (Triggered internally at /opt/conda/conda-bld/pytorch_1682343904639/work/aten/src/ATen/SparseCsrTensorImpl.cpp:54.)\n",
      "  return adj.to_sparse_csr()\n"
     ]
    },
    {
     "name": "stdout",
     "output_type": "stream",
     "text": [
      "Epoch: 001  LR: 0.001000\n",
      "\tTrain:\tTotal Loss: 0.4448, Feature Loss: 0.1479, Position Loss: 0.1484\n",
      "\tTest:\tTotal Loss: 0.3026, Feature Loss: 0.0870, Position Loss: 0.1078\n",
      "Epoch: 002  LR: 0.001000\n",
      "\tTrain:\tTotal Loss: 0.2261, Feature Loss: 0.0627, Position Loss: 0.0817\n",
      "\tTest:\tTotal Loss: 0.1683, Feature Loss: 0.0444, Position Loss: 0.0619\n",
      "Epoch: 003  LR: 0.001000\n",
      "\tTrain:\tTotal Loss: 0.1346, Feature Loss: 0.0340, Position Loss: 0.0503\n",
      "\tTest:\tTotal Loss: 0.1095, Feature Loss: 0.0252, Position Loss: 0.0422\n",
      "Epoch: 004  LR: 0.001000\n",
      "\tTrain:\tTotal Loss: 0.0950, Feature Loss: 0.0201, Position Loss: 0.0374\n",
      "\tTest:\tTotal Loss: 0.0852, Feature Loss: 0.0163, Position Loss: 0.0344\n",
      "Epoch: 005  LR: 0.001000\n",
      "\tTrain:\tTotal Loss: 0.0803, Feature Loss: 0.0142, Position Loss: 0.0331\n",
      "\tTest:\tTotal Loss: 0.0770, Feature Loss: 0.0121, Position Loss: 0.0324\n",
      "Epoch: 006  LR: 0.001000\n",
      "\tTrain:\tTotal Loss: 0.0750, Feature Loss: 0.0109, Position Loss: 0.0321\n",
      "\tTest:\tTotal Loss: 0.0734, Feature Loss: 0.0095, Position Loss: 0.0320\n",
      "Epoch: 007  LR: 0.001000\n",
      "\tTrain:\tTotal Loss: 0.0725, Feature Loss: 0.0088, Position Loss: 0.0318\n",
      "\tTest:\tTotal Loss: 0.0719, Feature Loss: 0.0083, Position Loss: 0.0318\n",
      "Epoch: 008  LR: 0.001000\n",
      "\tTrain:\tTotal Loss: 0.0715, Feature Loss: 0.0082, Position Loss: 0.0317\n",
      "\tTest:\tTotal Loss: 0.0711, Feature Loss: 0.0079, Position Loss: 0.0316\n",
      "Epoch: 009  LR: 0.001000\n",
      "\tTrain:\tTotal Loss: 0.0708, Feature Loss: 0.0079, Position Loss: 0.0314\n",
      "\tTest:\tTotal Loss: 0.0703, Feature Loss: 0.0076, Position Loss: 0.0314\n",
      "Epoch: 010  LR: 0.001000\n",
      "\tTrain:\tTotal Loss: 0.0700, Feature Loss: 0.0076, Position Loss: 0.0312\n",
      "\tTest:\tTotal Loss: 0.0695, Feature Loss: 0.0073, Position Loss: 0.0311\n",
      "Epoch: 011  LR: 0.001000\n",
      "\tTrain:\tTotal Loss: 0.0692, Feature Loss: 0.0073, Position Loss: 0.0310\n",
      "\tTest:\tTotal Loss: 0.0688, Feature Loss: 0.0071, Position Loss: 0.0309\n",
      "Epoch: 012  LR: 0.001000\n",
      "\tTrain:\tTotal Loss: 0.0685, Feature Loss: 0.0071, Position Loss: 0.0307\n",
      "\tTest:\tTotal Loss: 0.0681, Feature Loss: 0.0069, Position Loss: 0.0306\n",
      "Epoch: 013  LR: 0.001000\n",
      "\tTrain:\tTotal Loss: 0.0679, Feature Loss: 0.0069, Position Loss: 0.0305\n",
      "\tTest:\tTotal Loss: 0.0674, Feature Loss: 0.0067, Position Loss: 0.0304\n",
      "Epoch: 014  LR: 0.001000\n",
      "\tTrain:\tTotal Loss: 0.0672, Feature Loss: 0.0067, Position Loss: 0.0303\n",
      "\tTest:\tTotal Loss: 0.0668, Feature Loss: 0.0065, Position Loss: 0.0302\n",
      "Epoch: 015  LR: 0.001000\n",
      "\tTrain:\tTotal Loss: 0.0666, Feature Loss: 0.0065, Position Loss: 0.0300\n",
      "\tTest:\tTotal Loss: 0.0662, Feature Loss: 0.0063, Position Loss: 0.0299\n",
      "Epoch: 016  LR: 0.001000\n",
      "\tTrain:\tTotal Loss: 0.0660, Feature Loss: 0.0063, Position Loss: 0.0298\n",
      "\tTest:\tTotal Loss: 0.0656, Feature Loss: 0.0061, Position Loss: 0.0297\n",
      "Epoch: 017  LR: 0.001000\n",
      "\tTrain:\tTotal Loss: 0.0654, Feature Loss: 0.0062, Position Loss: 0.0296\n",
      "\tTest:\tTotal Loss: 0.0650, Feature Loss: 0.0060, Position Loss: 0.0295\n",
      "Epoch: 018  LR: 0.001000\n",
      "\tTrain:\tTotal Loss: 0.0648, Feature Loss: 0.0060, Position Loss: 0.0294\n",
      "\tTest:\tTotal Loss: 0.0644, Feature Loss: 0.0059, Position Loss: 0.0293\n",
      "Epoch: 019  LR: 0.001000\n",
      "\tTrain:\tTotal Loss: 0.0643, Feature Loss: 0.0059, Position Loss: 0.0292\n",
      "\tTest:\tTotal Loss: 0.0639, Feature Loss: 0.0057, Position Loss: 0.0291\n",
      "Epoch: 020  LR: 0.001000\n",
      "\tTrain:\tTotal Loss: 0.0637, Feature Loss: 0.0057, Position Loss: 0.0290\n",
      "\tTest:\tTotal Loss: 0.0634, Feature Loss: 0.0056, Position Loss: 0.0289\n",
      "Epoch: 021  LR: 0.001000\n",
      "\tTrain:\tTotal Loss: 0.0632, Feature Loss: 0.0056, Position Loss: 0.0288\n",
      "\tTest:\tTotal Loss: 0.0628, Feature Loss: 0.0055, Position Loss: 0.0287\n",
      "Epoch: 022  LR: 0.001000\n",
      "\tTrain:\tTotal Loss: 0.0626, Feature Loss: 0.0055, Position Loss: 0.0286\n",
      "\tTest:\tTotal Loss: 0.0623, Feature Loss: 0.0053, Position Loss: 0.0285\n",
      "Epoch: 023  LR: 0.001000\n",
      "\tTrain:\tTotal Loss: 0.0621, Feature Loss: 0.0054, Position Loss: 0.0284\n",
      "\tTest:\tTotal Loss: 0.0618, Feature Loss: 0.0052, Position Loss: 0.0283\n",
      "Epoch: 024  LR: 0.001000\n",
      "\tTrain:\tTotal Loss: 0.0616, Feature Loss: 0.0053, Position Loss: 0.0282\n",
      "\tTest:\tTotal Loss: 0.0613, Feature Loss: 0.0051, Position Loss: 0.0281\n",
      "Epoch: 025  LR: 0.001000\n",
      "\tTrain:\tTotal Loss: 0.0611, Feature Loss: 0.0051, Position Loss: 0.0280\n",
      "\tTest:\tTotal Loss: 0.0608, Feature Loss: 0.0050, Position Loss: 0.0279\n",
      "Epoch: 026  LR: 0.001000\n",
      "\tTrain:\tTotal Loss: 0.0606, Feature Loss: 0.0050, Position Loss: 0.0278\n",
      "\tTest:\tTotal Loss: 0.0603, Feature Loss: 0.0049, Position Loss: 0.0277\n",
      "Epoch: 027  LR: 0.001000\n",
      "\tTrain:\tTotal Loss: 0.0601, Feature Loss: 0.0049, Position Loss: 0.0276\n",
      "\tTest:\tTotal Loss: 0.0597, Feature Loss: 0.0048, Position Loss: 0.0275\n",
      "Epoch: 028  LR: 0.001000\n",
      "\tTrain:\tTotal Loss: 0.0596, Feature Loss: 0.0048, Position Loss: 0.0274\n",
      "\tTest:\tTotal Loss: 0.0592, Feature Loss: 0.0047, Position Loss: 0.0273\n",
      "Epoch: 029  LR: 0.001000\n",
      "\tTrain:\tTotal Loss: 0.0590, Feature Loss: 0.0047, Position Loss: 0.0272\n",
      "\tTest:\tTotal Loss: 0.0587, Feature Loss: 0.0046, Position Loss: 0.0271\n",
      "Epoch: 030  LR: 0.001000\n",
      "\tTrain:\tTotal Loss: 0.0585, Feature Loss: 0.0046, Position Loss: 0.0269\n",
      "\tTest:\tTotal Loss: 0.0583, Feature Loss: 0.0045, Position Loss: 0.0269\n",
      "Epoch: 031  LR: 0.001000\n",
      "\tTrain:\tTotal Loss: 0.0580, Feature Loss: 0.0045, Position Loss: 0.0267\n",
      "\tTest:\tTotal Loss: 0.0578, Feature Loss: 0.0044, Position Loss: 0.0267\n",
      "Epoch: 032  LR: 0.001000\n",
      "\tTrain:\tTotal Loss: 0.0575, Feature Loss: 0.0044, Position Loss: 0.0265\n",
      "\tTest:\tTotal Loss: 0.0573, Feature Loss: 0.0043, Position Loss: 0.0265\n",
      "Epoch: 033  LR: 0.001000\n",
      "\tTrain:\tTotal Loss: 0.0570, Feature Loss: 0.0043, Position Loss: 0.0264\n",
      "\tTest:\tTotal Loss: 0.0568, Feature Loss: 0.0042, Position Loss: 0.0263\n",
      "Epoch: 034  LR: 0.001000\n",
      "\tTrain:\tTotal Loss: 0.0565, Feature Loss: 0.0042, Position Loss: 0.0262\n",
      "\tTest:\tTotal Loss: 0.0563, Feature Loss: 0.0041, Position Loss: 0.0261\n",
      "Epoch: 035  LR: 0.001000\n",
      "\tTrain:\tTotal Loss: 0.0561, Feature Loss: 0.0040, Position Loss: 0.0260\n",
      "\tTest:\tTotal Loss: 0.0559, Feature Loss: 0.0039, Position Loss: 0.0260\n",
      "Epoch: 036  LR: 0.001000\n",
      "\tTrain:\tTotal Loss: 0.0556, Feature Loss: 0.0039, Position Loss: 0.0258\n",
      "\tTest:\tTotal Loss: 0.0554, Feature Loss: 0.0038, Position Loss: 0.0258\n",
      "Epoch: 037  LR: 0.001000\n",
      "\tTrain:\tTotal Loss: 0.0551, Feature Loss: 0.0037, Position Loss: 0.0257\n",
      "\tTest:\tTotal Loss: 0.0550, Feature Loss: 0.0036, Position Loss: 0.0257\n",
      "Epoch: 038  LR: 0.001000\n",
      "\tTrain:\tTotal Loss: 0.0547, Feature Loss: 0.0036, Position Loss: 0.0256\n",
      "\tTest:\tTotal Loss: 0.0546, Feature Loss: 0.0035, Position Loss: 0.0256\n",
      "Epoch: 039  LR: 0.001000\n",
      "\tTrain:\tTotal Loss: 0.0543, Feature Loss: 0.0034, Position Loss: 0.0254\n",
      "\tTest:\tTotal Loss: 0.0542, Feature Loss: 0.0033, Position Loss: 0.0254\n",
      "Epoch: 040  LR: 0.001000\n",
      "\tTrain:\tTotal Loss: 0.0539, Feature Loss: 0.0032, Position Loss: 0.0253\n",
      "\tTest:\tTotal Loss: 0.0538, Feature Loss: 0.0031, Position Loss: 0.0253\n",
      "Epoch: 041  LR: 0.001000\n",
      "\tTrain:\tTotal Loss: 0.0535, Feature Loss: 0.0031, Position Loss: 0.0252\n",
      "\tTest:\tTotal Loss: 0.0534, Feature Loss: 0.0030, Position Loss: 0.0252\n",
      "Epoch: 042  LR: 0.001000\n",
      "\tTrain:\tTotal Loss: 0.0531, Feature Loss: 0.0029, Position Loss: 0.0251\n",
      "\tTest:\tTotal Loss: 0.0531, Feature Loss: 0.0028, Position Loss: 0.0252\n",
      "Epoch: 043  LR: 0.001000\n",
      "\tTrain:\tTotal Loss: 0.0528, Feature Loss: 0.0027, Position Loss: 0.0250\n",
      "\tTest:\tTotal Loss: 0.0528, Feature Loss: 0.0026, Position Loss: 0.0251\n",
      "Epoch: 044  LR: 0.001000\n",
      "\tTrain:\tTotal Loss: 0.0524, Feature Loss: 0.0026, Position Loss: 0.0249\n",
      "\tTest:\tTotal Loss: 0.0525, Feature Loss: 0.0025, Position Loss: 0.0250\n",
      "Epoch: 045  LR: 0.001000\n",
      "\tTrain:\tTotal Loss: 0.0521, Feature Loss: 0.0024, Position Loss: 0.0249\n",
      "\tTest:\tTotal Loss: 0.0522, Feature Loss: 0.0023, Position Loss: 0.0250\n",
      "Epoch: 046  LR: 0.001000\n",
      "\tTrain:\tTotal Loss: 0.0518, Feature Loss: 0.0022, Position Loss: 0.0248\n",
      "\tTest:\tTotal Loss: 0.0519, Feature Loss: 0.0021, Position Loss: 0.0249\n",
      "Epoch: 047  LR: 0.001000\n",
      "\tTrain:\tTotal Loss: 0.0516, Feature Loss: 0.0021, Position Loss: 0.0247\n",
      "\tTest:\tTotal Loss: 0.0517, Feature Loss: 0.0020, Position Loss: 0.0248\n",
      "Epoch: 048  LR: 0.001000\n",
      "\tTrain:\tTotal Loss: 0.0513, Feature Loss: 0.0019, Position Loss: 0.0247\n",
      "\tTest:\tTotal Loss: 0.0514, Feature Loss: 0.0018, Position Loss: 0.0248\n",
      "Epoch: 049  LR: 0.001000\n",
      "\tTrain:\tTotal Loss: 0.0511, Feature Loss: 0.0018, Position Loss: 0.0246\n",
      "\tTest:\tTotal Loss: 0.0512, Feature Loss: 0.0017, Position Loss: 0.0247\n",
      "Epoch: 050  LR: 0.001000\n",
      "\tTrain:\tTotal Loss: 0.0508, Feature Loss: 0.0017, Position Loss: 0.0246\n",
      "\tTest:\tTotal Loss: 0.0510, Feature Loss: 0.0016, Position Loss: 0.0247\n",
      "Epoch: 051  LR: 0.000500\n",
      "\tTrain:\tTotal Loss: 0.0506, Feature Loss: 0.0016, Position Loss: 0.0245\n",
      "\tTest:\tTotal Loss: 0.0509, Feature Loss: 0.0015, Position Loss: 0.0247\n",
      "Epoch: 052  LR: 0.000500\n",
      "\tTrain:\tTotal Loss: 0.0505, Feature Loss: 0.0015, Position Loss: 0.0245\n",
      "\tTest:\tTotal Loss: 0.0508, Feature Loss: 0.0015, Position Loss: 0.0246\n",
      "Epoch: 053  LR: 0.000500\n",
      "\tTrain:\tTotal Loss: 0.0504, Feature Loss: 0.0015, Position Loss: 0.0245\n",
      "\tTest:\tTotal Loss: 0.0507, Feature Loss: 0.0014, Position Loss: 0.0246\n",
      "Epoch: 054  LR: 0.000500\n",
      "\tTrain:\tTotal Loss: 0.0503, Feature Loss: 0.0014, Position Loss: 0.0245\n",
      "\tTest:\tTotal Loss: 0.0506, Feature Loss: 0.0014, Position Loss: 0.0246\n",
      "Epoch: 055  LR: 0.000500\n",
      "\tTrain:\tTotal Loss: 0.0502, Feature Loss: 0.0014, Position Loss: 0.0244\n",
      "\tTest:\tTotal Loss: 0.0505, Feature Loss: 0.0013, Position Loss: 0.0246\n",
      "Epoch: 056  LR: 0.000500\n",
      "\tTrain:\tTotal Loss: 0.0501, Feature Loss: 0.0013, Position Loss: 0.0244\n",
      "\tTest:\tTotal Loss: 0.0504, Feature Loss: 0.0013, Position Loss: 0.0246\n",
      "Epoch: 057  LR: 0.000500\n",
      "\tTrain:\tTotal Loss: 0.0500, Feature Loss: 0.0013, Position Loss: 0.0244\n",
      "\tTest:\tTotal Loss: 0.0503, Feature Loss: 0.0012, Position Loss: 0.0245\n",
      "Epoch: 058  LR: 0.000500\n",
      "\tTrain:\tTotal Loss: 0.0499, Feature Loss: 0.0012, Position Loss: 0.0243\n",
      "\tTest:\tTotal Loss: 0.0502, Feature Loss: 0.0012, Position Loss: 0.0245\n",
      "Epoch: 059  LR: 0.000500\n",
      "\tTrain:\tTotal Loss: 0.0498, Feature Loss: 0.0012, Position Loss: 0.0243\n",
      "\tTest:\tTotal Loss: 0.0501, Feature Loss: 0.0012, Position Loss: 0.0245\n",
      "Epoch: 060  LR: 0.000500\n",
      "\tTrain:\tTotal Loss: 0.0497, Feature Loss: 0.0011, Position Loss: 0.0243\n",
      "\tTest:\tTotal Loss: 0.0500, Feature Loss: 0.0011, Position Loss: 0.0245\n",
      "Epoch: 061  LR: 0.000500\n",
      "\tTrain:\tTotal Loss: 0.0496, Feature Loss: 0.0011, Position Loss: 0.0243\n",
      "\tTest:\tTotal Loss: 0.0499, Feature Loss: 0.0011, Position Loss: 0.0244\n",
      "Epoch: 062  LR: 0.000500\n",
      "\tTrain:\tTotal Loss: 0.0495, Feature Loss: 0.0011, Position Loss: 0.0242\n",
      "\tTest:\tTotal Loss: 0.0498, Feature Loss: 0.0010, Position Loss: 0.0244\n",
      "Epoch: 063  LR: 0.000500\n",
      "\tTrain:\tTotal Loss: 0.0494, Feature Loss: 0.0010, Position Loss: 0.0242\n",
      "\tTest:\tTotal Loss: 0.0498, Feature Loss: 0.0010, Position Loss: 0.0244\n",
      "Epoch: 064  LR: 0.000500\n",
      "\tTrain:\tTotal Loss: 0.0494, Feature Loss: 0.0010, Position Loss: 0.0242\n",
      "\tTest:\tTotal Loss: 0.0497, Feature Loss: 0.0010, Position Loss: 0.0243\n",
      "Epoch: 065  LR: 0.000500\n",
      "\tTrain:\tTotal Loss: 0.0493, Feature Loss: 0.0010, Position Loss: 0.0241\n",
      "\tTest:\tTotal Loss: 0.0496, Feature Loss: 0.0010, Position Loss: 0.0243\n",
      "Epoch: 066  LR: 0.000500\n",
      "\tTrain:\tTotal Loss: 0.0492, Feature Loss: 0.0010, Position Loss: 0.0241\n",
      "\tTest:\tTotal Loss: 0.0495, Feature Loss: 0.0009, Position Loss: 0.0243\n",
      "Epoch: 067  LR: 0.000500\n",
      "\tTrain:\tTotal Loss: 0.0491, Feature Loss: 0.0009, Position Loss: 0.0241\n",
      "\tTest:\tTotal Loss: 0.0494, Feature Loss: 0.0009, Position Loss: 0.0243\n",
      "Epoch: 068  LR: 0.000500\n",
      "\tTrain:\tTotal Loss: 0.0490, Feature Loss: 0.0009, Position Loss: 0.0241\n",
      "\tTest:\tTotal Loss: 0.0493, Feature Loss: 0.0009, Position Loss: 0.0242\n",
      "Epoch: 069  LR: 0.000500\n",
      "\tTrain:\tTotal Loss: 0.0489, Feature Loss: 0.0009, Position Loss: 0.0240\n",
      "\tTest:\tTotal Loss: 0.0492, Feature Loss: 0.0009, Position Loss: 0.0242\n",
      "Epoch: 070  LR: 0.000500\n",
      "\tTrain:\tTotal Loss: 0.0488, Feature Loss: 0.0009, Position Loss: 0.0240\n",
      "\tTest:\tTotal Loss: 0.0492, Feature Loss: 0.0009, Position Loss: 0.0242\n",
      "Epoch: 071  LR: 0.000500\n",
      "\tTrain:\tTotal Loss: 0.0487, Feature Loss: 0.0008, Position Loss: 0.0239\n",
      "\tTest:\tTotal Loss: 0.0491, Feature Loss: 0.0008, Position Loss: 0.0241\n",
      "Epoch: 072  LR: 0.000500\n",
      "\tTrain:\tTotal Loss: 0.0487, Feature Loss: 0.0008, Position Loss: 0.0239\n",
      "\tTest:\tTotal Loss: 0.0490, Feature Loss: 0.0008, Position Loss: 0.0241\n",
      "Epoch: 073  LR: 0.000500\n",
      "\tTrain:\tTotal Loss: 0.0486, Feature Loss: 0.0008, Position Loss: 0.0239\n",
      "\tTest:\tTotal Loss: 0.0489, Feature Loss: 0.0008, Position Loss: 0.0241\n",
      "Epoch: 074  LR: 0.000500\n",
      "\tTrain:\tTotal Loss: 0.0485, Feature Loss: 0.0008, Position Loss: 0.0238\n",
      "\tTest:\tTotal Loss: 0.0488, Feature Loss: 0.0008, Position Loss: 0.0240\n",
      "Epoch: 075  LR: 0.000500\n",
      "\tTrain:\tTotal Loss: 0.0484, Feature Loss: 0.0008, Position Loss: 0.0238\n",
      "\tTest:\tTotal Loss: 0.0488, Feature Loss: 0.0008, Position Loss: 0.0240\n",
      "Epoch: 076  LR: 0.000500\n",
      "\tTrain:\tTotal Loss: 0.0483, Feature Loss: 0.0008, Position Loss: 0.0238\n",
      "\tTest:\tTotal Loss: 0.0487, Feature Loss: 0.0008, Position Loss: 0.0239\n",
      "Epoch: 077  LR: 0.000500\n",
      "\tTrain:\tTotal Loss: 0.0483, Feature Loss: 0.0008, Position Loss: 0.0237\n",
      "\tTest:\tTotal Loss: 0.0486, Feature Loss: 0.0008, Position Loss: 0.0239\n",
      "Epoch: 078  LR: 0.000500\n",
      "\tTrain:\tTotal Loss: 0.0482, Feature Loss: 0.0008, Position Loss: 0.0237\n",
      "\tTest:\tTotal Loss: 0.0485, Feature Loss: 0.0008, Position Loss: 0.0239\n",
      "Epoch: 079  LR: 0.000500\n",
      "\tTrain:\tTotal Loss: 0.0480, Feature Loss: 0.0008, Position Loss: 0.0236\n",
      "\tTest:\tTotal Loss: 0.0484, Feature Loss: 0.0008, Position Loss: 0.0238\n",
      "Epoch: 080  LR: 0.000500\n",
      "\tTrain:\tTotal Loss: 0.0479, Feature Loss: 0.0008, Position Loss: 0.0236\n",
      "\tTest:\tTotal Loss: 0.0483, Feature Loss: 0.0008, Position Loss: 0.0237\n",
      "Epoch: 081  LR: 0.000500\n",
      "\tTrain:\tTotal Loss: 0.0479, Feature Loss: 0.0008, Position Loss: 0.0235\n",
      "\tTest:\tTotal Loss: 0.0482, Feature Loss: 0.0008, Position Loss: 0.0237\n",
      "Epoch: 082  LR: 0.000500\n",
      "\tTrain:\tTotal Loss: 0.0478, Feature Loss: 0.0008, Position Loss: 0.0235\n",
      "\tTest:\tTotal Loss: 0.0481, Feature Loss: 0.0008, Position Loss: 0.0237\n",
      "Epoch: 083  LR: 0.000500\n",
      "\tTrain:\tTotal Loss: 0.0477, Feature Loss: 0.0008, Position Loss: 0.0235\n",
      "\tTest:\tTotal Loss: 0.0480, Feature Loss: 0.0008, Position Loss: 0.0236\n",
      "Epoch: 084  LR: 0.000500\n",
      "\tTrain:\tTotal Loss: 0.0476, Feature Loss: 0.0008, Position Loss: 0.0234\n",
      "\tTest:\tTotal Loss: 0.0480, Feature Loss: 0.0008, Position Loss: 0.0236\n",
      "Epoch: 085  LR: 0.000500\n",
      "\tTrain:\tTotal Loss: 0.0475, Feature Loss: 0.0008, Position Loss: 0.0234\n",
      "\tTest:\tTotal Loss: 0.0479, Feature Loss: 0.0008, Position Loss: 0.0235\n",
      "Epoch: 086  LR: 0.000500\n",
      "\tTrain:\tTotal Loss: 0.0475, Feature Loss: 0.0008, Position Loss: 0.0233\n",
      "\tTest:\tTotal Loss: 0.0478, Feature Loss: 0.0008, Position Loss: 0.0235\n",
      "Epoch: 087  LR: 0.000500\n",
      "\tTrain:\tTotal Loss: 0.0474, Feature Loss: 0.0008, Position Loss: 0.0233\n",
      "\tTest:\tTotal Loss: 0.0478, Feature Loss: 0.0008, Position Loss: 0.0235\n",
      "Epoch: 088  LR: 0.000500\n",
      "\tTrain:\tTotal Loss: 0.0473, Feature Loss: 0.0008, Position Loss: 0.0233\n",
      "\tTest:\tTotal Loss: 0.0477, Feature Loss: 0.0008, Position Loss: 0.0235\n",
      "Epoch: 089  LR: 0.000500\n",
      "\tTrain:\tTotal Loss: 0.0473, Feature Loss: 0.0008, Position Loss: 0.0233\n",
      "\tTest:\tTotal Loss: 0.0476, Feature Loss: 0.0008, Position Loss: 0.0234\n",
      "Epoch: 090  LR: 0.000500\n",
      "\tTrain:\tTotal Loss: 0.0472, Feature Loss: 0.0008, Position Loss: 0.0232\n",
      "\tTest:\tTotal Loss: 0.0476, Feature Loss: 0.0008, Position Loss: 0.0234\n",
      "Epoch: 091  LR: 0.000500\n",
      "\tTrain:\tTotal Loss: 0.0472, Feature Loss: 0.0008, Position Loss: 0.0232\n",
      "\tTest:\tTotal Loss: 0.0475, Feature Loss: 0.0008, Position Loss: 0.0234\n",
      "Epoch: 092  LR: 0.000500\n",
      "\tTrain:\tTotal Loss: 0.0471, Feature Loss: 0.0008, Position Loss: 0.0232\n",
      "\tTest:\tTotal Loss: 0.0475, Feature Loss: 0.0008, Position Loss: 0.0233\n",
      "Epoch: 093  LR: 0.000500\n",
      "\tTrain:\tTotal Loss: 0.0471, Feature Loss: 0.0008, Position Loss: 0.0232\n",
      "\tTest:\tTotal Loss: 0.0474, Feature Loss: 0.0008, Position Loss: 0.0233\n",
      "Epoch: 094  LR: 0.000500\n",
      "\tTrain:\tTotal Loss: 0.0470, Feature Loss: 0.0008, Position Loss: 0.0231\n",
      "\tTest:\tTotal Loss: 0.0474, Feature Loss: 0.0008, Position Loss: 0.0233\n",
      "Epoch: 095  LR: 0.000500\n",
      "\tTrain:\tTotal Loss: 0.0470, Feature Loss: 0.0008, Position Loss: 0.0231\n",
      "\tTest:\tTotal Loss: 0.0473, Feature Loss: 0.0008, Position Loss: 0.0233\n",
      "Epoch: 096  LR: 0.000500\n",
      "\tTrain:\tTotal Loss: 0.0469, Feature Loss: 0.0008, Position Loss: 0.0231\n",
      "\tTest:\tTotal Loss: 0.0473, Feature Loss: 0.0008, Position Loss: 0.0232\n",
      "Epoch: 097  LR: 0.000500\n",
      "\tTrain:\tTotal Loss: 0.0469, Feature Loss: 0.0008, Position Loss: 0.0231\n",
      "\tTest:\tTotal Loss: 0.0472, Feature Loss: 0.0008, Position Loss: 0.0232\n",
      "Epoch: 098  LR: 0.000500\n",
      "\tTrain:\tTotal Loss: 0.0468, Feature Loss: 0.0008, Position Loss: 0.0230\n",
      "\tTest:\tTotal Loss: 0.0471, Feature Loss: 0.0008, Position Loss: 0.0232\n",
      "Epoch: 099  LR: 0.000500\n",
      "\tTrain:\tTotal Loss: 0.0468, Feature Loss: 0.0008, Position Loss: 0.0230\n",
      "\tTest:\tTotal Loss: 0.0471, Feature Loss: 0.0008, Position Loss: 0.0232\n",
      "Epoch: 100  LR: 0.000500\n",
      "\tTrain:\tTotal Loss: 0.0468, Feature Loss: 0.0008, Position Loss: 0.0230\n",
      "\tTest:\tTotal Loss: 0.0471, Feature Loss: 0.0008, Position Loss: 0.0232\n"
     ]
    }
   ],
   "source": [
    "train_total_losses = []\n",
    "train_feature_losses = []\n",
    "train_edge_losses = []\n",
    "train_kl_losses = []\n",
    "train_position_losses = []\n",
    "\n",
    "test_total_losses = []\n",
    "test_feature_losses = []\n",
    "test_edge_losses = []\n",
    "test_kl_losses = []\n",
    "test_position_losses = []\n",
    "\n",
    "\n",
    "\n",
    "\n",
    "for epoch in range(1, n_epochs + 1):\n",
    "    train_total_loss, train_feature_loss ,train_position_loss = train()\n",
    "    test_total_loss, test_feature_loss ,test_position_loss = test()\n",
    "    \n",
    "    print(f\"Epoch: {epoch:03d}  LR: {scheduler.get_last_lr()[0]:.6f}\")\n",
    "    print(f'\\tTrain:\\tTotal Loss: {train_total_loss:.4f}, Feature Loss: {train_feature_loss:.4f}, Position Loss: {train_position_loss:.4f}')\n",
    "    print(f'\\tTest:\\tTotal Loss: {test_total_loss:.4f}, Feature Loss: {test_feature_loss:.4f}, Position Loss: {test_position_loss:.4f}')\n",
    "\n",
    "    train_total_losses.append(train_total_loss)\n",
    "    train_feature_losses.append(train_feature_loss)\n",
    "    train_position_losses.append(train_position_loss)\n",
    "\n",
    "    test_total_losses.append(test_total_loss)\n",
    "    test_feature_losses.append(test_feature_loss)\n",
    "    test_position_losses.append(test_position_loss)\n",
    "    \n",
    "\n",
    "    scheduler.step()\n",
    "\n",
    "    torch.save(model,\"./models/\"+model_name)"
   ]
  },
  {
   "cell_type": "code",
   "execution_count": 27,
   "id": "1c078de3",
   "metadata": {},
   "outputs": [
    {
     "data": {
      "image/png": "[encoded data removed]",
      "text/plain": [
       "<Figure size 640x480 with 1 Axes>"
      ]
     },
     "metadata": {},
     "output_type": "display_data"
    }
   ],
   "source": [
    "plt.plot(train_feature_losses)\n",
    "\n",
    "plt.title(\"Test Feature Loss\")\n",
    "plt.legend(['Feature Loss', 'KL Loss'])\n",
    "plt.show()"
   ]
  },
  {
   "cell_type": "code",
   "execution_count": 28,
   "id": "099e4f2e",
   "metadata": {},
   "outputs": [
    {
     "data": {
      "text/plain": [
       "Text(0.5, 1.0, 'Test Position Loss')"
      ]
     },
     "execution_count": 28,
     "metadata": {},
     "output_type": "execute_result"
    },
    {
     "data": {
      "image/png": "[encoded data removed]",
      "text/plain": [
       "<Figure size 640x480 with 1 Axes>"
      ]
     },
     "metadata": {},
     "output_type": "display_data"
    }
   ],
   "source": [
    "plt.plot(train_position_losses)\n",
    "plt.title(\"Test Position Loss\")\n"
   ]
  },
  {
   "cell_type": "code",
   "execution_count": 29,
   "id": "7cf7bc6b",
   "metadata": {},
   "outputs": [
    {
     "name": "stdout",
     "output_type": "stream",
     "text": [
      "Average Error without scaling 0.014349208287476703\n",
      "Average Error with scaling 5.107797155526981\n"
     ]
    }
   ],
   "source": [
    "from torch.functional import F\n",
    "avg1 = 0\n",
    "avg2 = 0\n",
    "for ind in range(len(test_loader)):\n",
    "    graph = test_loader.dataset[ind]\n",
    "    input_x = graph.x\n",
    "    input_edge = graph.edge_index\n",
    "\n",
    "    decoded_x , z = model.forward(input_x, input_edge)\n",
    "\n",
    "    Error_wo_s = F.mse_loss(decoded_x, input_x).detach().numpy()\n",
    "\n",
    "    decoded_x = scaler.inverse_transform(decoded_x.detach().numpy())\n",
    "    input_x = scaler.inverse_transform(graph.x.detach().numpy())\n",
    "\n",
    "    Error_af_s = F.mse_loss(torch.from_numpy(decoded_x), torch.from_numpy(input_x)).detach().numpy()\n",
    "\n",
    "    z = z.detach().numpy()\n",
    "\n",
    "    avg1 += Error_wo_s\n",
    "    avg2 += Error_af_s\n",
    "    # print(input_x)\n",
    "# print(z)\n",
    "# print(decoded_x)\n",
    "\n",
    "print(\"Average Error without scaling\", avg1/len(test_loader))\n",
    "print(\"Average Error with scaling\", avg2/len(test_loader))"
   ]
  },
  {
   "cell_type": "code",
   "execution_count": null,
   "id": "7b47d12d",
   "metadata": {},
   "outputs": [],
   "source": []
  }
 ],
 "metadata": {
  "kernelspec": {
   "display_name": "GAENN",
   "language": "python",
   "name": "python3"
  },
  "language_info": {
   "codemirror_mode": {
    "name": "ipython",
    "version": 3
   },
   "file_extension": ".py",
   "mimetype": "text/x-python",
   "name": "python",
   "nbconvert_exporter": "python",
   "pygments_lexer": "ipython3",
   "version": "3.10.9"
  },
  "vscode": {
   "interpreter": {
    "hash": "80a33ba5fbbc6f374c4c23ec54f7c94fc3dd605e2ab2c49345e5901997a9893b"
   }
  }
 },
 "nbformat": 4,
 "nbformat_minor": 5
}
