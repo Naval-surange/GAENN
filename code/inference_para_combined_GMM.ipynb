{
 "cells": [
  {
   "cell_type": "code",
   "execution_count": 26,
   "metadata": {},
   "outputs": [],
   "source": [
    "import mdtraj as md\n",
    "from ase import Atoms\n",
    "import nglview as nv\n",
    "import networkx as nx\n",
    "\n",
    "import numpy as np\n",
    "import matplotlib.pyplot as plt\n",
    "import torch\n",
    "from tqdm import tqdm\n",
    "\n",
    "import torch_geometric.transforms as T\n",
    "from torch_geometric.loader import DataLoader\n",
    "from torch_geometric.nn import GCNConv, SAGPooling, InnerProductDecoder\n",
    "import torch_geometric.data as data\n",
    "from torch_geometric.utils.convert import to_networkx\n",
    "import torch.optim.lr_scheduler as lr_scheduler\n",
    "from torch.nn import Linear\n",
    "import sys\n",
    "import os\n",
    "import time\n",
    "\n"
   ]
  },
  {
   "cell_type": "code",
   "execution_count": 2,
   "metadata": {},
   "outputs": [],
   "source": [
    "all_frames_cry = md.load_xtc(\"../simulation/para_crystal.xtc\", top=\"../simulation/para_crystal.gro\")\n",
    "all_frames_melt = md.load_xtc(\"../simulation/para_melt.xtc\", top=\"../simulation/para_melt.gro\")"
   ]
  },
  {
   "cell_type": "code",
   "execution_count": 3,
   "metadata": {},
   "outputs": [],
   "source": [
    "all_frames_cry = all_frames_cry[::100]\n",
    "all_frames_melt = all_frames_melt[::100]"
   ]
  },
  {
   "cell_type": "code",
   "execution_count": 4,
   "metadata": {},
   "outputs": [],
   "source": [
    "n_frames = all_frames_cry.xyz.shape[0]\n",
    "n_atoms = all_frames_cry.topology.residue(0).n_atoms\n",
    "n_mols = all_frames_cry.topology.n_residues"
   ]
  },
  {
   "cell_type": "code",
   "execution_count": 5,
   "metadata": {},
   "outputs": [
    {
     "name": "stdout",
     "output_type": "stream",
     "text": [
      "51 20 864\n"
     ]
    }
   ],
   "source": [
    "print(n_frames, n_atoms, n_mols)"
   ]
  },
  {
   "cell_type": "code",
   "execution_count": 6,
   "metadata": {},
   "outputs": [],
   "source": [
    "\n",
    "def createGraph(all_frames,structure_type=\"crystal\",save=False):\n",
    "    all_frames_fatures = []\n",
    "\n",
    "    print(\"Creating Feature matrix\")\n",
    "    for i in tqdm(range(all_frames.xyz.shape[0])):\n",
    "        mol_com_pos = []\n",
    "\n",
    "        for res in all_frames.top.residues:\n",
    "            pos = []\n",
    "            for atom in res.atoms:\n",
    "                pos.append(all_frames.xyz[i][atom.index])\n",
    "            mol_com_pos.append(np.mean(pos,axis=0))\n",
    "            \n",
    "            # print()\n",
    "        mol_com_pos = np.array(mol_com_pos).astype(np.float32)  \n",
    "        all_frames_fatures.append(mol_com_pos)\n",
    "\n",
    "    all_frames_fatures = np.array(all_frames_fatures).astype(np.float32)\n",
    "    if save:\n",
    "        if(os.path.isdir(f\"./graphs/{structure_type}\") == False):\n",
    "            os.mkdir(f\"./graphs/{structure_type}\")\n",
    "        np.save(f\"./graphs/{structure_type}/feature_matrix.npy\",all_frames_fatures)\n",
    "    \n",
    "\n",
    "\n",
    "    cutoff = 0.8\n",
    "\n",
    "    print(\"Creating Edge list\")\n",
    "    all_edge_list = []\n",
    "    # with open(\"edge_list.txt\",\"w\") as f:\n",
    "    for frame_i in tqdm(range(n_frames)):\n",
    "        from_list = []\n",
    "        to_list = []\n",
    "\n",
    "        for i in range(len(all_frames_fatures[frame_i])):\n",
    "            for j in range(i+1,len(all_frames_fatures[frame_i])):\n",
    "                if np.linalg.norm(all_frames_fatures[frame_i][i]-all_frames_fatures[frame_i][j]) < cutoff:\n",
    "                    # f.write(str(i)+\" \"+str(j)+\" \"+str(np.linalg.norm(all_frames_fatures[frame_i][i]-all_frames_fatures[frame_i][j]))+\"\\n\")\n",
    "                    from_list.append(i)\n",
    "                    to_list.append(j)\n",
    "\n",
    "                    to_list.append(i)\n",
    "                    from_list.append(j)\n",
    "\n",
    "        edge_list = np.array([from_list,to_list]).astype(np.int64)\n",
    "        all_edge_list.append(edge_list)\n",
    "    \n",
    "    if save:\n",
    "        print(\"Saving Edge list\\n\")\n",
    "        for frame_i in tqdm(range(n_frames)):\n",
    "            np.save(f\"./graphs/{structure_type}/edge_list_\"+str(frame_i)+\".npy\",all_edge_list[frame_i])\n",
    "\n",
    "    print(\"creating Graphs\")\n",
    "    graphs = []\n",
    "    for frame in tqdm(range(n_frames)):\n",
    "        if structure_type == \"crystal\":\n",
    "            g = data.Data(x=torch.tensor(all_frames_fatures[frame]).float(), edge_index=torch.tensor(all_edge_list[frame]).long(), y=torch.tensor([0]))\n",
    "        else:\n",
    "            g = data.Data(x=torch.tensor(all_frames_fatures[frame]).float(), edge_index=torch.tensor(all_edge_list[frame]).long(), y=torch.tensor([1]))\n",
    "        graphs.append(g)\n",
    "    \n",
    "\n",
    "    return graphs"
   ]
  },
  {
   "cell_type": "code",
   "execution_count": 7,
   "metadata": {},
   "outputs": [],
   "source": [
    "def loadGraphs(folderName,nFrames):\n",
    "    all_frame_features = np.load(f\"./graphs/{folderName}/feature_matrix.npy\")\n",
    "    all_edge_list = []\n",
    "    for frame_i in tqdm(range(nFrames)):\n",
    "        all_edge_list.append(np.load(f\"./graphs/{folderName}/edge_list_\"+str(frame_i)+\".npy\"))\n",
    "\n",
    "    graphs = []\n",
    "    for frame in tqdm(range(nFrames)):\n",
    "        if folderName == \"crystal\":\n",
    "            g = data.Data(x=torch.tensor(all_frame_features[frame]).float(), edge_index=torch.tensor(all_edge_list[frame]).long(), y=torch.tensor([0]))\n",
    "        else:\n",
    "            g = data.Data(x=torch.tensor(all_frame_features[frame]).float(), edge_index=torch.tensor(all_edge_list[frame]).long(), y=torch.tensor([1]))\n",
    "        graphs.append(g)\n",
    "    return graphs"
   ]
  },
  {
   "cell_type": "code",
   "execution_count": 8,
   "metadata": {},
   "outputs": [
    {
     "name": "stderr",
     "output_type": "stream",
     "text": [
      "100%|██████████| 51/51 [00:00<00:00, 2457.23it/s]\n",
      "100%|██████████| 51/51 [00:00<00:00, 7246.75it/s]\n",
      "100%|██████████| 51/51 [00:00<00:00, 2621.34it/s]\n",
      "100%|██████████| 51/51 [00:00<00:00, 7038.58it/s]\n"
     ]
    }
   ],
   "source": [
    "graphs_cry = loadGraphs(\"crystal\",n_frames)\n",
    "graphs_melt = loadGraphs(\"melt\",n_frames)"
   ]
  },
  {
   "cell_type": "code",
   "execution_count": 7,
   "metadata": {},
   "outputs": [
    {
     "name": "stdout",
     "output_type": "stream",
     "text": [
      "Creating Feature matrix\n"
     ]
    },
    {
     "name": "stderr",
     "output_type": "stream",
     "text": [
      "100%|██████████| 51/51 [00:01<00:00, 27.77it/s]\n"
     ]
    },
    {
     "name": "stdout",
     "output_type": "stream",
     "text": [
      "Creating Edge list\n"
     ]
    },
    {
     "name": "stderr",
     "output_type": "stream",
     "text": [
      "100%|██████████| 51/51 [02:15<00:00,  2.66s/it]\n",
      "100%|██████████| 51/51 [00:00<00:00, 2625.46it/s]\n"
     ]
    },
    {
     "name": "stdout",
     "output_type": "stream",
     "text": [
      "creating Graphs\n"
     ]
    },
    {
     "name": "stderr",
     "output_type": "stream",
     "text": [
      "100%|██████████| 51/51 [00:00<00:00, 6274.29it/s]\n"
     ]
    },
    {
     "name": "stdout",
     "output_type": "stream",
     "text": [
      "Creating Feature matrix\n"
     ]
    },
    {
     "name": "stderr",
     "output_type": "stream",
     "text": [
      "100%|██████████| 51/51 [00:01<00:00, 29.79it/s]\n"
     ]
    },
    {
     "name": "stdout",
     "output_type": "stream",
     "text": [
      "Creating Edge list\n"
     ]
    },
    {
     "name": "stderr",
     "output_type": "stream",
     "text": [
      "100%|██████████| 51/51 [02:09<00:00,  2.53s/it]\n",
      "100%|██████████| 51/51 [00:00<00:00, 5012.64it/s]\n"
     ]
    },
    {
     "name": "stdout",
     "output_type": "stream",
     "text": [
      "creating Graphs\n"
     ]
    },
    {
     "name": "stderr",
     "output_type": "stream",
     "text": [
      "100%|██████████| 51/51 [00:00<00:00, 6321.39it/s]\n"
     ]
    }
   ],
   "source": [
    "graphs_cry = createGraph(all_frames_cry,structure_type=\"crystal\",save=True)\n",
    "graphs_melt = createGraph(all_frames_melt,structure_type=\"melt\",save=True)\n",
    "\n"
   ]
  },
  {
   "cell_type": "code",
   "execution_count": 9,
   "metadata": {},
   "outputs": [],
   "source": [
    "def convert_to_adj(edge_index, num_nodes=None):\n",
    "    if num_nodes is None:\n",
    "        num_nodes = edge_index.max() + 1\n",
    "    adj = torch.zeros(num_nodes, num_nodes)\n",
    "    adj[edge_index[0], edge_index[1]] = 1\n",
    "    return adj\n",
    "\n",
    "def convert_to_edge_index(adj):\n",
    "    edge_index = adj.nonzero().t()\n",
    "    return edge_index"
   ]
  },
  {
   "cell_type": "code",
   "execution_count": 10,
   "metadata": {},
   "outputs": [],
   "source": [
    "graphs = graphs_cry + graphs_melt"
   ]
  },
  {
   "cell_type": "code",
   "execution_count": 11,
   "metadata": {},
   "outputs": [],
   "source": [
    "# shuffle the graphs\n",
    "np.random.shuffle(graphs)"
   ]
  },
  {
   "attachments": {},
   "cell_type": "markdown",
   "metadata": {},
   "source": [
    "## model"
   ]
  },
  {
   "cell_type": "code",
   "execution_count": 12,
   "metadata": {},
   "outputs": [],
   "source": [
    "from typing import Optional, Tuple\n",
    "\n",
    "import torch\n",
    "from torch import Tensor\n",
    "from torch.nn import Module\n",
    "\n",
    "from torch_geometric.nn.inits import reset\n",
    "from torch_geometric.utils import negative_sampling\n",
    "\n",
    "EPS = 1e-15\n",
    "MAX_LOGSTD = 10\n",
    "edgeShape = None\n",
    "featureShape = None\n",
    "\n",
    "\n",
    "class InnerProductDecoder(torch.nn.Module):\n",
    "    r\"\"\"The inner product decoder from the `\"Variational Graph Auto-Encoders\"\n",
    "    <https://arxiv.org/abs/1611.07308>`_ paper\n",
    "\n",
    "    .. math::\n",
    "        \\sigma(\\mathbf{Z}\\mathbf{Z}^{\\top})\n",
    "\n",
    "    where :math:`\\mathbf{Z} \\in \\mathbb{R}^{N \\times d}` denotes the latent\n",
    "    space produced by the encoder.\"\"\"\n",
    "\n",
    "    def forward(self, z: Tensor, edge_index: Tensor,\n",
    "                sigmoid: bool = True) -> Tensor:\n",
    "        r\"\"\"Decodes the latent variables :obj:`z` into edge probabilities for\n",
    "        the given node-pairs :obj:`edge_index`.\n",
    "\n",
    "        Args:\n",
    "            z (torch.Tensor): The latent space :math:`\\mathbf{Z}`.\n",
    "            sigmoid (bool, optional): If set to :obj:`False`, does not apply\n",
    "                the logistic sigmoid function to the output.\n",
    "                (default: :obj:`True`)\n",
    "        \"\"\"\n",
    "        value = (z[edge_index[0]] * z[edge_index[1]]).sum(dim=1)\n",
    "        return torch.sigmoid(value) if sigmoid else value\n",
    "\n",
    "    def forward_all(self, z: Tensor, sigmoid: bool = True) -> Tensor:\n",
    "        r\"\"\"Decodes the latent variables :obj:`z` into a probabilistic dense\n",
    "        adjacency matrix.\n",
    "\n",
    "        Args:\n",
    "            z (torch.Tensor): The latent space :math:`\\mathbf{Z}`.\n",
    "            sigmoid (bool, optional): If set to :obj:`False`, does not apply\n",
    "                the logistic sigmoid function to the output.\n",
    "                (default: :obj:`True`)\n",
    "        \"\"\"\n",
    "        adj = torch.matmul(z, z.t())\n",
    "        return torch.sigmoid(adj) if sigmoid else adj\n",
    "\n",
    "\n",
    "class GAE(torch.nn.Module):\n",
    "    r\"\"\"The Graph Auto-Encoder model from the\n",
    "    `\"Variational Graph Auto-Encoders\" <https://arxiv.org/abs/1611.07308>`_\n",
    "    paper based on user-defined encoder and decoder models.\n",
    "\n",
    "    Args:\n",
    "        encoder (torch.nn.Module): The encoder module.\n",
    "        decoder (torch.nn.Module, optional): The decoder module. If set to\n",
    "            :obj:`None`, will default to the\n",
    "            :class:`torch_geometric.nn.models.InnerProductDecoder`.\n",
    "            (default: :obj:`None`)\n",
    "    \"\"\"\n",
    "\n",
    "    def __init__(self, encoder: Module, decoder: Optional[Module] = None):\n",
    "        super().__init__()\n",
    "        self.encoder = encoder\n",
    "        self.decoder = InnerProductDecoder() if decoder is None else decoder\n",
    "        GAE.reset_parameters(self)\n",
    "\n",
    "    def reset_parameters(self):\n",
    "        r\"\"\"Resets all learnable parameters of the module.\"\"\"\n",
    "        reset(self.encoder)\n",
    "        reset(self.decoder)\n",
    "\n",
    "    def forward(self, *args, **kwargs) -> Tensor:  # pragma: no cover\n",
    "        r\"\"\"Alias for :meth:`encode`.\"\"\"\n",
    "        return self.encoder(*args, **kwargs)\n",
    "\n",
    "    def encode(self, *args, **kwargs) -> Tensor:\n",
    "        r\"\"\"Runs the encoder and computes node-wise latent variables.\"\"\"\n",
    "        return self.encoder(*args, **kwargs)\n",
    "\n",
    "    def decode(self, *args, **kwargs) -> Tensor:\n",
    "        r\"\"\"Runs the decoder and computes edge probabilities.\"\"\"\n",
    "        return self.decoder(*args, **kwargs)\n",
    "\n",
    "    def recon_loss(self, z: Tensor, pos_edge_index: Tensor,\n",
    "                   neg_edge_index: Optional[Tensor] = None) -> Tensor:\n",
    "        r\"\"\"Given latent variables :obj:`z`, computes the binary cross\n",
    "        entropy loss for positive edges :obj:`pos_edge_index` and negative\n",
    "        sampled edges.\n",
    "\n",
    "        Args:\n",
    "            z (torch.Tensor): The latent space :math:`\\mathbf{Z}`.\n",
    "            pos_edge_index (torch.Tensor): The positive edges to train against.\n",
    "            neg_edge_index (torch.Tensor, optional): The negative edges to\n",
    "                train against. If not given, uses negative sampling to\n",
    "                calculate negative edges. (default: :obj:`None`)\n",
    "        \"\"\"\n",
    "        pos_loss = -torch.log(\n",
    "            self.decoder(z, pos_edge_index, sigmoid=True)[0] + EPS).mean()\n",
    "\n",
    "        if neg_edge_index is None:\n",
    "            neg_edge_index = negative_sampling(pos_edge_index, z.size(0))\n",
    "        neg_loss = -torch.log(1 -\n",
    "                              self.decoder(z, neg_edge_index.long(), sigmoid=True)[0] +\n",
    "                              EPS).mean()\n",
    "\n",
    "        return pos_loss + neg_loss\n",
    "\n",
    "    def test(self, z: Tensor, pos_edge_index: Tensor,\n",
    "             neg_edge_index: Tensor) -> Tuple[Tensor, Tensor]:\n",
    "        r\"\"\"Given latent variables :obj:`z`, positive edges\n",
    "        :obj:`pos_edge_index` and negative edges :obj:`neg_edge_index`,\n",
    "        computes area under the ROC curve (AUC) and average precision (AP)\n",
    "        \n",
    "        scores.\n",
    "\n",
    "        Args:\n",
    "            z (torch.Tensor): The latent space :math:`\\mathbf{Z}`.\n",
    "            pos_edge_index (torch.Tensor): The positive edges to evaluate\n",
    "                against.\n",
    "            neg_edge_index (torch.Tensor): The negative edges to evaluate\n",
    "                against.\n",
    "        \"\"\"\n",
    "        from sklearn.metrics import average_precision_score, roc_auc_score\n",
    "\n",
    "        pos_y = z.new_ones(pos_edge_index.size(1))\n",
    "        neg_y = z.new_zeros(neg_edge_index.size(1))\n",
    "        y = torch.cat([pos_y, neg_y], dim=0)\n",
    "\n",
    "        pos_pred = self.decoder(z, pos_edge_index, sigmoid=True)\n",
    "        neg_pred = self.decoder(z, neg_edge_index, sigmoid=True)\n",
    "        pred = torch.cat([pos_pred, neg_pred], dim=0)\n",
    "\n",
    "        y, pred = y.detach().cpu().numpy(), pred.detach().cpu().numpy()\n",
    "\n",
    "        return roc_auc_score(y, pred), average_precision_score(y, pred)\n",
    "\n",
    "\n",
    "class VGAE(GAE):\n",
    "    r\"\"\"The Variational Graph Auto-Encoder model from the\n",
    "    `\"Variational Graph Auto-Encoders\" <https://arxiv.org/abs/1611.07308>`_\n",
    "    paper.\n",
    "\n",
    "    Args:\n",
    "        encoder (torch.nn.Module): The encoder module to compute :math:`\\mu`\n",
    "            and :math:`\\log\\sigma^2`.\n",
    "        decoder (torch.nn.Module, optional): The decoder module. If set to\n",
    "            :obj:`None`, will default to the\n",
    "            :class:`torch_geometric.nn.models.InnerProductDecoder`.\n",
    "            (default: :obj:`None`)\n",
    "    \"\"\"\n",
    "\n",
    "    def __init__(self, encoder: Module, decoder: Optional[Module] = None):\n",
    "        super().__init__(encoder, decoder)\n",
    "\n",
    "    def reparametrize(self, mu: Tensor, logstd: Tensor) -> Tensor:\n",
    "        if self.training:\n",
    "            return mu + torch.randn_like(logstd) * torch.exp(logstd)\n",
    "        else:\n",
    "            return mu\n",
    "    \n",
    "    def encode(self, *args, **kwargs) -> Tensor:\n",
    "        \"\"\"\"\"\"\n",
    "        z, self.edge_index = self.encoder(\n",
    "            *args, **kwargs)\n",
    "        \n",
    "        return z, self.edge_index\n",
    "\n",
    "    def kl_loss(self, mu: Optional[Tensor] = None,\n",
    "                logstd: Optional[Tensor] = None) -> Tensor:\n",
    "        r\"\"\"Computes the KL loss, either for the passed arguments :obj:`mu`\n",
    "        and :obj:`logstd`, or based on latent variables from last encoding.\n",
    "\n",
    "        Args:\n",
    "            mu (torch.Tensor, optional): The latent space for :math:`\\mu`. If\n",
    "                set to :obj:`None`, uses the last computation of :math:`\\mu`.\n",
    "                (default: :obj:`None`)\n",
    "            logstd (torch.Tensor, optional): The latent space for\n",
    "                :math:`\\log\\sigma`.  If set to :obj:`None`, uses the last\n",
    "                computation of :math:`\\log\\sigma^2`. (default: :obj:`None`)\n",
    "        \"\"\"\n",
    "        mu = self.__mu__ if mu is None else mu\n",
    "        logstd = self.__logstd__ if logstd is None else logstd.clamp(\n",
    "            max=MAX_LOGSTD)\n",
    "        return -0.5 * torch.mean(\n",
    "            torch.sum(1 + 2 * logstd - mu**2 - logstd.exp()**2, dim=1))\n"
   ]
  },
  {
   "cell_type": "code",
   "execution_count": 13,
   "metadata": {},
   "outputs": [],
   "source": [
    "import torch.nn.functional as F\n",
    "\n",
    "\n",
    "\n",
    "class VariationalGCNEncoder(torch.nn.Module):\n",
    "    def __init__(self, in_channels, out_channels):\n",
    "        super().__init__()\n",
    "        self.conv1 = GCNConv(in_channels, 2 * out_channels)\n",
    "        self.conv2 = GCNConv(2*out_channels, 1 * out_channels)\n",
    "        self.pool = SAGPooling(out_channels, 0.5)\n",
    "        \n",
    "        self.conv_mu = GCNConv(1 * out_channels, out_channels)\n",
    "        self.conv_logstd = GCNConv(1 * out_channels, out_channels)\n",
    "        self.conv_mu_crystal = GCNConv(1 * out_channels, out_channels)\n",
    "        self.conv_logstd_crystal = GCNConv(1 * out_channels, out_channels)\n",
    "        self.conv_mu_melt = GCNConv(1 * out_channels, out_channels)\n",
    "        self.conv_logstd_melt = GCNConv(1 * out_channels, out_channels)\n",
    "    \n",
    "    def reparametrize(self, mu: Tensor, logstd: Tensor) -> Tensor:\n",
    "        if self.training:\n",
    "            return mu + torch.randn_like(logstd) * torch.exp(logstd)\n",
    "        else:\n",
    "            return mu\n",
    "    \n",
    "    def forward(self, x, edge_index,class_label):\n",
    "        # print(\"input:\",x.shape, edge_index.shape)\n",
    "        x = self.conv1(x, edge_index)\n",
    "        x = F.silu(x)\n",
    "        # print(\"conv1:\",x.shape, edge_index.shape)\n",
    "        x = self.conv2(x, edge_index)\n",
    "        x = F.silu(x)\n",
    "        # print(\"conv2:\",x.shape, edge_index.shape)\n",
    "\n",
    "        sample = self.reparametrize(self.conv_mu(x, edge_index), self.conv_logstd(x, edge_index))\n",
    "        \n",
    "        sample_crystal = self.reparametrize(self.conv_mu_crystal(sample, edge_index), self.conv_logstd_crystal(sample, edge_index))\n",
    "        sample_melt = self.reparametrize(self.conv_mu_melt(sample, edge_index), self.conv_logstd_melt(sample, edge_index))\n",
    "\n",
    "        self.conv_mu_crystal.train(True)\n",
    "        self.conv_logstd_crystal.train(True)\n",
    "        self.conv_mu_melt.train(True)\n",
    "        self.conv_logstd_melt.train(True)\n",
    "\n",
    "\n",
    "        if class_label == 0:\n",
    "            self.conv_mu_melt.train(False)\n",
    "            self.conv_logstd_melt.train(False)\n",
    "            return sample_crystal, edge_index\n",
    "        else:\n",
    "            self.conv_mu_crystal.train(False)\n",
    "            self.conv_logstd_crystal.train(False)\n",
    "            return sample_melt, edge_index\n",
    "\n",
    "        \n",
    "        \n"
   ]
  },
  {
   "cell_type": "code",
   "execution_count": 14,
   "metadata": {},
   "outputs": [],
   "source": [
    "class VariationalGCNDecoder(torch.nn.Module):\n",
    "    def __init__(self,in_channels,out_channels):\n",
    "        super().__init__()\n",
    "        self.type_layer1 = Linear(1728,200)\n",
    "        self.dropout = torch.nn.Dropout(0.5)\n",
    "        self.type_layer2 = Linear(200,2)\n",
    "\n",
    "        self.conv1 = GCNConv(in_channels, 2 * out_channels)\n",
    "        self.conv2 = GCNConv(2 * out_channels, 1 * out_channels)\n",
    "    def forward(self, x, edge_index, sigmoid=True):\n",
    "        # print(\"input:\",x.shape, edge_index.shape)\n",
    "        flat = x.flatten()\n",
    "        flat = self.type_layer1(flat).relu()\n",
    "        flat = self.dropout(flat)\n",
    "        str_type = F.softmax(self.type_layer2(flat).relu(),dim=0)\n",
    "         \n",
    "        x = self.conv1(x, edge_index)\n",
    "        x = F.silu(x)\n",
    "        # print(\"conv1:\",x.shape, edge_index.shape)\n",
    "        x = self.conv2(x, edge_index)\n",
    "        x = F.silu(x)\n",
    "        # print(\"conv2:\",x.shape, edge_index.shape)\n",
    "        return x, edge_index,str_type"
   ]
  },
  {
   "cell_type": "code",
   "execution_count": 15,
   "metadata": {},
   "outputs": [],
   "source": [
    "import os\n",
    "in_channels = graphs[0].num_features\n",
    "out_channels = 2\n",
    "lr = 1e-4\n",
    "n_epochs = 200\n",
    "batch_size=1\n",
    "test_train_split = 0.8\n",
    "model_name = \"InterGVAE_para_combined_GMM.pt\"\n",
    "model_loaded = False\n",
    "force_train = False  \n",
    "\n",
    "if os.path.exists(\"./models/\"+model_name) and not force_train:\n",
    "    model = torch.load(\"./models/\"+model_name)\n",
    "    model_loaded = True\n",
    "else:\n",
    "    model = VGAE(VariationalGCNEncoder(in_channels, out_channels),\n",
    "                VariationalGCNDecoder(out_channels, in_channels))\n",
    "\n",
    "optimizer = torch.optim.Adam(model.parameters(), lr=lr)\n",
    "scheduler = lr_scheduler.StepLR(optimizer, step_size=300, gamma=0.5)"
   ]
  },
  {
   "cell_type": "code",
   "execution_count": 16,
   "metadata": {},
   "outputs": [
    {
     "data": {
      "text/plain": [
       "True"
      ]
     },
     "execution_count": 16,
     "metadata": {},
     "output_type": "execute_result"
    }
   ],
   "source": [
    "model_loaded"
   ]
  },
  {
   "cell_type": "code",
   "execution_count": 17,
   "metadata": {},
   "outputs": [],
   "source": [
    "train_loader = DataLoader(graphs[:int(n_frames*test_train_split)], batch_size=batch_size, shuffle=True)\n",
    "test_loader = DataLoader(graphs[int(n_frames*test_train_split):], batch_size=batch_size, shuffle=True)"
   ]
  },
  {
   "cell_type": "code",
   "execution_count": 18,
   "metadata": {},
   "outputs": [],
   "source": [
    "lossFxn = torch.nn.MSELoss()\n",
    "typeLossFxn = torch.nn.CrossEntropyLoss()\n",
    "\n",
    "def train():\n",
    "    model.train()\n",
    "    model.zero_grad()\n",
    "    model.float()\n",
    "    loss_all = 0\n",
    "    feature_loss_all = 0\n",
    "    edge_loss_all = 0\n",
    "    kl_loss_all = 0\n",
    "    type_loss_all = 0\n",
    "    for data in train_loader:\n",
    "        optimizer.zero_grad()\n",
    "        z,encoded_edge_index = model.encode(data.x, data.edge_index,data.y)\n",
    "        decoded_x, decoded_edge_index ,str_type= model.decode(z, encoded_edge_index)\n",
    "\n",
    "     \n",
    "        # TypeLoss = typeLossFxn(str_type.unsqueeze(0), data.y)\n",
    "        FeatureLoss = lossFxn(decoded_x, data.x)\n",
    "        EdgeLoss = lossFxn(decoded_edge_index.float(), data.edge_index)\n",
    "        loss = FeatureLoss + EdgeLoss \n",
    "\n",
    "        loss_all +=  float(loss)\n",
    "        feature_loss_all += float(FeatureLoss)\n",
    "        edge_loss_all += float(EdgeLoss)\n",
    "        # type_loss_all += float(TypeLoss)\n",
    "\n",
    "        loss.backward()\n",
    "        optimizer.step()\n",
    "        \n",
    "\n",
    "    return loss_all / len(train_loader), feature_loss_all / len(train_loader), edge_loss_all / len(train_loader), kl_loss_all / len(train_loader), type_loss_all / len(train_loader)"
   ]
  },
  {
   "cell_type": "code",
   "execution_count": 19,
   "metadata": {},
   "outputs": [],
   "source": [
    "lossFxn = torch.nn.MSELoss()\n",
    "def test():\n",
    "    model.eval()\n",
    "    model.zero_grad()\n",
    "    model.float()\n",
    "    loss_all = 0\n",
    "    feature_loss_all = 0\n",
    "    edge_loss_all = 0\n",
    "    kl_loss_all = 0\n",
    "    type_loss_all = 0\n",
    "\n",
    "    for data in test_loader:\n",
    "        optimizer.zero_grad()\n",
    "        z,encoded_edge_index = model.encode(data.x, data.edge_index,data.y)\n",
    "        decoded_x, decoded_edge_index ,str_type= model.decode(z, encoded_edge_index)\n",
    "        \n",
    "        # TypeLoss = typeLossFxn(str_type.unsqueeze(0), data.y)\n",
    "        FeatureLoss = lossFxn(decoded_x, data.x)\n",
    "        EdgeLoss = lossFxn(decoded_edge_index.float(), data.edge_index)\n",
    "        loss = FeatureLoss + EdgeLoss \n",
    "\n",
    "        loss_all +=  float(loss)\n",
    "        feature_loss_all += float(FeatureLoss)\n",
    "        edge_loss_all += float(EdgeLoss)\n",
    "        # type_loss_all += float(TypeLoss)\n",
    "        \n",
    "        \n",
    "        \n",
    "\n",
    "    return loss_all / len(test_loader), feature_loss_all / len(test_loader), edge_loss_all / len(test_loader), kl_loss_all / len(test_loader), type_loss_all / len(test_loader)"
   ]
  },
  {
   "cell_type": "code",
   "execution_count": 20,
   "metadata": {},
   "outputs": [
    {
     "name": "stdout",
     "output_type": "stream",
     "text": [
      "Pretrained Model Loaded, no training required\n"
     ]
    }
   ],
   "source": [
    "train_total_losses = []\n",
    "train_feature_losses = []\n",
    "train_edge_losses = []\n",
    "train_kl_losses = []\n",
    "train_type_losses = []\n",
    "\n",
    "test_total_losses = []\n",
    "test_feature_losses = []\n",
    "test_edge_losses = []\n",
    "test_kl_losses = []\n",
    "test_type_losses = []\n",
    "\n",
    "if model_loaded:        \n",
    "    print(\"Pretrained Model Loaded, no training required\")\n",
    "else:\n",
    "    for epoch in range(1, n_epochs + 1):\n",
    "        \n",
    "        train_total_loss, train_feature_loss, train_edge_loss, train_kl_loss,train_type_loss = train()\n",
    "        test_total_loss, test_feature_loss, test_edge_loss, test_kl_loss, test_type_loss= test()\n",
    "        \n",
    "        print(f\"Epoch: {epoch:03d}\")\n",
    "        print(f'\\tTrain:\\tTotal Loss: {train_total_loss:.4f}, Feature Loss: {train_feature_loss:.4f}, Type Loss: {train_type_loss:.4f} ,  LR: {scheduler.get_last_lr()[0]:.6f}')\n",
    "        print(f'\\tTest: \\tTotal Loss: {test_total_loss:.4f}, Feature Loss: {test_feature_loss:.4f}, Type Loss: {test_type_loss:.4f} , LR: {scheduler.get_last_lr()[0]:.6f}')\n",
    "        \n",
    "        \n",
    "        train_total_losses.append(train_total_loss)\n",
    "        train_feature_losses.append(train_feature_loss)\n",
    "        train_edge_losses.append(train_edge_loss)\n",
    "        train_kl_losses.append(train_kl_loss)\n",
    "        train_type_losses.append(train_type_loss)\n",
    "\n",
    "\n",
    "        test_total_losses.append(test_total_loss)\n",
    "        test_feature_losses.append(test_feature_loss)\n",
    "        test_edge_losses.append(test_edge_loss)\n",
    "        test_kl_losses.append(test_kl_loss)\n",
    "        test_type_losses.append(test_type_loss)\n",
    "        \n",
    "        scheduler.step()\n",
    "    torch.save(model,\"./models/\"+model_name)"
   ]
  },
  {
   "cell_type": "code",
   "execution_count": 21,
   "metadata": {},
   "outputs": [],
   "source": [
    "\n",
    "if not model_loaded:\n",
    "    plt.figure(figsize=(14, 5))\n",
    "    plt.plot(test_total_losses, label='Total Test Loss')\n",
    "    plt.plot(train_total_losses, label='Total Train Loss')\n",
    "    plt.legend()\n",
    "    plt.title('Total Loss')\n",
    "    plt.show()"
   ]
  },
  {
   "cell_type": "code",
   "execution_count": 22,
   "metadata": {},
   "outputs": [],
   "source": [
    "if not model_loaded:\n",
    "    plt.figure(figsize=(14, 5))\n",
    "    plt.plot(test_feature_losses, label='Test Feature Loss')\n",
    "    plt.plot(train_feature_losses, label='Train Feature Loss')\n",
    "    plt.legend()\n",
    "    plt.title('Feature Loss')\n",
    "    plt.show()"
   ]
  },
  {
   "cell_type": "code",
   "execution_count": 23,
   "metadata": {},
   "outputs": [],
   "source": [
    "test_loader_melt = DataLoader(graphs_melt, batch_size=1)\n",
    "encoded_data_melt=[]\n",
    "type_data_melt = []\n",
    "for data in test_loader:\n",
    "    model.eval()\n",
    "    z,encoded_edge_index = model.encode(data.x, data.edge_index,data.y)\n",
    "    decoded_x, decoded_edge_index ,str_type= model.decode(z, encoded_edge_index)\n",
    "    encoded_data_melt.append(z.detach().numpy())\n",
    "    type_data_melt.append(str_type.detach().numpy())\n",
    "\n",
    "encoded_data_melt = np.array(encoded_data_melt)\n",
    "type_data_melt = np.array(type_data_melt)"
   ]
  },
  {
   "cell_type": "code",
   "execution_count": 24,
   "metadata": {},
   "outputs": [],
   "source": [
    "test_loader_cry = DataLoader(graphs_cry, batch_size=1)\n",
    "encoded_data_cry=[]\n",
    "type_data_cry = []\n",
    "for data in test_loader:\n",
    "    model.eval()\n",
    "    z,encoded_edge_index = model.encode(data.x, data.edge_index,data.y)\n",
    "    decoded_x, decoded_edge_index ,str_type= model.decode(z, encoded_edge_index)\n",
    "    encoded_data_cry.append(z.detach().numpy())\n",
    "    type_data_cry.append(str_type.detach().numpy())\n",
    "\n",
    "encoded_data_cry = np.array(encoded_data_cry)\n",
    "type_data_cry = np.array(type_data_cry)\n",
    "    "
   ]
  },
  {
   "cell_type": "code",
   "execution_count": 25,
   "metadata": {},
   "outputs": [
    {
     "data": {
      "application/vnd.jupyter.widget-view+json": {
       "model_id": "3a06da2d5f974879ae9964267220e807",
       "version_major": 2,
       "version_minor": 0
      },
      "image/png": "[encoded data removed]",
      "text/html": [
       "\n",
       "            <div style=\"display: inline-block;\">\n",
       "                <div class=\"jupyter-widgets widget-label\" style=\"text-align: center;\">\n",
       "                    Figure\n",
       "                </div>\n",
       "                <img src='data:image/png;base64,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' width=1500.0/>\n",
       "            </div>\n",
       "        "
      ],
      "text/plain": [
       "Canvas(toolbar=Toolbar(toolitems=[('Home', 'Reset original view', 'home', 'home'), ('Back', 'Back to previous …"
      ]
     },
     "metadata": {},
     "output_type": "display_data"
    },
    {
     "data": {
      "text/plain": [
       "<matplotlib.legend.Legend at 0x7f06eef2de20>"
      ]
     },
     "execution_count": 25,
     "metadata": {},
     "output_type": "execute_result"
    }
   ],
   "source": [
    "%matplotlib widget\n",
    "\n",
    "frame = 10\n",
    "\n",
    "fig = plt.figure(figsize=(15,4))\n",
    "data_melt = encoded_data_melt[frame]\n",
    "\n",
    "data_cry = encoded_data_cry[frame]\n",
    "plt.scatter(data_melt[:,0],data_melt[:,1],c=\"r\",label=\"melt\")\n",
    "plt.scatter(data_cry[:,0],data_cry[:,1],c=\"b\",label=\"crystal\")\n",
    "plt.show()\n",
    "plt.legend()"
   ]
  },
  {
   "cell_type": "code",
   "execution_count": null,
   "metadata": {},
   "outputs": [],
   "source": []
  }
 ],
 "metadata": {
  "kernelspec": {
   "display_name": "GAENN",
   "language": "python",
   "name": "python3"
  },
  "language_info": {
   "codemirror_mode": {
    "name": "ipython",
    "version": 3
   },
   "file_extension": ".py",
   "mimetype": "text/x-python",
   "name": "python",
   "nbconvert_exporter": "python",
   "pygments_lexer": "ipython3",
   "version": "3.8.16"
  },
  "orig_nbformat": 4,
  "vscode": {
   "interpreter": {
    "hash": "80a33ba5fbbc6f374c4c23ec54f7c94fc3dd605e2ab2c49345e5901997a9893b"
   }
  }
 },
 "nbformat": 4,
 "nbformat_minor": 2
}
